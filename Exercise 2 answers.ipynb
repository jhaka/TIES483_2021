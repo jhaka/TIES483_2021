{
 "cells": [
  {
   "cell_type": "markdown",
   "metadata": {
    "slideshow": {
     "slide_type": "slide"
    }
   },
   "source": [
    "# Exercise 2 - Answers"
   ]
  },
  {
   "cell_type": "markdown",
   "metadata": {
    "slideshow": {
     "slide_type": "slide"
    }
   },
   "source": [
    "## Task 1\n",
    "* max 2 points, 1 point for correct obj function, 1 point for correct constraint\n"
   ]
  },
  {
   "cell_type": "markdown",
   "metadata": {},
   "source": [
    "The profit that you make **for each kwH** is $2-0.01x^2-(1-0.01x)$. Thus, the amount of profit that you make is\n",
    "$$\n",
    "(1+0.01x-0.01x^2)x=x+0.01x^2-0.01x^3.\n",
    "$$\n",
    "Thus, the optimization problem is\n",
    "$$\n",
    "\\begin{align}\n",
    "\\max \\qquad & x+0.01x^2-0.01x^3\\\\\n",
    "\\text{s.t.} \\qquad & 0\\leq x \\leq 50.\n",
    "\\end{align}\n",
    "$$"
   ]
  },
  {
   "cell_type": "markdown",
   "metadata": {
    "slideshow": {
     "slide_type": "slide"
    }
   },
   "source": [
    "## Task 2\n",
    "* max 2 points, 2 points if one gets correct solution, points are reduced if the implementation has any flaws "
   ]
  },
  {
   "cell_type": "code",
   "execution_count": null,
   "metadata": {},
   "outputs": [],
   "source": [
    "def bisection_line_search(a,b,f,L,epsilon):\n",
    "    x = a\n",
    "    y = b\n",
    "    iters = 0\n",
    "    while y-x>2*L:\n",
    "        if f((x+y)/2+epsilon)>f((x+y)/2-epsilon):\n",
    "            y=(x+y)/2+epsilon\n",
    "        else:\n",
    "            x = (x+y)/2-epsilon\n",
    "        iters = iters + 1\n",
    "    return (x+y)/2, iters"
   ]
  },
  {
   "cell_type": "code",
   "execution_count": null,
   "metadata": {},
   "outputs": [],
   "source": [
    "# the problem to be solved\n",
    "def f_ex2(x):\n",
    "    return (1-x)**2+x"
   ]
  },
  {
   "cell_type": "code",
   "execution_count": null,
   "metadata": {},
   "outputs": [],
   "source": [
    "(x_opt,iters) = bisection_line_search(0,2,f_ex2,0.0001,1e-6)\n",
    "print(iters)"
   ]
  },
  {
   "cell_type": "code",
   "execution_count": null,
   "metadata": {},
   "outputs": [],
   "source": [
    "# check the objective function value at the solutions found\n",
    "print(f_ex2(x_opt))\n",
    "\n",
    "# check the objective function values at the end points of the interval\n",
    "print(f_ex2(0), f_ex2(2))"
   ]
  },
  {
   "cell_type": "markdown",
   "metadata": {
    "slideshow": {
     "slide_type": "slide"
    }
   },
   "source": [
    "## Task 3\n",
    "* max 2 points, 2 points if one gets correct solution, points are reduced if the implementation has any flaws "
   ]
  },
  {
   "cell_type": "code",
   "execution_count": null,
   "metadata": {},
   "outputs": [],
   "source": [
    "import math\n",
    "def golden_section_line_search(a,b,f,L):\n",
    "    x = a\n",
    "    y = b\n",
    "    iters = 0\n",
    "    golden_ratio = (math.sqrt(5.0)-1)/2.0\n",
    "    f_left = f(y-golden_ratio*(y-x)) #funtion eval \n",
    "    f_right = f(x+golden_ratio*(y-x)) #function eval\n",
    "    while y-x>2*L:\n",
    "        if f_left > f_right:\n",
    "            x = y-golden_ratio*(y-x)\n",
    "            f_left = f_right #no function eval\n",
    "            f_right = f(x+golden_ratio*(y-x)) #function eval\n",
    "        else:\n",
    "            y = x+golden_ratio*(y-x)\n",
    "            f_right = f_left #no function eval\n",
    "            f_left = f(y-golden_ratio*(y-x)) #function eval\n",
    "        iters = iters + 1\n",
    "    return (x+y)/2, iters"
   ]
  },
  {
   "cell_type": "code",
   "execution_count": null,
   "metadata": {},
   "outputs": [],
   "source": [
    "(x_opt2,iters) = golden_section_line_search(0,2,f_ex2,0.0001)\n",
    "print(x_opt2)\n",
    "print(iters)"
   ]
  },
  {
   "cell_type": "markdown",
   "metadata": {
    "slideshow": {
     "slide_type": "slide"
    }
   },
   "source": [
    "## Task 4\n",
    "* 1 point for each problem"
   ]
  },
  {
   "cell_type": "markdown",
   "metadata": {},
   "source": [
    "**Problem 1**: $f(x)=x+0.01x^2-0.01x^3$. Thus,\n",
    "$$\n",
    "f'(x) = 1 + 2*0.01x - 3*0.01x^2 = 1 + 0.02x - 0.03x^2\n",
    "$$\n",
    "and\n",
    "$$\n",
    "f''(x) = 0.02-0.06x.\n",
    "$$"
   ]
  },
  {
   "cell_type": "markdown",
   "metadata": {},
   "source": [
    "If $f'(x) = 0$, then \n",
    "$$\n",
    "x = \\frac{-0.002\\pm\\sqrt{0.02^2-4*(-0.03)*1}}{2*(-0.03)}=\\frac{0.02\\pm\\sqrt{0.1204}}{0.06}\n",
    "$$"
   ]
  },
  {
   "cell_type": "code",
   "execution_count": null,
   "metadata": {},
   "outputs": [],
   "source": [
    "def f1(x):\n",
    "    return x+0.01*x**2-0.01*x**3"
   ]
  },
  {
   "cell_type": "code",
   "execution_count": null,
   "metadata": {},
   "outputs": [],
   "source": [
    "import math\n",
    "x1 = (0.02+math.sqrt(0.1204))/0.06\n",
    "x2 = (0.02-math.sqrt(0.1204))/0.06\n",
    "x3 = 0.0 # lower bound\n",
    "x4 = 50.0 # upper bound\n",
    "print(x1, x2, x3, x4)\n",
    "print(f1(x1),f1(x2),f1(x3),f1(x4))"
   ]
  },
  {
   "cell_type": "markdown",
   "metadata": {},
   "source": [
    "$f''(x)<0$ when $0.02-0.06x<0$ that is $x>1/3$. So $x=\\frac{0.02+\\sqrt{0.1204}}{0.06}\\approx 6.116$ is a local maximum."
   ]
  },
  {
   "cell_type": "code",
   "execution_count": null,
   "metadata": {},
   "outputs": [],
   "source": [
    "def hf(x):\n",
    "    return 0.02-0.06*x"
   ]
  },
  {
   "cell_type": "code",
   "execution_count": null,
   "metadata": {},
   "outputs": [],
   "source": [
    "import numpy as np\n",
    "import matplotlib.pyplot as plt\n",
    "\n",
    "x = np.arange(-15.0, 15.0, 1.0)\n",
    "#plt.plot(x, f1(x), 'bo')\n",
    "plt.plot(x, f1(x), 'bo', x, hf(x),'ro') # objective function blue, second derivative red\n",
    "plt.show()\n",
    "print(f1(0.0))"
   ]
  },
  {
   "cell_type": "markdown",
   "metadata": {},
   "source": [
    "**Problem 2**: Now, $f(x) = (1-x)^2+x$. Thus, \n",
    "$$\n",
    "f'(x)=2(1-x)(-1)+1= -1 +2x.\n",
    "$$\n"
   ]
  },
  {
   "cell_type": "markdown",
   "metadata": {},
   "source": [
    "If $f'(x) = 0$, then $2x=1$ and $x=\\frac 12$.\n",
    "This is a local minimum since,\n",
    "$$\n",
    "f''(x) = 2,\n",
    "$$\n",
    "which is greater than $0$.\n",
    "\n",
    "This means that the algorithms work!"
   ]
  }
 ],
 "metadata": {
  "anaconda-cloud": {},
  "celltoolbar": "Slideshow",
  "kernelspec": {
   "display_name": "Python 3",
   "language": "python",
   "name": "python3"
  },
  "language_info": {
   "codemirror_mode": {
    "name": "ipython",
    "version": 3
   },
   "file_extension": ".py",
   "mimetype": "text/x-python",
   "name": "python",
   "nbconvert_exporter": "python",
   "pygments_lexer": "ipython3",
   "version": "3.7.0"
  }
 },
 "nbformat": 4,
 "nbformat_minor": 1
}
