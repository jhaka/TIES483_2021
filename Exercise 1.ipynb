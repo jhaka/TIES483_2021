{
 "cells": [
  {
   "cell_type": "markdown",
   "metadata": {},
   "source": [
    "# Exercise 1\n",
    "* Due: 14.1. at 14:00\n",
    "* Max points: 4"
   ]
  },
  {
   "cell_type": "markdown",
   "metadata": {},
   "source": [
    "## General rules\n",
    "* **Submit your answers by using Moodle.** The link is <a href=\"https://moodle.jyu.fi/course/view.php?id=11556\">https://moodle.jyu.fi/course/view.php?id=11556</a> and it can also be found in SISU.\n",
    "* Name your file as *lastname_ex1.xxx*. If you have multiple files, use *lastname_ex1_1.xxx, lastname_ex1_2.xxx* etc.\n",
    "* **Remember to add comments to your answers and include also some testing part!**\n",
    "* You will get feedback about your answers about a week from the due date\n",
    "* The exercises will be given on the previous Wednesday's lecture"
   ]
  },
  {
   "cell_type": "markdown",
   "metadata": {},
   "source": [
    "## Exercises\n",
    "1. **(2 points)** Implement on a language of your choice a function that calculates a continuous approximation of the grade of this course (grading rules given in the first lecture). That is, the function takes as input the number of points received in the course and the maximal number of points and gives as output a value so that the integer part of that is the grade. \n",
    "\n",
    "    *For example, output would be of maximal points 20 and 13 points, could be 2.5, and, thus, the grade is 2. Note that you can make the function linear. Add also checking for incorrect input.*\n",
    "      \n",
    "2. **(2 points)** Make a script that finds the minimum number of points that gives a given grade. That is, your script should take as input the maximal numbef of points and the desired grade. Your solution **has to call** the function defined in task 1 above.  Add also checking for incorrect input."
   ]
  }
 ],
 "metadata": {
  "anaconda-cloud": {},
  "kernelspec": {
   "display_name": "Python 3",
   "language": "python",
   "name": "python3"
  },
  "language_info": {
   "codemirror_mode": {
    "name": "ipython",
    "version": 3
   },
   "file_extension": ".py",
   "mimetype": "text/x-python",
   "name": "python",
   "nbconvert_exporter": "python",
   "pygments_lexer": "ipython3",
   "version": "3.7.0"
  }
 },
 "nbformat": 4,
 "nbformat_minor": 1
}
