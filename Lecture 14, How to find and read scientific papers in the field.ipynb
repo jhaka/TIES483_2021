{
 "cells": [
  {
   "cell_type": "markdown",
   "metadata": {
    "slideshow": {
     "slide_type": "slide"
    }
   },
   "source": [
    "# Lecture 14, How to find and read scientific papers (in the field)"
   ]
  },
  {
   "cell_type": "markdown",
   "metadata": {
    "slideshow": {
     "slide_type": "slide"
    }
   },
   "source": [
    "# What are your experiences on scientific papers?\n",
    "* Have you read any scientific papers?\n",
    "* What was the context?\n",
    "* How did you find them?\n",
    "* How easy it was to read them?\n",
    "* Has there been any discussion of how to find/read scientific papers in other courses?"
   ]
  },
  {
   "cell_type": "markdown",
   "metadata": {
    "slideshow": {
     "slide_type": "slide"
    }
   },
   "source": [
    "## What is a scientific paper?"
   ]
  },
  {
   "cell_type": "markdown",
   "metadata": {},
   "source": [
    "**Types of scientific papers**\n",
    "* monograph\n",
    "* journal paper\n",
    "* paper in a collection\n",
    "* paper in a conference proceedings\n",
    "* Technical report/working paper\n",
    "* Thesis"
   ]
  },
  {
   "cell_type": "markdown",
   "metadata": {},
   "source": [
    "**There are multiple criteria of what makes a scientific paper, but to me the most important one is peer review by other scientists.**"
   ]
  },
  {
   "cell_type": "markdown",
   "metadata": {
    "slideshow": {
     "slide_type": "subslide"
    }
   },
   "source": [
    "Peer review is self-regulation by qualified members of the scientific profession within the relevant field.\n",
    "\n",
    "A common practice in science is that whenever somebody wants to publish a paper, the paper should be peer-reviewed by at least two so-called peers. These peers will give their opinion on the paper and recommend acceptance, revision or rejection of a paper.\n",
    "\n",
    "The editor of the publication will have the final say, but he/she must respect the opinions of the reviewers.\n",
    "\n",
    "Almost always the review is single-blind, which usually means that the authors do not know the reviewers but the reviewers know who are the authors. Sometimes the review process is even double-blind which means that the reviewer does not know the authors and the authors do not know the reviewers."
   ]
  },
  {
   "cell_type": "markdown",
   "metadata": {
    "slideshow": {
     "slide_type": "slide"
    }
   },
   "source": [
    "## Using the resources available through the University of Jyväskylä library"
   ]
  },
  {
   "cell_type": "markdown",
   "metadata": {},
   "source": [
    "Most often the publishers of the journals ask for (quite a lot of) money to access the scientific papers.\n",
    "\n",
    "There are also several open access journals that are free for everyone to read. However, publishing in open access journals is not free for authors and, thus, they are not so popular. This is about to change due to extremely high fees that the commercial publishers have e.g. for the universities to access papers and the requirements of many funding organizations for open access publishing. "
   ]
  },
  {
   "cell_type": "markdown",
   "metadata": {
    "slideshow": {
     "slide_type": "subslide"
    }
   },
   "source": [
    "\n",
    "One alternative for providing access to published papers is *parallel publishing*. This means that an article that has been published in some publication channel that is not open source can be afterwards published in parallel as a final draft version (a version that does not include any layout of the publisher). \n",
    "\n",
    "At the University of Jyväskylä, this is done via JYX (https://jyx.jyu.fi/).\n"
   ]
  },
  {
   "cell_type": "markdown",
   "metadata": {
    "slideshow": {
     "slide_type": "subslide"
    }
   },
   "source": [
    "The University of Jyväskylä library subscribes to various scientific journals. Starting from Feb 1, 2019, access to Taylor & Francis e-journals has stopped because the Finnish University libraries and Taylor & Francis couldn't agree on continuing their subscription. \n",
    "\n",
    "Anybody inside the university network, can access most of those journals by just going to the journals web site.\n",
    "\n",
    "From outside the network of the university, one can still remotely access using JYKDOK (see https://kirjasto.jyu.fi/en/library-services/using-electronic-resources/remote-access) \n",
    "\n",
    "or by connecting to the university web site using vpn (see https://www.jyu.fi/digipalvelut/en/guides/wlan-and-vpn/vpn-windows/remote-access-to-the-jyu-network-vpn-connection-on-windows or https://www.jyu.fi/digipalvelut/en/guides/wlan-and-vpn/vpn-wlan-connection-on-the-linux)."
   ]
  },
  {
   "cell_type": "markdown",
   "metadata": {
    "slideshow": {
     "slide_type": "slide"
    }
   },
   "source": [
    "## Search engines for scientific papers"
   ]
  },
  {
   "cell_type": "markdown",
   "metadata": {},
   "source": [
    "There exist multiple search engines, which you can use to search for scientific publications https://en.wikipedia.org/wiki/List_of_academic_databases_and_search_engines.\n",
    "\n",
    "The most relevant for my discipline are\n",
    "\n",
    "* <a href=\"https://webofknowledge.com/\">Web of Science</a> (publisher neutral)\n",
    "* <a href=\"https://link.springer.com\">SpringerLink</a>\n",
    "* <a href=\"https://www.scopus.com/\">Scopus</a>\n",
    "* <a href=\"https://ieeexplore.ieee.org/Xplore/home.jsp\">IEEE Xplore digital library</a>\n",
    "* <a href=\"https://dl.acm.org\">ACM Digital Library</a>\n",
    "* <a href=\"https://mathscinet.ams.org/mathscinet\">MathSciNet</a>"
   ]
  },
  {
   "cell_type": "markdown",
   "metadata": {
    "slideshow": {
     "slide_type": "subslide"
    }
   },
   "source": [
    "The one that I use the most for quick searches is Google Scholar (https://scholar.google.fi/).\n",
    "\n",
    "There is quite a lot of criticism about Google Scholar (see e.g., https://en.wikipedia.org/wiki/Google_Scholar#Limitations_and_criticism) and if you are doing serious academic surveys, you should not restrict yourself to just one search engine.\n",
    "\n",
    "Please see e.g. a recent paper on evaluating different search engines:\n",
    "\n",
    "<a href=\"https://onlinelibrary.wiley.com/doi/full/10.1002/jrsm.1378\">M. Gusenbauer and N. R. Haddaway, *Which academic search systemsare suitable for systematic reviews or meta-analyses? evaluating retrieval qualities of google scholar, PubMed, and 26 other resources*, Research Synthesis Methods, vol. 11, no. 2, pp. 181–217, 2020</a>\n",
    "\n",
    "However, what I have found is that at least in my field Google Scholar seems to find almost everything.\n",
    "\n",
    "What is a definite problem, is that the quality of the papers found varies a lot. Thus, you may not find what you are looking for, because it is buried in junk!"
   ]
  },
  {
   "cell_type": "markdown",
   "metadata": {
    "slideshow": {
     "slide_type": "slide"
    }
   },
   "source": [
    "## Evaluating individual scientific papers"
   ]
  },
  {
   "cell_type": "markdown",
   "metadata": {},
   "source": [
    "The most important way of evaluating individual papers, is their citation count.\n",
    "\n",
    "Citation count is basically the number of times that other researchers have cited the paper in their work.\n",
    "\n",
    "However, it is not perfect, because one must of course consider the publication date (new publications naturally do not have many citations).\n",
    "\n",
    "In addition, **citation counts cannot be compared between scientific disciplines**\n",
    "\n",
    "Another way of evaluating a paper is to look at the journal that it is published."
   ]
  },
  {
   "cell_type": "markdown",
   "metadata": {
    "slideshow": {
     "slide_type": "slide"
    }
   },
   "source": [
    "## Evaluating scientific journals"
   ]
  },
  {
   "cell_type": "markdown",
   "metadata": {},
   "source": [
    "The most common way of evaluating scientific journals is their impact factor. Impact factor is again based on the citations to the papers published in the journal. See https://en.wikipedia.org/wiki/Impact_factor for more information.\n",
    "\n",
    "You can find impact factors for journals at http://admin-apps.webofknowledge.com/JCR/JCR?RQ=LIST_SUMMARY_JOURNAL (may not work outside University of Jyväskylä network).\n",
    "\n",
    "**However, impact factors cannot be compared between scientific disciplines either**"
   ]
  },
  {
   "cell_type": "markdown",
   "metadata": {
    "slideshow": {
     "slide_type": "subslide"
    }
   },
   "source": [
    "Another way of evaluating scientific journals is to look at various publication forums which attempt to evaluate journals between all disciplines.\n",
    "\n",
    "For example, in Finland we have http://www.julkaisufoorumi.fi/en. \n",
    "\n",
    "In Finnish publication forum, you can search for a journal or a conference proceedings and you will get its classification based on three levels: 1 = basic; 2 = leading; 3 = top. \n",
    "\n",
    "If a publication channel is deemed to be non-suitable to level 1 (lowest scientific publication level), then it is given level 0. This would mean that there is something wrong with the publcation channel.\n",
    "\n",
    "The classification is performed by 23 expert panels from different disciplines (e.g. <i>Mathematics and statistics</i>, <i>Computer and information sciences</i>)."
   ]
  },
  {
   "cell_type": "markdown",
   "metadata": {
    "slideshow": {
     "slide_type": "slide"
    }
   },
   "source": [
    "## Where to find more information"
   ]
  },
  {
   "cell_type": "markdown",
   "metadata": {},
   "source": [
    "The University of Jyväskylä library has a tutorial to finding information: https://koppa.jyu.fi/avoimet/kirjasto/en/library-tutorial."
   ]
  },
  {
   "cell_type": "markdown",
   "metadata": {
    "slideshow": {
     "slide_type": "slide"
    }
   },
   "source": [
    "## Now, how to use this information to search for applications of optimization?"
   ]
  },
  {
   "cell_type": "markdown",
   "metadata": {},
   "source": [
    "Type in Google scholar your search terms \"optimization\" or \"optimisation\" and the field that you are interested in. In addition, you may want to restrict the papers starting for example from 2010. For example, search \"optimization forest management\" will give me papers related to optimization in forest management (in addition to the junk that we already mentioned). "
   ]
  }
 ],
 "metadata": {
  "anaconda-cloud": {},
  "celltoolbar": "Slideshow",
  "kernelspec": {
   "display_name": "Python 3",
   "language": "python",
   "name": "python3"
  },
  "language_info": {
   "codemirror_mode": {
    "name": "ipython",
    "version": 3
   },
   "file_extension": ".py",
   "mimetype": "text/x-python",
   "name": "python",
   "nbconvert_exporter": "python",
   "pygments_lexer": "ipython3",
   "version": "3.7.0"
  }
 },
 "nbformat": 4,
 "nbformat_minor": 1
}
