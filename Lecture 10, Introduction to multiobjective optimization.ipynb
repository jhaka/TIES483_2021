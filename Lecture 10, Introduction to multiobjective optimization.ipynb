{
 "cells": [
  {
   "cell_type": "code",
   "execution_count": null,
   "metadata": {
    "slideshow": {
     "slide_type": "skip"
    }
   },
   "outputs": [],
   "source": [
    "from IPython.core.display import HTML\n",
    "HTML(\"<style>.container { width:95% !important; }</style>\")"
   ]
  },
  {
   "cell_type": "markdown",
   "metadata": {
    "slideshow": {
     "slide_type": "slide"
    }
   },
   "source": [
    "# Lecture 10: Introduction to Multiobjective Optimization"
   ]
  },
  {
   "cell_type": "markdown",
   "metadata": {
    "slideshow": {
     "slide_type": "slide"
    }
   },
   "source": [
    "## What means multiobjective?"
   ]
  },
  {
   "cell_type": "markdown",
   "metadata": {
    "slideshow": {
     "slide_type": "fragment"
    }
   },
   "source": [
    "* Consider several criteria simultaneously"
   ]
  },
  {
   "cell_type": "markdown",
   "metadata": {
    "slideshow": {
     "slide_type": "fragment"
    }
   },
   "source": [
    "* Criteria are conflicting (e.g. usually good quality is not cheap) $\\Rightarrow$ all the criteria can not be optimized simultaneously"
   ]
  },
  {
   "cell_type": "markdown",
   "metadata": {
    "slideshow": {
     "slide_type": "fragment"
    }
   },
   "source": [
    "* Need for considering compromises between the criteria"
   ]
  },
  {
   "cell_type": "markdown",
   "metadata": {
    "slideshow": {
     "slide_type": "fragment"
    }
   },
   "source": [
    "* Compromise can be better than optimal solution in practice (e.g., optimize only costs/profit)"
   ]
  },
  {
   "cell_type": "markdown",
   "metadata": {
    "slideshow": {
     "slide_type": "fragment"
    }
   },
   "source": [
    "* http://en.wikipedia.org/wiki/Multiobjective_optimization"
   ]
  },
  {
   "cell_type": "markdown",
   "metadata": {
    "slideshow": {
     "slide_type": "slide"
    }
   },
   "source": [
    "# Multiobjective optimization process\n",
    "![alt text](images/MOO_process.svg \"Multiobjective optimization process\")"
   ]
  },
  {
   "cell_type": "markdown",
   "metadata": {
    "slideshow": {
     "slide_type": "slide"
    }
   },
   "source": [
    "# Example 1: Continuous casting of steel\n",
    "\n",
    "* Optimal control of the secondary cooling of continuous casting of steel\n",
    "* Long history of research in the Dept. of Mathematical Information Technology, Univ. of Jyväskylä\n",
    "  * modelling (1988)\n",
    "  * single objective optimization (1988-1994)\n",
    "  * multiobjective optimization (1994-1998)"
   ]
  },
  {
   "cell_type": "markdown",
   "metadata": {
    "slideshow": {
     "slide_type": "subslide"
    }
   },
   "source": [
    "* Liquid steel enters (tundish)\n",
    "* Initial cooling by a water cooled mold $\\Rightarrow$ thin crust\n",
    "* Movement supported by rollers\n",
    "* Secondary cooling by water sprays\n",
    "* Rest of the cooling by radiation\n",
    "\n",
    "<img src=\"images/valu.png\" alt=\"casting\" width=\"650\"/>"
   ]
  },
  {
   "cell_type": "markdown",
   "metadata": {
    "slideshow": {
     "slide_type": "subslide"
    }
   },
   "source": [
    "## Modelling\n",
    "* Measuring temperature in casting difficult $\\Rightarrow$ numerical temperature distribution\n",
    "* Process modelled as a multiphase heat equation (PDEs, solid & liquid phase) $\\Rightarrow$  temperature distribution\n",
    "* Numerical model by using the finite element method (FEM)\n",
    "* Dynamic process"
   ]
  },
  {
   "cell_type": "markdown",
   "metadata": {
    "slideshow": {
     "slide_type": "subslide"
    }
   },
   "source": [
    "## Single-objective optimization\n",
    "\n",
    "* Secondary cooling significant: intensity of sprays (easy to control) affects significantly to the solidification of steel\n",
    "* Goal: minimize the amount of defects in steel\n",
    "* Quality depends on e.g. the temperature distribution at the surface of steel\n",
    "  * too slow cooling → too long liquid part\n",
    "  * too fast cooling → defects appear\n",
    "* Objective function: keep the surface temperature as close to a given profile as possible\n",
    "* Constraints e.g. for the change of temperature and for the temperature in critical spots​"
   ]
  },
  {
   "cell_type": "markdown",
   "metadata": {
    "slideshow": {
     "slide_type": "subslide"
    }
   },
   "source": [
    "## Single-objective optimization results\n",
    "\n",
    "* Analysis of single objective optimization problem:\n",
    "  * constraints tight (based on metallurgy)\n",
    "  * no feasible solutions\n",
    "* which constraints to relax?\n",
    "* $\\Rightarrow$ Convert constraints into objective functions      (5 in total)\n",
    "  * Enables simultaneous relaxation of different constraints\n",
    "  * Gives information on satisfaction of different constraints and their interdependences​"
   ]
  },
  {
   "cell_type": "markdown",
   "metadata": {
    "slideshow": {
     "slide_type": "subslide"
    }
   },
   "source": [
    "## Multiobjective optimization results\n",
    "\n",
    "** Found a solution, which only violated one of the constraints**\n",
    "\n",
    "$\\Rightarrow$ satisfactory to the application expert"
   ]
  },
  {
   "cell_type": "markdown",
   "metadata": {
    "slideshow": {
     "slide_type": "slide"
    }
   },
   "source": [
    "## Example 2: Data-Based Forest Management with Uncertainties and Multiple Objectives\n",
    "\n",
    "* A study by Profs Annika Kangas (Forest research institute, Joensuu) and Kaisa Miettinen, PhD Markus Hartikainen and PhD Kyle Eyvindson (University of Helsinki)\n",
    "* Main research question: How to use multiobjective optimization to handle in forest management simultaneously\n",
    "  * conflicting objectives **income** and **biodiversity**, and\n",
    "  * **uncertainties**.\n",
    "  "
   ]
  },
  {
   "cell_type": "markdown",
   "metadata": {
    "slideshow": {
     "slide_type": "subslide"
    }
   },
   "source": [
    "### Main problems "
   ]
  },
  {
   "cell_type": "markdown",
   "metadata": {
    "slideshow": {
     "slide_type": "fragment"
    }
   },
   "source": [
    "* **Harvesting implies incomes from forests**, but on the other hand, it **diminishes the recreational and esthetical values of the forest**, and it may have **adverse effects on the natural values of the area**, for instance, the biodiversity within the area and the viability of wildlife populations living in the area."
   ]
  },
  {
   "cell_type": "markdown",
   "metadata": {
    "slideshow": {
     "slide_type": "fragment"
    }
   },
   "source": [
    "* On the other hand, forest management planning **involves lots of uncertainty**. It is **not possible to measure all trees** within a forest area, so there is **uncertainty concerning the current state** of the forests. **Measuring biodiversity is prohibitively expensive**, so using **proxy variables** (biodiversity indices) is the only possibility."
   ]
  },
  {
   "cell_type": "markdown",
   "metadata": {
    "slideshow": {
     "slide_type": "fragment"
    }
   },
   "source": [
    "* All forest decisions **concern the future** (typically the next 5-20 years), so that the **state of the forest stands and biodiversity and the consequences of the treatment options needs to be predicted** using statistical models. As we do not know the exact consequences of the decisions, the **decisions involve uncertainty which the decision makers may wish to manage.**"
   ]
  },
  {
   "cell_type": "markdown",
   "metadata": {
    "slideshow": {
     "slide_type": "subslide"
    }
   },
   "source": [
    "## The approach\n",
    "\n",
    "* Model the decision problem as a six-objective optimization problem\n",
    "* Model uncertainty using scenario based-approach\n",
    "  * Different scenarios represent possible future states\n",
    "* Handle the uncertainty using a well known risk measure called \"value-at-risk\" with different risk levels\n",
    "* Objectives to be maximized\n",
    "  1. Expected minimum (over all time periods) income in all the scenarios.\n",
    "  2. Expected minimum (over all time periods) biodiversity in all the scenarios\n",
    "  3. Value of the biodiversity at the given risk\n",
    "  4. Value of the income at the given risk \n",
    "  5. Probability of the income being greater than the value-at-risk.  The risk level for income is, thus, one minus this probability.\n",
    "  6. Probability of the biodiversity being greater than the value-at-risk.  The risk level for biodiversity is, thus, one minus this probability."
   ]
  },
  {
   "cell_type": "markdown",
   "metadata": {
    "slideshow": {
     "slide_type": "subslide"
    }
   },
   "source": [
    "## Multiobjective optimization results\n",
    "\n",
    "* The decision maker was able to study interdependencies between income and biodiversity, gains and losses in income and biodiversity at different risk levels and risk levels associated to these\n",
    "* <a href=\"http://link.springer.com/chapter/10.1007/978-3-319-51469-7_2\">The results were presented at the MOD2016 workshop</a>\n"
   ]
  },
  {
   "cell_type": "markdown",
   "metadata": {
    "slideshow": {
     "slide_type": "slide"
    }
   },
   "source": [
    "## Mathematical formulation of multiobjective optimization problems\n",
    "\n",
    "Multiobjective optimization problems are often formulated as\n",
    "$$\n",
    "\\begin{align} \\\n",
    "\\min \\quad &\\{f_1(x),\\ldots,f_k(x)\\}\\\\\n",
    "\\text{s.t.} \\quad & g_j(x) \\geq 0\\text{ for all }j=1,\\ldots,J\\\\\n",
    "& h_k(x) = 0\\text{ for all }k=1,\\ldots,K\\\\\n",
    "&a_i\\leq x_i\\leq b_i\\text{ for all } i=1,\\ldots,n\\\\\n",
    "&x\\in \\mathbb R^n,\n",
    "\\end{align}\n",
    "$$\n",
    "where $$f_1,\\ldots,f_k:\\{x\\in\\mathbb R^n: g_j(x) \\geq 0 \\text{ for all }j=1,\\ldots,J \\text{ and } h_k(x) = 0\\text{ for all }k=1,\\ldots,K\\}\\mapsto\\mathbb R$$ are the objective functions."
   ]
  },
  {
   "cell_type": "markdown",
   "metadata": {
    "slideshow": {
     "slide_type": "subslide"
    }
   },
   "source": [
    "## Basic concepts\n",
    "\n",
    "Basic concepts of solution, feasible solution, equality and inequality constraints are the same.\n",
    "\n",
    "However, the concept of optimality needs to redefined. *How to define optimality for multiple objectives?* "
   ]
  },
  {
   "cell_type": "markdown",
   "metadata": {
    "slideshow": {
     "slide_type": "subslide"
    }
   },
   "source": [
    "## Optimality in the objective space\n",
    "*Which solution is better?*\n",
    "![alt text](images/po1.png)"
   ]
  },
  {
   "cell_type": "markdown",
   "metadata": {
    "slideshow": {
     "slide_type": "subslide"
    }
   },
   "source": [
    "## Optimality in the objective space\n",
    "*Which of the red solutions is better?*\n",
    "![alt text](images/po2.png)"
   ]
  },
  {
   "cell_type": "markdown",
   "metadata": {
    "slideshow": {
     "slide_type": "subslide"
    }
   },
   "source": [
    "## Optimality in the objective space\n",
    "*Where are optimal solutions?*\n",
    "![alt text](images/po3.png)"
   ]
  },
  {
   "cell_type": "markdown",
   "metadata": {
    "slideshow": {
     "slide_type": "subslide"
    }
   },
   "source": [
    "## Optimality in the objective space\n",
    "*Optimal solutions are located at the boundary to the down & left (for minimization problems)*\n",
    "![alt text](images/po4.png)"
   ]
  },
  {
   "cell_type": "markdown",
   "metadata": {
    "slideshow": {
     "slide_type": "subslide"
    }
   },
   "source": [
    "## Pareto optimality\n",
    "A feasible solution $x^1$ is Pareto optimal to the multiobjective optimization problem, if there does not exist a feasible solution $x^2$, $x^1\\neq x^2$, such that \n",
    "$$\n",
    "\\left\\{\n",
    "\\begin{align}\n",
    "&f_i(x^2)\\leq f_i(x^1)\\text{ for all }i\\in \\{1,\\ldots,k\\}\\\\\n",
    "&f_j(x^2)<f_j(x^1)\\text{ for some }j\\in \\{1,\\ldots,k\\}.\\\\\n",
    "\\end{align}\n",
    "\\right.\n",
    "$$"
   ]
  },
  {
   "cell_type": "markdown",
   "metadata": {
    "slideshow": {
     "slide_type": "fragment"
    }
   },
   "source": [
    "![alt text](images/basic_definitions2.svg \"Multiobjective optimization\")\n",
    "\n",
    "There are now two spaces connected to the problem: the space $\\mathbb R^n$ is called the decision space and $\\mathbb R^k$ is called the objective space."
   ]
  },
  {
   "cell_type": "markdown",
   "metadata": {
    "slideshow": {
     "slide_type": "subslide"
    }
   },
   "source": [
    "**Problem having two objectives is a special case: Let us assume that $x$ is Pareto optimal. if we want to improve one of the objectives at point $x$, we know that the value of the other objective has to impair.**"
   ]
  },
  {
   "cell_type": "markdown",
   "metadata": {
    "slideshow": {
     "slide_type": "-"
    }
   },
   "source": [
    "**Usually there exist multiple Pareto optimal solutions to a problem. However, the most preferred one needs to be selected for implementation. Thus, a decision maker is needed.**"
   ]
  },
  {
   "cell_type": "markdown",
   "metadata": {
    "slideshow": {
     "slide_type": "subslide"
    }
   },
   "source": [
    "In addition to Pareto optimality, two more concepts are important, which are called the ideal and the nadir vector. Mathematically the ideal vector $z^{ideal}$ can be defined as having \n",
    "$$\n",
    "z^{ideal}_i = \\begin{align} \\\n",
    "\\min \\quad &f_i(x)\\\\\n",
    "\\text{s.t.} \\quad &x\\text{ is feasible}\n",
    "\\end{align}\n",
    "$$\n",
    "for all $i=1,\\ldots,k$. The nadir vector $z^{nadir}$ on the other hand has\n",
    "$$\n",
    "z^{nadir}_i = \n",
    "\\begin{align}\n",
    "\\max \\quad &f_i(x)\\\\\n",
    "\\text{s.t.} \\quad &x\\text{ is Pareto optimal},\n",
    "\\end{align}\n",
    "$$\n",
    "for all $i=1,\\ldots,k$.\n",
    "\n",
    "![alt text](images/nadir_ideal.svg \"Nadir and the ideal vectors\")"
   ]
  },
  {
   "cell_type": "markdown",
   "metadata": {
    "slideshow": {
     "slide_type": "subslide"
    }
   },
   "source": [
    "## Optimization problem formulation\n",
    "* By optimizing only one criterion, the rest are not considered\n",
    "* Objective vs. constraint\n",
    "* Summation of the objectives\n",
    "   * adding apples and oranges\n",
    "* Converting the objectives (e.g. as costs)\n",
    "   * not easy, includes uncertaintes\n",
    "* Multiobjective formulation reveals interdependences between the objectives"
   ]
  },
  {
   "cell_type": "markdown",
   "metadata": {
    "slideshow": {
     "slide_type": "slide"
    }
   },
   "source": [
    "## Example\n",
    "\n",
    "Consider multiobjective optimization problem\n",
    "$$\n",
    "\\min \\{f_1(x,y)=x^2+y,\\quad f_2(x,y)=1-x\\}\\\\\n",
    "\\text{s.t. }x\\in[0,1], y\\geq0.\n",
    "$$"
   ]
  },
  {
   "cell_type": "markdown",
   "metadata": {
    "slideshow": {
     "slide_type": "fragment"
    }
   },
   "source": [
    "#### Pareto optimal solutions\n",
    "Now, the set of Pareto optimal solutions is\n",
    "\n",
    "$$\n",
    "\\{(x,0):x\\in[0,1]\\}.\n",
    "$$\n",
    "\n",
    "How to show this?"
   ]
  },
  {
   "cell_type": "markdown",
   "metadata": {
    "slideshow": {
     "slide_type": "subslide"
    }
   },
   "source": [
    "Let's show that $(x',0)$ is Pareto optimal for all $x'\\in[0,1]$. *The idea of the proof: assume that $(x',0)$ is not Pareto optimal and then deduce a contradiction.*\n",
    "\n",
    "Let's assume $(x,y)$ with $x\\in[0,1]$ and $y\\geq0$ such that\n",
    "\n",
    "$$\n",
    "\\left\\{\n",
    "\\begin{align}\n",
    "f_1(x,y)=x^2+y\\leq x'^2=f_1(x',0),\\textbf{ and}\\\\\n",
    "f_2(x,y)=1-x\\leq 1-x'=f_2(x',0).\n",
    "\\end{align}\n",
    "\\right.\n",
    "$$\n",
    "\n",
    "and\n",
    "\n",
    "$$\n",
    "\\left\\{\n",
    "\\begin{align}\n",
    "f_1(x,y)=x^2+y< x'^2 =f_1(x',0)\\textbf{ or}\\\\\n",
    "f_2(x,y)=1-x< 1-x'=f_2(x',0).\n",
    "\\end{align}\n",
    "\\right.\n",
    "$$\n",
    "\n",
    "Second inequality in the first system of inequalities gives $x\\geq x'$. This yields from the first inequality in that same system of inequalities\n",
    "\n",
    "$$\n",
    "y\\leq x'^2-x^2\\leq 0.\n",
    "$$\n",
    "\n",
    "Thus, $y=0$. This means that $x=x'$ using again the first inequality.\n",
    "\n",
    "This means that the solution cannot satisfy the second system of strict inequalities. We have a contradiction and, therefore, $(x',0)$ has to be Pareto optimal."
   ]
  },
  {
   "cell_type": "markdown",
   "metadata": {
    "slideshow": {
     "slide_type": "subslide"
    }
   },
   "source": [
    "Now, we show that any other feasible solution can not be Pareto optimal. Let's assume a solution $(x,y)$, where $x\\in[0,1]$ and $y>0$ and show that this is not Pareto optimal:\n",
    "\n",
    "By choosing solution $(x,0)$, we have \n",
    "\n",
    "$$\n",
    "\\left\\{\n",
    "\\begin{align}\n",
    "f_1(x,0)=x^2<x^2+y=f_1(x,y) ,\\text{ and}\\\\\n",
    "f_2(x,0)=1-x\\leq 1-x=f_2(x,y).\n",
    "\\end{align}\n",
    "\\right.\n",
    "$$\n",
    "\n",
    "Thus, the solution $(x,y)$ cannot be Pareto optimal."
   ]
  },
  {
   "cell_type": "markdown",
   "metadata": {
    "slideshow": {
     "slide_type": "subslide"
    }
   },
   "source": [
    "#### Ideal\n",
    "Now\n",
    "\n",
    "$$\n",
    "\\begin{align}\n",
    "\\min x^2+y\\\\\n",
    "\\text{s.t. }x\\in[0,1],\\ y\\geq0\n",
    "\\end{align}\n",
    "= 0\n",
    "$$\n",
    "\n",
    "and\n",
    "\n",
    "$$\n",
    "\\begin{align}\n",
    "\\min 1-x\\\\\n",
    "\\text{s.t. }x\\in[0,1],\\ y\\geq0\n",
    "\\end{align}\n",
    "= 0.\n",
    "$$\n",
    "\n",
    "Thus, the ideal is\n",
    "\n",
    "$$\n",
    "z^{ideal} = (0,0)^T\n",
    "$$"
   ]
  },
  {
   "cell_type": "markdown",
   "metadata": {
    "slideshow": {
     "slide_type": "subslide"
    }
   },
   "source": [
    "#### Nadir\n",
    "Now,\n",
    "\n",
    "$$\n",
    "\\begin{align}\n",
    "\\max x^2+y\\\\\n",
    "\\text{s.t. }x\\in[0,1],\\ y=0\n",
    "\\end{align}\n",
    "= 1\n",
    "$$\n",
    "\n",
    "and\n",
    "\n",
    "$$\n",
    "\\begin{align}\n",
    "\\max 1-x\\\\\n",
    "\\text{s.t. }x\\in[0,1],\\ y=0\n",
    "\\end{align}\n",
    "= 1.\n",
    "$$\n",
    "\n",
    "Thus, \n",
    "\n",
    "$$\n",
    "z^{nadir}=(1,1)^T.\n",
    "$$"
   ]
  }
 ],
 "metadata": {
  "anaconda-cloud": {},
  "celltoolbar": "Slideshow",
  "kernelspec": {
   "display_name": "Python 3",
   "language": "python",
   "name": "python3"
  },
  "language_info": {
   "codemirror_mode": {
    "name": "ipython",
    "version": 3
   },
   "file_extension": ".py",
   "mimetype": "text/x-python",
   "name": "python",
   "nbconvert_exporter": "python",
   "pygments_lexer": "ipython3",
   "version": "3.7.0"
  }
 },
 "nbformat": 4,
 "nbformat_minor": 1
}
