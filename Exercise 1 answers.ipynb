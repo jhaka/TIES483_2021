{
 "cells": [
  {
   "cell_type": "markdown",
   "metadata": {
    "nbpresent": {
     "id": "fa5ccf9e-2d62-434a-8d7b-28099c065e0c"
    },
    "slideshow": {
     "slide_type": "slide"
    }
   },
   "source": [
    "# Exercises 1, answers"
   ]
  },
  {
   "cell_type": "markdown",
   "metadata": {
    "nbpresent": {
     "id": "6bc603ab-68a0-4c4b-825c-3906b7397662"
    },
    "slideshow": {
     "slide_type": "subslide"
    }
   },
   "source": [
    "## Task 1"
   ]
  },
  {
   "cell_type": "markdown",
   "metadata": {
    "nbpresent": {
     "id": "4b7d55b6-f3e7-45b2-ac65-aaffcf1d2a21"
    },
    "slideshow": {
     "slide_type": "subslide"
    }
   },
   "source": [
    "Let points be the amount of $points$ that you received in this course and $points_{MAX}$ the maximum amount of points. "
   ]
  },
  {
   "cell_type": "markdown",
   "metadata": {
    "nbpresent": {
     "id": "0d5e4697-c97a-495f-9e36-7b298d970459"
    },
    "slideshow": {
     "slide_type": "subslide"
    }
   },
   "source": [
    "Then, if $\\frac{points}{points_{MAX}}=0.5$ then your grade is 1. If $\\frac{points}{points_{MAX}}=0.9$ then your grade is $5$. Since the hint said that you can make the function linear, let us use function $a\\frac{points}{points_{MAX}}+c$, where $a$ and $c$ are constants."
   ]
  },
  {
   "cell_type": "markdown",
   "metadata": {
    "nbpresent": {
     "id": "3d9d6644-ba0f-4f37-ae4e-55a97836565f"
    },
    "slideshow": {
     "slide_type": "subslide"
    }
   },
   "source": [
    "This means that $0.5a+c=1$ and $0.9a+c=5$. Solving this equation gives $a=10$ and $c=-4$. One can verify that the function that we are looking for is $10\\frac{points}{points_{MAX}}-4$."
   ]
  },
  {
   "cell_type": "markdown",
   "metadata": {
    "nbpresent": {
     "id": "d47df318-0a1f-4625-9590-8b7fe4ba24d3"
    },
    "slideshow": {
     "slide_type": "subslide"
    }
   },
   "source": [
    "Thus, the implementation of the function is:"
   ]
  },
  {
   "cell_type": "code",
   "execution_count": null,
   "metadata": {
    "nbpresent": {
     "id": "412617bb-3cc7-4f91-8508-0031f524dbe1"
    },
    "slideshow": {
     "slide_type": "subslide"
    }
   },
   "outputs": [],
   "source": [
    "def arvosana(points,points_MAX):\n",
    "    if points<0:\n",
    "        points = 0 # no negative points\n",
    "    if points>points_MAX:\n",
    "        points = points_MAX # can't get more than points_MAX\n",
    "    grade = 10.0*points/points_MAX-4\n",
    "    if grade < 0: # make sure you don't get negative grade, 0 means failed\n",
    "        grade = 0\n",
    "    if grade > 5: # make sure that grade is not more than 5 (if you get points_MAX)\n",
    "        grade = 5\n",
    "    return grade"
   ]
  },
  {
   "cell_type": "markdown",
   "metadata": {
    "nbpresent": {
     "id": "a03d2121-e56b-4996-8a33-654153b45a57"
    },
    "slideshow": {
     "slide_type": "slide"
    }
   },
   "source": [
    "Testing:"
   ]
  },
  {
   "cell_type": "code",
   "execution_count": null,
   "metadata": {
    "nbpresent": {
     "id": "022c6a8a-018b-4094-b809-5090b5e0c606"
    },
    "slideshow": {
     "slide_type": "subslide"
    }
   },
   "outputs": [],
   "source": [
    "points = 50\n",
    "points_max = 100\n",
    "print(\"With \" + str(points) + \" points, one gets grade \" + str(int(arvosana(points,points_max))) + \" if the maximum number of points is \" + str(points_max))"
   ]
  },
  {
   "cell_type": "code",
   "execution_count": null,
   "metadata": {
    "nbpresent": {
     "id": "f2dd7445-8460-4804-8995-f67b86f8a1bd"
    },
    "slideshow": {
     "slide_type": "subslide"
    }
   },
   "outputs": [],
   "source": [
    "points = 60\n",
    "points_max = 100\n",
    "print(\"With \" + str(points) + \" points, one gets grade \" + str(int(arvosana(points,points_max))) + \" if the maximum number of points is \" + str(points_max))"
   ]
  },
  {
   "cell_type": "markdown",
   "metadata": {
    "nbpresent": {
     "id": "5bc8ec4d-2ba6-487d-8399-08ab1e080815"
    },
    "slideshow": {
     "slide_type": "slide"
    }
   },
   "source": [
    "## Task 2"
   ]
  },
  {
   "cell_type": "markdown",
   "metadata": {
    "nbpresent": {
     "id": "ed4b88b8-7d67-4f61-9499-e65fabfead51"
    },
    "slideshow": {
     "slide_type": "subslide"
    }
   },
   "source": [
    "Now, we can go through all the possible numbers of points, because there is a small number of them. That is, no actual optimization method needed."
   ]
  },
  {
   "cell_type": "code",
   "execution_count": null,
   "metadata": {
    "nbpresent": {
     "id": "4573a3ab-61b8-4afc-99b0-abd1f21981a0"
    },
    "slideshow": {
     "slide_type": "subslide"
    }
   },
   "outputs": [],
   "source": [
    "def min_points(grade,points_MAX):\n",
    "    feasible_points = [points for points in range(1,points_MAX+1) if arvosana(points,points_MAX)>=grade]\n",
    "    #print(feasible_points)\n",
    "    return min(feasible_points)"
   ]
  },
  {
   "cell_type": "markdown",
   "metadata": {
    "nbpresent": {
     "id": "c25b794c-8461-4c72-bf2f-23b354d14545"
    },
    "slideshow": {
     "slide_type": "subslide"
    }
   },
   "source": [
    "The following function does the same, but does not use a constructor."
   ]
  },
  {
   "cell_type": "code",
   "execution_count": null,
   "metadata": {
    "nbpresent": {
     "id": "11a78bf5-af6a-4cff-b000-3c5765d256da"
    },
    "slideshow": {
     "slide_type": "subslide"
    }
   },
   "outputs": [],
   "source": [
    "def min_points_without_constructor(grade,points_MAX):\n",
    "    feasible_points = []\n",
    "    for points in range(1,points_MAX+1):\n",
    "        #print(points)\n",
    "        if arvosana(points,points_MAX)>=grade:\n",
    "            feasible_points.append(points)\n",
    "    return min(feasible_points)"
   ]
  },
  {
   "cell_type": "markdown",
   "metadata": {
    "nbpresent": {
     "id": "d84e748c-c35c-4748-8f12-68918aa0bf9a"
    },
    "slideshow": {
     "slide_type": "subslide"
    }
   },
   "source": [
    "Using a constructor is faster when the size of the points you need to go through grows (try this by increasing points_MAX in the next two cells):"
   ]
  },
  {
   "cell_type": "code",
   "execution_count": null,
   "metadata": {
    "nbpresent": {
     "id": "ad92f3d0-d118-451e-a983-676222f9d37a"
    },
    "slideshow": {
     "slide_type": "subslide"
    }
   },
   "outputs": [],
   "source": [
    "%timeit min_points(4,200)\n",
    "min_points(4,200)"
   ]
  },
  {
   "cell_type": "code",
   "execution_count": null,
   "metadata": {
    "nbpresent": {
     "id": "b01f2da8-e4a2-48ee-8622-5daa892be053"
    },
    "slideshow": {
     "slide_type": "subslide"
    }
   },
   "outputs": [],
   "source": [
    "%timeit min_points_without_constructor(4,200)\n",
    "min_points_without_constructor(4,200)"
   ]
  },
  {
   "cell_type": "markdown",
   "metadata": {
    "nbpresent": {
     "id": "3e116cf9-fcb3-4b53-a48d-c8b9f64b865f"
    },
    "slideshow": {
     "slide_type": "subslide"
    }
   },
   "source": [
    "### Testing:"
   ]
  },
  {
   "cell_type": "code",
   "execution_count": null,
   "metadata": {
    "nbpresent": {
     "id": "b22d299e-f281-4bce-b997-4bb4a7a4002f"
    },
    "slideshow": {
     "slide_type": "subslide"
    }
   },
   "outputs": [],
   "source": [
    "print(\"If the maximum number of points is 100 and you want grade 3, then you need to get at least \" +str(min_points(3,100)) + \" points\")"
   ]
  },
  {
   "cell_type": "code",
   "execution_count": null,
   "metadata": {
    "nbpresent": {
     "id": "2c482905-1ed1-44c9-bfd3-b07731a4c5ff"
    },
    "slideshow": {
     "slide_type": "subslide"
    }
   },
   "outputs": [],
   "source": [
    "print(\"If the maximum number of points is 75 and you want grade 2, then you need to get at least \" +str(min_points(2,75)) + \" points\")"
   ]
  }
 ],
 "metadata": {
  "anaconda-cloud": {},
  "celltoolbar": "Slideshow",
  "kernelspec": {
   "display_name": "Python 3",
   "language": "python",
   "name": "python3"
  },
  "language_info": {
   "codemirror_mode": {
    "name": "ipython",
    "version": 3
   },
   "file_extension": ".py",
   "mimetype": "text/x-python",
   "name": "python",
   "nbconvert_exporter": "python",
   "pygments_lexer": "ipython3",
   "version": "3.7.0"
  },
  "nbpresent": {
   "slides": {
    "030c2423-1df8-42b6-a44e-029a3aeeb628": {
     "id": "030c2423-1df8-42b6-a44e-029a3aeeb628",
     "prev": "dfdabdff-65e4-4639-b4c6-b5979754b696",
     "regions": {
      "38813de9-0281-4cae-8d8f-46df336ab8be": {
       "attrs": {
        "height": 0.8,
        "width": 0.8,
        "x": 0.1,
        "y": 0.1
       },
       "content": {
        "cell": "0d5e4697-c97a-495f-9e36-7b298d970459",
        "part": "whole"
       },
       "id": "38813de9-0281-4cae-8d8f-46df336ab8be"
      }
     }
    },
    "0f17dc40-a419-4455-811f-17ad014668d7": {
     "id": "0f17dc40-a419-4455-811f-17ad014668d7",
     "prev": null,
     "regions": {
      "964304d6-c88c-447f-b758-b508ec3d05d2": {
       "attrs": {
        "height": 0.8,
        "width": 0.8,
        "x": 0.1,
        "y": 0.1
       },
       "content": {
        "cell": "fa5ccf9e-2d62-434a-8d7b-28099c065e0c",
        "part": "whole"
       },
       "id": "964304d6-c88c-447f-b758-b508ec3d05d2"
      }
     }
    },
    "20d030b3-a414-4e7c-b22a-cc903c086722": {
     "id": "20d030b3-a414-4e7c-b22a-cc903c086722",
     "prev": "af0370c6-8dc5-4478-a6cf-fac8c979f870",
     "regions": {
      "1aa931ef-85c0-4b95-876e-82973dcb673c": {
       "attrs": {
        "height": 0.8,
        "width": 0.8,
        "x": 0.1,
        "y": 0.1
       },
       "content": {
        "cell": "022c6a8a-018b-4094-b809-5090b5e0c606",
        "part": "whole"
       },
       "id": "1aa931ef-85c0-4b95-876e-82973dcb673c"
      }
     }
    },
    "33222d95-167e-4bc2-8e16-bff8737f93ef": {
     "id": "33222d95-167e-4bc2-8e16-bff8737f93ef",
     "prev": "dfc22007-e570-4af1-bc64-cc79058fbbe8",
     "regions": {
      "83be3a2e-a70f-4994-b7bb-3fac8d3366b9": {
       "attrs": {
        "height": 0.8,
        "width": 0.8,
        "x": 0.1,
        "y": 0.1
       },
       "content": {
        "cell": "412617bb-3cc7-4f91-8508-0031f524dbe1",
        "part": "whole"
       },
       "id": "83be3a2e-a70f-4994-b7bb-3fac8d3366b9"
      }
     }
    },
    "46d0ee2e-69f6-4b6e-956a-9462a6509d5c": {
     "id": "46d0ee2e-69f6-4b6e-956a-9462a6509d5c",
     "prev": "ba5f8af5-d112-4f43-bcd5-f07876de1614",
     "regions": {
      "44933d2c-2a74-4e3b-bc0d-58b491bca91b": {
       "attrs": {
        "height": 0.8,
        "width": 0.8,
        "x": 0.1,
        "y": 0.1
       },
       "content": {
        "cell": "11a78bf5-af6a-4cff-b000-3c5765d256da",
        "part": "whole"
       },
       "id": "44933d2c-2a74-4e3b-bc0d-58b491bca91b"
      }
     }
    },
    "48bdeb07-164b-4b6e-94c3-0407ca0d175d": {
     "id": "48bdeb07-164b-4b6e-94c3-0407ca0d175d",
     "prev": "0f17dc40-a419-4455-811f-17ad014668d7",
     "regions": {
      "72ed7a5a-471f-4d62-a389-a4d06340d72b": {
       "attrs": {
        "height": 0.8,
        "width": 0.8,
        "x": 0.1,
        "y": 0.1
       },
       "content": {
        "cell": "6bc603ab-68a0-4c4b-825c-3906b7397662",
        "part": "whole"
       },
       "id": "72ed7a5a-471f-4d62-a389-a4d06340d72b"
      }
     }
    },
    "6c6f8f20-406e-47fe-bb29-82c4c698127d": {
     "id": "6c6f8f20-406e-47fe-bb29-82c4c698127d",
     "prev": "867c0ce6-08fb-4309-a854-6ed96caf1822",
     "regions": {
      "a2b0010a-2ddc-4044-a75c-2281bc78c7b1": {
       "attrs": {
        "height": 0.8,
        "width": 0.8,
        "x": 0.1,
        "y": 0.1
       },
       "content": {
        "cell": "b22d299e-f281-4bce-b997-4bb4a7a4002f",
        "part": "whole"
       },
       "id": "a2b0010a-2ddc-4044-a75c-2281bc78c7b1"
      }
     }
    },
    "867c0ce6-08fb-4309-a854-6ed96caf1822": {
     "id": "867c0ce6-08fb-4309-a854-6ed96caf1822",
     "prev": "d5dbd3db-e921-468c-b0a3-3d7b05a5e6fe",
     "regions": {
      "cbb544c1-7859-466f-b97c-fc97e8e88304": {
       "attrs": {
        "height": 0.8,
        "width": 0.8,
        "x": 0.1,
        "y": 0.1
       },
       "content": {
        "cell": "3e116cf9-fcb3-4b53-a48d-c8b9f64b865f",
        "part": "whole"
       },
       "id": "cbb544c1-7859-466f-b97c-fc97e8e88304"
      }
     }
    },
    "870c59d7-abc3-464b-81c5-a3aed86baabe": {
     "id": "870c59d7-abc3-464b-81c5-a3aed86baabe",
     "prev": "20d030b3-a414-4e7c-b22a-cc903c086722",
     "regions": {
      "19b088fe-2fb5-45b5-b5a0-fae8073f4ef8": {
       "attrs": {
        "height": 0.8,
        "width": 0.8,
        "x": 0.1,
        "y": 0.1
       },
       "content": {
        "cell": "f2dd7445-8460-4804-8995-f67b86f8a1bd",
        "part": "whole"
       },
       "id": "19b088fe-2fb5-45b5-b5a0-fae8073f4ef8"
      }
     }
    },
    "8c9dee47-c6ac-482b-9b00-a9bd21f7d9b2": {
     "id": "8c9dee47-c6ac-482b-9b00-a9bd21f7d9b2",
     "prev": "bc26a1c3-af39-4e40-8fcb-73d8571134f1",
     "regions": {
      "1bcfbe65-9721-4c53-ab2b-7d7098be4d64": {
       "attrs": {
        "height": 0.8,
        "width": 0.8,
        "x": 0.1,
        "y": 0.1
       },
       "content": {
        "cell": "ed4b88b8-7d67-4f61-9499-e65fabfead51",
        "part": "whole"
       },
       "id": "1bcfbe65-9721-4c53-ab2b-7d7098be4d64"
      }
     }
    },
    "a94a0fc1-71a3-428d-81ef-4c47a70836bc": {
     "id": "a94a0fc1-71a3-428d-81ef-4c47a70836bc",
     "prev": "46d0ee2e-69f6-4b6e-956a-9462a6509d5c",
     "regions": {
      "ccfd7f86-f197-44c5-81e2-bc43507ed228": {
       "attrs": {
        "height": 0.8,
        "width": 0.8,
        "x": 0.1,
        "y": 0.1
       },
       "content": {
        "cell": "d84e748c-c35c-4748-8f12-68918aa0bf9a",
        "part": "whole"
       },
       "id": "ccfd7f86-f197-44c5-81e2-bc43507ed228"
      }
     }
    },
    "af0370c6-8dc5-4478-a6cf-fac8c979f870": {
     "id": "af0370c6-8dc5-4478-a6cf-fac8c979f870",
     "prev": "33222d95-167e-4bc2-8e16-bff8737f93ef",
     "regions": {
      "38a6542a-e953-42f1-a837-0a0b89e5d84b": {
       "attrs": {
        "height": 0.8,
        "width": 0.8,
        "x": 0.1,
        "y": 0.1
       },
       "content": {
        "cell": "a03d2121-e56b-4996-8a33-654153b45a57",
        "part": "whole"
       },
       "id": "38a6542a-e953-42f1-a837-0a0b89e5d84b"
      }
     }
    },
    "b673074c-d6dc-419e-8586-314faeeeb25a": {
     "id": "b673074c-d6dc-419e-8586-314faeeeb25a",
     "prev": "030c2423-1df8-42b6-a44e-029a3aeeb628",
     "regions": {
      "3ef706cf-afd6-4dff-a191-f8f5dc9b355d": {
       "attrs": {
        "height": 0.8,
        "width": 0.8,
        "x": 0.1,
        "y": 0.1
       },
       "content": {
        "cell": "3d9d6644-ba0f-4f37-ae4e-55a97836565f",
        "part": "whole"
       },
       "id": "3ef706cf-afd6-4dff-a191-f8f5dc9b355d"
      }
     }
    },
    "ba5f8af5-d112-4f43-bcd5-f07876de1614": {
     "id": "ba5f8af5-d112-4f43-bcd5-f07876de1614",
     "prev": "f8270433-5bc1-4ee9-bcf6-5e6f284aaad9",
     "regions": {
      "5d017b86-0fff-481d-aba5-c21000005fab": {
       "attrs": {
        "height": 0.8,
        "width": 0.8,
        "x": 0.1,
        "y": 0.1
       },
       "content": {
        "cell": "c25b794c-8461-4c72-bf2f-23b354d14545",
        "part": "whole"
       },
       "id": "5d017b86-0fff-481d-aba5-c21000005fab"
      }
     }
    },
    "bc26a1c3-af39-4e40-8fcb-73d8571134f1": {
     "id": "bc26a1c3-af39-4e40-8fcb-73d8571134f1",
     "prev": "870c59d7-abc3-464b-81c5-a3aed86baabe",
     "regions": {
      "d95aad17-5fad-4e4d-b480-175a801b9daa": {
       "attrs": {
        "height": 0.8,
        "width": 0.8,
        "x": 0.1,
        "y": 0.1
       },
       "content": {
        "cell": "5bc8ec4d-2ba6-487d-8399-08ab1e080815",
        "part": "whole"
       },
       "id": "d95aad17-5fad-4e4d-b480-175a801b9daa"
      }
     }
    },
    "bd4bc836-0ec8-4502-8a13-bf89cf9822e8": {
     "id": "bd4bc836-0ec8-4502-8a13-bf89cf9822e8",
     "prev": "6c6f8f20-406e-47fe-bb29-82c4c698127d",
     "regions": {
      "0bc163a0-0c1a-4692-93c9-b84b2489b96a": {
       "attrs": {
        "height": 0.8,
        "width": 0.8,
        "x": 0.1,
        "y": 0.1
       },
       "content": {
        "cell": "2c482905-1ed1-44c9-bfd3-b07731a4c5ff",
        "part": "whole"
       },
       "id": "0bc163a0-0c1a-4692-93c9-b84b2489b96a"
      }
     }
    },
    "d5dbd3db-e921-468c-b0a3-3d7b05a5e6fe": {
     "id": "d5dbd3db-e921-468c-b0a3-3d7b05a5e6fe",
     "prev": "f4fb5078-bc50-4665-8e03-8afb825a8b67",
     "regions": {
      "9d414f93-5c3f-44c7-b89b-704f3123a861": {
       "attrs": {
        "height": 0.8,
        "width": 0.8,
        "x": 0.1,
        "y": 0.1
       },
       "content": {
        "cell": "b01f2da8-e4a2-48ee-8622-5daa892be053",
        "part": "whole"
       },
       "id": "9d414f93-5c3f-44c7-b89b-704f3123a861"
      }
     }
    },
    "dfc22007-e570-4af1-bc64-cc79058fbbe8": {
     "id": "dfc22007-e570-4af1-bc64-cc79058fbbe8",
     "prev": "b673074c-d6dc-419e-8586-314faeeeb25a",
     "regions": {
      "5b634437-a4c2-4538-a12a-30105af9b6a7": {
       "attrs": {
        "height": 0.8,
        "width": 0.8,
        "x": 0.1,
        "y": 0.1
       },
       "content": {
        "cell": "d47df318-0a1f-4625-9590-8b7fe4ba24d3",
        "part": "whole"
       },
       "id": "5b634437-a4c2-4538-a12a-30105af9b6a7"
      }
     }
    },
    "dfdabdff-65e4-4639-b4c6-b5979754b696": {
     "id": "dfdabdff-65e4-4639-b4c6-b5979754b696",
     "prev": "48bdeb07-164b-4b6e-94c3-0407ca0d175d",
     "regions": {
      "b58f8b85-c253-4906-ba4e-1a35ceedfd95": {
       "attrs": {
        "height": 0.8,
        "width": 0.8,
        "x": 0.1,
        "y": 0.1
       },
       "content": {
        "cell": "4b7d55b6-f3e7-45b2-ac65-aaffcf1d2a21",
        "part": "whole"
       },
       "id": "b58f8b85-c253-4906-ba4e-1a35ceedfd95"
      }
     }
    },
    "f4fb5078-bc50-4665-8e03-8afb825a8b67": {
     "id": "f4fb5078-bc50-4665-8e03-8afb825a8b67",
     "prev": "a94a0fc1-71a3-428d-81ef-4c47a70836bc",
     "regions": {
      "f5fbb93b-63c6-4b12-9837-df9fb705c949": {
       "attrs": {
        "height": 0.8,
        "width": 0.8,
        "x": 0.1,
        "y": 0.1
       },
       "content": {
        "cell": "ad92f3d0-d118-451e-a983-676222f9d37a",
        "part": "whole"
       },
       "id": "f5fbb93b-63c6-4b12-9837-df9fb705c949"
      }
     }
    },
    "f8270433-5bc1-4ee9-bcf6-5e6f284aaad9": {
     "id": "f8270433-5bc1-4ee9-bcf6-5e6f284aaad9",
     "prev": "8c9dee47-c6ac-482b-9b00-a9bd21f7d9b2",
     "regions": {
      "de1f6e0b-e98d-4714-a952-401f31391341": {
       "attrs": {
        "height": 0.8,
        "width": 0.8,
        "x": 0.1,
        "y": 0.1
       },
       "content": {
        "cell": "4573a3ab-61b8-4afc-99b0-abd1f21981a0",
        "part": "whole"
       },
       "id": "de1f6e0b-e98d-4714-a952-401f31391341"
      }
     }
    }
   },
   "themes": {}
  }
 },
 "nbformat": 4,
 "nbformat_minor": 1
}
