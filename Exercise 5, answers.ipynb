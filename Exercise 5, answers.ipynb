{
 "cells": [
  {
   "cell_type": "code",
   "execution_count": null,
   "metadata": {},
   "outputs": [],
   "source": [
    "def f_demo5(x):\n",
    "    return x[0]**2+x[1]**2+x[2]**3+(1-x[3])**2,[],[x[0]**2+x[1]**2-1,x[0]**2+x[2]**2-1]"
   ]
  },
  {
   "cell_type": "markdown",
   "metadata": {
    "slideshow": {
     "slide_type": "slide"
    }
   },
   "source": [
    "# Exercise 5, answers"
   ]
  },
  {
   "cell_type": "markdown",
   "metadata": {
    "slideshow": {
     "slide_type": "slide"
    }
   },
   "source": [
    "## Task 1\n",
    "* max 2p, 2p for correct result, reductions if flaws"
   ]
  },
  {
   "cell_type": "code",
   "execution_count": null,
   "metadata": {
    "slideshow": {
     "slide_type": "-"
    }
   },
   "outputs": [],
   "source": [
    "import numpy as np\n",
    "import ad\n",
    "\n",
    "# from the lectures\n",
    "\n",
    "\n",
    "#if k=0, returns the gradient of lagrangian, if k=1, returns the hessian\n",
    "def diff_L(f,x,m,k):\n",
    "    #Define the lagrangian for given m and f\n",
    "    L = lambda x_: f(x_)[0] + (np.matrix(f(x_)[2])*np.matrix(m).transpose())[0,0]\n",
    "    return ad.gh(L)[k](x)\n",
    "#Returns the gradients of the equality constraints\n",
    "def grad_h(f,x):\n",
    "    return  [ad.gh(lambda y: \n",
    "            f(y)[2][i])[0](x) for i in range(len(f(x)[2]))] \n",
    "\n",
    "#Solves the quadratic problem inside the SQP method\n",
    "def solve_QP(f,x,m):\n",
    "    left_side_first_row = np.concatenate((\n",
    "    np.matrix(diff_L(f,x,m,1)),\n",
    "    np.matrix(grad_h(f,x)).transpose()),axis=1)\n",
    "    left_side_second_row = np.concatenate((\n",
    "    np.matrix(grad_h(f,x)),\n",
    "    np.matrix(np.zeros((len(f(x)[2]),len(f(x)[2]))))),axis=1)\n",
    "    right_hand_side = np.concatenate((\n",
    "    -1*np.matrix(diff_L(f,x,m,0)).transpose(),\n",
    "    -np.matrix(f(x)[2]).transpose()),axis = 0)\n",
    "    left_hand_side = np.concatenate((\n",
    "                                    left_side_first_row,\n",
    "                                    left_side_second_row),axis = 0)\n",
    "    temp = np.linalg.solve(left_hand_side,right_hand_side)\n",
    "    return temp[:len(x)],temp[len(x):]\n",
    "    \n",
    "    \n",
    "\n",
    "def SQP(f,start,precision):\n",
    "    x = start\n",
    "    m = np.ones(len(f(x)[2]))\n",
    "    f_old = float('inf')\n",
    "    f_new = f(x)[0]\n",
    "    iters = 1\n",
    "    while abs(f_old-f_new)>precision:\n",
    "        print(x)\n",
    "        f_old = f_new\n",
    "        (p,v) = solve_QP(f,x,m)\n",
    "        x = x+np.array(p.transpose())[0]\n",
    "        m = m+v\n",
    "        f_new = f(x)[0]\n",
    "        iters = iters + 1\n",
    "    return x, iters"
   ]
  },
  {
   "cell_type": "code",
   "execution_count": null,
   "metadata": {},
   "outputs": [],
   "source": [
    "# The solution obtianed by the SQP method hoghly depends on the selected starting point!\n",
    "#x0 = [-5,-3,-4,-5]\n",
    "x0 = [0.001,1.2,-1,0.9]\n",
    "print(f_demo5(x0))\n",
    "x_opt = SQP(f_demo5,x0,0.00001)\n",
    "print(f_demo5(x_opt[0]),x_opt[1])\n",
    "print(x_opt)"
   ]
  },
  {
   "cell_type": "markdown",
   "metadata": {
    "slideshow": {
     "slide_type": "subslide"
    }
   },
   "source": [
    "### What is going on in here?\n",
    "\n",
    "* Many feasible solutions actually satisfy KKT conditions, but are not global optima\n",
    "\n",
    "\n",
    "* In addition, the problem has multiple local but not global optima\n",
    "\n",
    "\n"
   ]
  },
  {
   "cell_type": "code",
   "execution_count": null,
   "metadata": {},
   "outputs": [],
   "source": [
    "# These two are actually the globally optimal solutions where the objective value is zero. How can one know that?\n",
    "x0 = [0.0,1.0,-1.0,1.0]\n",
    "print(f_demo5(x0))\n",
    "x0 = [0.0,-1.0,-1.0,1.0]\n",
    "print(f_demo5(x0))\n",
    "x0 = [1.0,0.0,0.0,1.0]\n",
    "print(f_demo5(x0))\n",
    "x0 = [-1.0,0.0,0.0,1.0]\n",
    "print(f_demo5(x0))"
   ]
  },
  {
   "cell_type": "markdown",
   "metadata": {},
   "source": [
    "Since we know that $x_4=1$ in the optimal solution and using the first constraint, we can write the problem as \n",
    "$$\n",
    "\\begin{align}\n",
    "\\min \\qquad & x_3^3 + 1\\\\\n",
    "\\text{s.t.}\\qquad &x_1^2+x_3^2=1\\\\\n",
    "    &x\\in\\mathbb R^2\n",
    "\\end{align}\n",
    "$$\n"
   ]
  },
  {
   "cell_type": "code",
   "execution_count": null,
   "metadata": {},
   "outputs": [],
   "source": [
    "# Plot the objective function values and the constraint function values\n",
    "import numpy as np\n",
    "from pylab import meshgrid\n",
    "import matplotlib.pyplot as plt\n",
    "from mpl_toolkits.mplot3d import Axes3D\n",
    "\n",
    "def plot_2d_function(lb1,lb2,ub1,ub2,f,f2):\n",
    "    x = np.arange(lb1,ub1,0.1)\n",
    "    y = np.arange(lb2,ub2,0.1)\n",
    "    X,Y = meshgrid(x, y) # grid of point\n",
    "    Z = [f([x,y]) for (x,y) in zip (X,Y)] # evaluation of the objective function on the grid\n",
    "    Z = np.asarray(Z)\n",
    "    fig = plt.figure()\n",
    "    ax = fig.gca(projection='3d')\n",
    "    surf = ax.plot_surface(X, Y, Z)\n",
    "    Z2 = [f2([x,y]) for (x,y) in zip (X,Y)] # evaluation of the constraint function on the grid\n",
    "    Z2 = np.asarray(Z2)\n",
    "    surf = ax.plot_surface(X, Y, Z2)\n",
    "    return plt"
   ]
  },
  {
   "cell_type": "code",
   "execution_count": null,
   "metadata": {},
   "outputs": [],
   "source": [
    "# objective function\n",
    "def f_demo5b(x):\n",
    "    return x[0]**3+1"
   ]
  },
  {
   "cell_type": "code",
   "execution_count": null,
   "metadata": {},
   "outputs": [],
   "source": [
    "def f2_demo5b(x):\n",
    "    # returns the value of the constraint i.e. x_3^2 + x_1^2 - 1\n",
    "    # thus for feasible solutions the value = 0\n",
    "    return x[0]**2+x[1]**2-1"
   ]
  },
  {
   "cell_type": "code",
   "execution_count": null,
   "metadata": {},
   "outputs": [],
   "source": [
    "# Constraint function in orange, objective function in blue\n",
    "x = 1.\n",
    "plot_2d_function(-x,-x,x,x,f_demo5b,f2_demo5b).show()\n",
    "# Optimal solution is in x1=0 and x3=-1 where the two surfaces intersect (and constraint=0). You can verify that \n",
    "# by solving the problem     min f_demo5b(x) s.t. f2_demo5b(x)=0"
   ]
  },
  {
   "cell_type": "markdown",
   "metadata": {
    "slideshow": {
     "slide_type": "slide"
    }
   },
   "source": [
    "## Task 2\n",
    "* max 2p, 2p for correct result, reductions if flaws"
   ]
  },
  {
   "cell_type": "code",
   "execution_count": null,
   "metadata": {},
   "outputs": [],
   "source": [
    "# from the lectures\n",
    "def augmented_langrangian(f,x,la,c):\n",
    "    second_term = float(numpy.matrix(la)*numpy.matrix(f(x)[2]).\n",
    "                    transpose())\n",
    "    third_term = 0.5*c*numpy.linalg.norm(f(x)[2])**2\n",
    "    #print(c,second_term,third_term)\n",
    "    return f(x)[0]+second_term+third_term"
   ]
  },
  {
   "cell_type": "code",
   "execution_count": null,
   "metadata": {},
   "outputs": [],
   "source": [
    "# from the lectures\n",
    "from scipy.optimize import minimize\n",
    "import numpy\n",
    "def augmented_langrangian_method(f,start,la0,c0):\n",
    "    x_old = [float('inf')]*4\n",
    "    x_new = start\n",
    "    f_old = float('inf')\n",
    "    f_new = f(x_new)[0]\n",
    "    la = la0\n",
    "    c = c0\n",
    "#    while numpy.linalg.norm(f(x_new)[2])>0.000001:\n",
    "    while abs(f_old-f_new)>0.00001:\n",
    "#        print(x_new)\n",
    "        f_old = f_new\n",
    "        res = minimize(lambda x:augmented_langrangian(f,x,la,c),x_new)\n",
    "        x_old = x_new\n",
    "        la = la+c*numpy.matrix(f(res.x)[2])\n",
    "#        print(la)\n",
    "        x_new = res.x\n",
    "        f_new = f(x_new)[0]\n",
    "        c=2*c\n",
    "    return x_new,c"
   ]
  },
  {
   "cell_type": "code",
   "execution_count": null,
   "metadata": {},
   "outputs": [],
   "source": [
    "# Again, starting affects the solution obtained\n",
    "x0 = [5,3,4,5]\n",
    "#x0 = [1.0,1.1,-1.1,0.1]\n",
    "#x0 = [0.1,0.1,-0.1,0.1]\n",
    "x_opt = augmented_langrangian_method(f_demo5,x0,[1,1],1)\n",
    "print(f_demo5(x_opt[0]))\n",
    "print(x_opt)"
   ]
  },
  {
   "cell_type": "markdown",
   "metadata": {
    "slideshow": {
     "slide_type": "slide"
    }
   },
   "source": [
    "## Task 3"
   ]
  },
  {
   "cell_type": "markdown",
   "metadata": {},
   "source": [
    "Now, the stability rule becomes\n",
    "$$\n",
    "(2x_1,2x_2)-\\lambda(1,1) = (0,0),\n",
    "$$\n",
    "and completementary rule becomes\n",
    "$$\n",
    "\\lambda(x_1+x_2-1) = 0.\n",
    "$$\n",
    "Thus, we need to have:\n",
    "\n",
    "$$\n",
    "\\left\\{\n",
    "\\begin{align}\n",
    "2x_1-\\lambda=0\\quad (1)\\\\\n",
    "2x_2-\\lambda=0\\quad (2)\\\\\n",
    "\\lambda(x_1+x_2-1) = 0\\quad (3)\n",
    "\\end{align}\n",
    "\\right.\n",
    "$$\n",
    "\n",
    "Now deducting equation (2), from equation (1) gives $2x_1-2x_2=0$, thus $x_1=x_2$.  Now if $\\lambda= 0$, then $x_1=x_2=0$. However, this solution is not feasible. Thus, $\\lambda\\neq0$, which implies $x_1+x_2-1=0$, which gives $x_1=x_2=\\frac12$ and, thus, $\\lambda=1$. These values satisfy KKT conditions.\n",
    "\n",
    "Because the problem is quadratic, it has an optimal solution. Since only one solution satisfies KKT conditions, this solution is optimal."
   ]
  },
  {
   "cell_type": "markdown",
   "metadata": {
    "slideshow": {
     "slide_type": "slide"
    }
   },
   "source": [
    "## Task 4"
   ]
  },
  {
   "cell_type": "markdown",
   "metadata": {},
   "source": [
    "Now,\n",
    "$$\n",
    "\\begin{align}\n",
    "\\nabla_x L_c(x^*,\\lambda^*)& = \\nabla f(x^*)+\\sum_{k=1}^K \\lambda^*_k\\nabla h_k(x^*)+c\\nabla(\\sum_{k=1}^Kh_k(x^*)^2)\\\\\n",
    "&=\\nabla f(x^*)+\\sum_{k=1}^K \\lambda^*_k\\nabla h_k(x^*)+2c\\sum_{k=1}^Kh_k(x^*)\\nabla h_k(x^*)\\\\\n",
    "&=0+2c\\sum_{k=1}^K0\\nabla h_k(x^*)=0.\n",
    "\\end{align}\n",
    "$$\n",
    "The first zero is given by the KKT conditions and the second zero is due to the solution being feasible."
   ]
  }
 ],
 "metadata": {
  "anaconda-cloud": {},
  "celltoolbar": "Slideshow",
  "kernelspec": {
   "display_name": "Python 3",
   "language": "python",
   "name": "python3"
  },
  "language_info": {
   "codemirror_mode": {
    "name": "ipython",
    "version": 3
   },
   "file_extension": ".py",
   "mimetype": "text/x-python",
   "name": "python",
   "nbconvert_exporter": "python",
   "pygments_lexer": "ipython3",
   "version": "3.7.0"
  }
 },
 "nbformat": 4,
 "nbformat_minor": 1
}
