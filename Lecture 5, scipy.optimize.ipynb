{
 "cells": [
  {
   "cell_type": "code",
   "execution_count": null,
   "metadata": {},
   "outputs": [],
   "source": [
    "from IPython.core.display import HTML\n",
    "HTML(\"<style>.container { width:95% !important; }</style>\")"
   ]
  },
  {
   "cell_type": "markdown",
   "metadata": {
    "slideshow": {
     "slide_type": "slide"
    }
   },
   "source": [
    "# Lecture 5: scipy.optimize"
   ]
  },
  {
   "cell_type": "markdown",
   "metadata": {
    "slideshow": {
     "slide_type": "slide"
    }
   },
   "source": [
    "# Optimization software\n",
    "* When we want to optimize something, we do not of course need to start everything from scratch. It is good to know how algorithms work, but if the development of new algorithms is not the main point, then one can just use packages and libraries that have been premade. \n",
    "* First, we have a look at some of the available software and, then, we have a closer look at scipy.optimize\n",
    "\n"
   ]
  },
  {
   "cell_type": "markdown",
   "metadata": {
    "slideshow": {
     "slide_type": "subslide"
    }
   },
   "source": [
    "## Have you used any optimization software before? Please share your experiences."
   ]
  },
  {
   "cell_type": "markdown",
   "metadata": {
    "slideshow": {
     "slide_type": "subslide"
    }
   },
   "source": [
    "## Wolfram Alpha\n",
    "* Free web version of Mathematica\n",
    "* http://www.wolframalpha.com/\n",
    "* Can perform either symbolic or numerical calculations\n",
    "* Includes also some basic optimization"
   ]
  },
  {
   "cell_type": "markdown",
   "metadata": {
    "slideshow": {
     "slide_type": "subslide"
    }
   },
   "source": [
    "## Rosenbrock function\n",
    "A non-convex function\n",
    "$$\n",
    "f(x) = (1-x_1)^2 +100(x_2-x_1^2)^2\n",
    "$$\n",
    "that has a global minimum in $x^*=(1,1)^T$ where $f(x^*)=0$. The minimum is located in a narrow, banana-shaped valley.\n",
    "\n",
    "The coefficient of the second term can be adjusted but it does not affect the position of the global minimum. The Rosenbrock function is used to test optimization algorithms.\n"
   ]
  },
  {
   "cell_type": "code",
   "execution_count": null,
   "metadata": {},
   "outputs": [],
   "source": [
    "def f_rosenb(x):\n",
    "    return (1.0 -x[0])**2 + 100*(x[1] - x[0]**2)**2"
   ]
  },
  {
   "cell_type": "markdown",
   "metadata": {
    "slideshow": {
     "slide_type": "subslide"
    }
   },
   "source": [
    "## Matlab - Optimization toolbox\n",
    "* Interactive environment for numerical computing\n",
    "* Subroutines for unconstrained optimization:\n",
    "  * fminbnd: find minimum of single-variable function on fixed interval\n",
    "  * fminsearch: find minimum of unconstrained multivariable function using derivative-free method\n",
    "  * fminunc: find minimum of unconstrained multivariable function using gradient-based method\n",
    "* Matlab codes for the subroutines can be found in the directory where Matlab is installed:\n",
    " ..\\MATLAB\\R2013a\\toolbox\\optim\\optim\\\n",
    "* You can also use Octave (https://www.gnu.org/software/octave/) which is an open source software having compatibility with many Matlab scripts\n"
   ]
  },
  {
   "cell_type": "markdown",
   "metadata": {
    "nbpresent": {
     "id": "6324f363-e061-41d9-88c9-20428229ee38"
    },
    "slideshow": {
     "slide_type": "slide"
    }
   },
   "source": [
    "# Optimization with scipy.optimize\n",
    "In Python, there are multiple packages for optimization. At this lecture, we are goint to take a look at *scipy.optimize* package."
   ]
  },
  {
   "cell_type": "markdown",
   "metadata": {
    "nbpresent": {
     "id": "8c19b564-5052-4879-b7ae-e7877d8745c1"
    },
    "slideshow": {
     "slide_type": "slide"
    }
   },
   "source": [
    "## Starting up"
   ]
  },
  {
   "cell_type": "markdown",
   "metadata": {
    "nbpresent": {
     "id": "ee3c7af4-06f5-4c4c-8392-d310282fec84"
    },
    "slideshow": {
     "slide_type": "-"
    }
   },
   "source": [
    "When we want to study a package in Python, we can import it.."
   ]
  },
  {
   "cell_type": "code",
   "execution_count": null,
   "metadata": {
    "nbpresent": {
     "id": "2aca0900-9e4f-40b1-8ff7-94f5a4e7d2da"
    }
   },
   "outputs": [],
   "source": [
    "from scipy.optimize import minimize"
   ]
  },
  {
   "cell_type": "markdown",
   "metadata": {
    "nbpresent": {
     "id": "64385d13-cfde-4992-b2de-1e3272f23d12"
    }
   },
   "source": [
    "If we want to see the documentation, we can write the name of the package and two question marks and hit enter:"
   ]
  },
  {
   "cell_type": "code",
   "execution_count": null,
   "metadata": {
    "nbpresent": {
     "id": "28974e49-4174-4b70-a535-0ecc85eec814"
    }
   },
   "outputs": [],
   "source": [
    "minimize??"
   ]
  },
  {
   "cell_type": "markdown",
   "metadata": {
    "nbpresent": {
     "id": "4296d2ba-7c1e-4281-95da-86d37f45e43e"
    },
    "slideshow": {
     "slide_type": "slide"
    }
   },
   "source": [
    "## Optimization of multiple variables"
   ]
  },
  {
   "cell_type": "markdown",
   "metadata": {
    "nbpresent": {
     "id": "97556a10-62df-4bf9-9cb5-70357b4123e1"
    }
   },
   "source": [
    "Let us define again our friendly objective function:"
   ]
  },
  {
   "cell_type": "code",
   "execution_count": null,
   "metadata": {
    "nbpresent": {
     "id": "7a086399-07ef-42df-a66b-917e7b4f562b"
    },
    "slideshow": {
     "slide_type": "-"
    }
   },
   "outputs": [],
   "source": [
    "def f_simple(x):\n",
    "    return (x[0] - 10.0)**2 + (x[1] + 5.0)**2+x[0]**2"
   ]
  },
  {
   "cell_type": "markdown",
   "metadata": {
    "nbpresent": {
     "id": "ba6902a4-9eb8-416d-8038-8f6eec482ccc"
    },
    "slideshow": {
     "slide_type": "slide"
    }
   },
   "source": [
    "### Method: `Nelder-Mead'"
   ]
  },
  {
   "cell_type": "markdown",
   "metadata": {
    "nbpresent": {
     "id": "3f30c2d7-f344-4817-8d78-aaddfa0a1ef3"
    }
   },
   "source": [
    "![alt text](images/nelder_mead.png \"Nelder-Mead\")\n",
    "The documentation has the following to say:\n",
    "\n",
    "<pre>\n",
    "    Method :ref:`Nelder-Mead <optimize.minimize-neldermead>` uses the\n",
    "    Simplex algorithm [1]_, [2]_. This algorithm has been successful\n",
    "    in many applications but other algorithms using the first and/or\n",
    "    second derivatives information might be preferred for their better\n",
    "    performances and robustness in general.\n",
    "...\n",
    "     References\n",
    "    ----------\n",
    "    .. [1] Nelder, J A, and R Mead. 1965. A Simplex Method for Function\n",
    "        Minimization. The Computer Journal 7: 308-13.\n",
    "    .. [2] Wright M H. 1996. Direct search methods: Once scorned, now\n",
    "        respectable, in Numerical Analysis 1995: Proceedings of the 1995\n",
    "        Dundee Biennial Conference in Numerical Analysis (Eds. D F\n",
    "        Griffiths and G A Watson). Addison Wesley Longman, Harlow, UK.\n",
    "        191-208.\n",
    "</pre>"
   ]
  },
  {
   "cell_type": "code",
   "execution_count": null,
   "metadata": {
    "nbpresent": {
     "id": "1dc7fe09-fc21-48c0-89ae-9294185f31c4"
    }
   },
   "outputs": [],
   "source": [
    "res = minimize(f_simple,[0,0],method='Nelder-Mead', \n",
    "         options={'disp': True})\n",
    "print(res.x)\n",
    "res = minimize(f_simple,[0,0],method='Powell', \n",
    "         options={'disp': True})\n",
    "print(res.x)"
   ]
  },
  {
   "cell_type": "code",
   "execution_count": null,
   "metadata": {
    "nbpresent": {
     "id": "663168da-2059-474a-97ec-ba3a7bbaa390"
    }
   },
   "outputs": [],
   "source": [
    "print(type(res))\n",
    "print(res)\n",
    "print(res.message)"
   ]
  },
  {
   "cell_type": "code",
   "execution_count": null,
   "metadata": {},
   "outputs": [],
   "source": [
    "res = minimize(f_rosenb,[-2.0,-10],method='Nelder-Mead', \n",
    "         options={'disp': True})"
   ]
  },
  {
   "cell_type": "code",
   "execution_count": null,
   "metadata": {
    "scrolled": true
   },
   "outputs": [],
   "source": [
    "print(res)"
   ]
  },
  {
   "cell_type": "markdown",
   "metadata": {
    "nbpresent": {
     "id": "6393f96e-801f-4fae-88c1-b75efe14f7e4"
    },
    "slideshow": {
     "slide_type": "slide"
    }
   },
   "source": [
    "### Method: `CG`\n",
    "* Idea is to improve convergence properties of steepest descent\n",
    "* A search direction is a combination of the current search direction and a previous search direction\n"
   ]
  },
  {
   "cell_type": "markdown",
   "metadata": {
    "nbpresent": {
     "id": "6fc58338-9865-4388-a410-1d86594b1465"
    }
   },
   "source": [
    "The documentation has the following to say:\n",
    "<pre>\n",
    "    Method :ref:`CG <optimize.minimize-cg>` uses a nonlinear conjugate\n",
    "    gradient algorithm by Polak and Ribiere, a variant of the\n",
    "    Fletcher-Reeves method described in [5]_ pp.  120-122. Only the\n",
    "    first derivatives are used.\n",
    "...\n",
    "   References\n",
    "    ----------\n",
    "...\n",
    "    .. [5] Nocedal, J, and S J Wright. 2006. Numerical Optimization.\n",
    "       Springer New York.\n",
    "</pre>\n",
    "The Conjugate gradient method needs the gradient. The documentation has the following to say\n",
    "<pre>\n",
    "    jac : bool or callable, optional\n",
    "        Jacobian (gradient) of objective function. Only for CG, BFGS,\n",
    "        Newton-CG, L-BFGS-B, TNC, SLSQP, dogleg, trust-ncg.\n",
    "        If `jac` is a Boolean and is True, `fun` is assumed to return the\n",
    "        gradient along with the objective function. If False, the\n",
    "        gradient will be estimated numerically.\n",
    "        `jac` can also be a callable returning the gradient of the\n",
    "        objective. In this case, it must accept the same arguments as `fun`.\n",
    "</pre>"
   ]
  },
  {
   "cell_type": "markdown",
   "metadata": {
    "nbpresent": {
     "id": "21754b8f-5790-47f9-bee6-5b792c6ca840"
    },
    "slideshow": {
     "slide_type": "subslide"
    }
   },
   "source": [
    "### Estimating the gradient numerically:"
   ]
  },
  {
   "cell_type": "code",
   "execution_count": null,
   "metadata": {
    "nbpresent": {
     "id": "a2e91f14-c378-4110-9671-f19f30bef857"
    },
    "scrolled": true
   },
   "outputs": [],
   "source": [
    "res = minimize(f_simple, [0,0], method='CG', #Conjugate gradient method\n",
    "               options={'disp': True})\n",
    "print(res.x)"
   ]
  },
  {
   "cell_type": "markdown",
   "metadata": {
    "nbpresent": {
     "id": "81bf3b2d-a6d9-41b6-9064-62db126eef27"
    },
    "slideshow": {
     "slide_type": "subslide"
    }
   },
   "source": [
    "### Giving the gradient with ad"
   ]
  },
  {
   "cell_type": "code",
   "execution_count": null,
   "metadata": {
    "nbpresent": {
     "id": "322f0e05-72a3-4ad7-a26d-d546a6608473"
    }
   },
   "outputs": [],
   "source": [
    "import ad\n",
    "res = minimize(f_simple, [0,0], method='CG', #Conjugate gradient method\n",
    "               options={'disp': True}, jac=ad.gh(f_simple)[0])\n",
    "print(res.x)"
   ]
  },
  {
   "cell_type": "markdown",
   "metadata": {
    "nbpresent": {
     "id": "2a3d996b-d430-4949-82d7-3a85b2c70697"
    },
    "slideshow": {
     "slide_type": "slide"
    }
   },
   "source": [
    "### Method: `Newton-CG` "
   ]
  },
  {
   "cell_type": "markdown",
   "metadata": {
    "nbpresent": {
     "id": "20c00a72-d915-45de-bff6-19cf4881bd4e"
    }
   },
   "source": [
    "Newton-CG method uses a Newton-CG algorithm [5] pp. 168 (also known as the truncated Newton method). It uses a CG method to the compute the search direction. See also *TNC* method for a box-constrained minimization with a similar algorithm.\n",
    "\n",
    "   References\n",
    "    ----------\n",
    "    .. [5] Nocedal, J, and S J Wright. 2006. Numerical Optimization.\n",
    "       Springer New York.\n",
    "\n",
    "\n",
    "The Newton-CG algorithm needs the Jacobian and the Hessian. The documentation has the following to say:\n",
    "<pre>\n",
    "    hess, hessp : callable, optional\n",
    "        Hessian (matrix of second-order derivatives) of objective function or\n",
    "        Hessian of objective function times an arbitrary vector p.  Only for\n",
    "        Newton-CG, dogleg, trust-ncg.\n",
    "        Only one of `hessp` or `hess` needs to be given.  If `hess` is\n",
    "        provided, then `hessp` will be ignored.  If neither `hess` nor\n",
    "        `hessp` is provided, then the Hessian product will be approximated\n",
    "        using finite differences on `jac`. `hessp` must compute the Hessian\n",
    "        times an arbitrary vector.\n",
    " </pre>"
   ]
  },
  {
   "cell_type": "markdown",
   "metadata": {
    "nbpresent": {
     "id": "1a43335e-8410-477e-81b7-6b34d981b351"
    },
    "slideshow": {
     "slide_type": "subslide"
    }
   },
   "source": [
    "### Trying without reading the documentation"
   ]
  },
  {
   "cell_type": "code",
   "execution_count": null,
   "metadata": {
    "nbpresent": {
     "id": "322636ff-6a40-4f45-89ba-f3f67f460b24"
    }
   },
   "outputs": [],
   "source": [
    "import numpy as np\n",
    "res = minimize(f_simple, [0,0], method='Newton-CG', #Newton-CG method\n",
    "               options={'disp': True})\n",
    "print(res.x)"
   ]
  },
  {
   "cell_type": "markdown",
   "metadata": {
    "nbpresent": {
     "id": "b27c5491-9d85-420e-a394-b11e13c6422a"
    },
    "slideshow": {
     "slide_type": "subslide"
    }
   },
   "source": [
    "### Giving the gradient"
   ]
  },
  {
   "cell_type": "code",
   "execution_count": null,
   "metadata": {
    "nbpresent": {
     "id": "c069085e-10e6-4063-a8d4-01ff1f0fd374"
    }
   },
   "outputs": [],
   "source": [
    "import ad\n",
    "res = minimize(f_simple, [0,0], method='Newton-CG', #Newton-CG method\n",
    "               options={'disp': True},jac=ad.gh(f_simple)[0])\n",
    "print(res.x)"
   ]
  },
  {
   "cell_type": "markdown",
   "metadata": {
    "nbpresent": {
     "id": "e12c8370-40b0-49dc-9dce-262244901ce0"
    },
    "slideshow": {
     "slide_type": "subslide"
    }
   },
   "source": [
    "### Giving also the hessian"
   ]
  },
  {
   "cell_type": "code",
   "execution_count": null,
   "metadata": {},
   "outputs": [],
   "source": [
    "import ad\n",
    "res = minimize(f_simple, [0,0], method='Newton-CG', #Newton-CG method\n",
    "               options={'disp': True},jac=ad.gh(f_simple)[0],\n",
    "               hess=ad.gh(f_simple)[1])\n",
    "print(res.x)"
   ]
  },
  {
   "cell_type": "markdown",
   "metadata": {
    "slideshow": {
     "slide_type": "slide"
    }
   },
   "source": [
    "## Another example\n",
    "$$\n",
    "\\begin{align}\n",
    "\\min \\quad & (x_1-2)^4+(x_1 - 2x_2)^2\\\\\n",
    "\\text{s.t.}\\quad &x_1,x_2\\in\\mathbb R\n",
    "\\end{align}  \n",
    "$$\n",
    "Optimal solution clearly is $x^*=(2,1)^T$"
   ]
  },
  {
   "cell_type": "code",
   "execution_count": null,
   "metadata": {},
   "outputs": [],
   "source": [
    "def f_simple2(x):\n",
    "    return (x[0] - 2.0)**4 + (x[0] - 2.0*x[1])**2"
   ]
  },
  {
   "cell_type": "code",
   "execution_count": null,
   "metadata": {},
   "outputs": [],
   "source": [
    "import numpy as np\n",
    "x0 = np.array([-96,-2000])\n",
    "res = minimize(f_simple2,x0,method='Nelder-Mead', \n",
    "         options={'disp': True})\n",
    "print(res.x)\n",
    "res = minimize(f_simple2,x0,method='Powell', \n",
    "         options={'disp': True})\n",
    "print(res.x)\n",
    "res = minimize(f_simple2, x0, method='CG', #Conjugate gradient method\n",
    "               options={'disp': True}, jac=ad.gh(f_simple2)[0])\n",
    "print(res.x)\n",
    "res = minimize(f_simple2, x0, method='Newton-CG', #Newton-CG method\n",
    "               options={'disp': True},jac=ad.gh(f_simple2)[0],\n",
    "               hess=ad.gh(f_simple2)[1])\n",
    "print(res.x)"
   ]
  },
  {
   "cell_type": "code",
   "execution_count": null,
   "metadata": {},
   "outputs": [],
   "source": [
    "# Add here optimization of the Rosenbrock function with gradient based algorithms"
   ]
  },
  {
   "cell_type": "markdown",
   "metadata": {
    "nbpresent": {
     "id": "cc46467f-bc33-4f4e-80a5-f99cdc94beb8"
    },
    "slideshow": {
     "slide_type": "slide"
    }
   },
   "source": [
    "## Line search"
   ]
  },
  {
   "cell_type": "code",
   "execution_count": null,
   "metadata": {
    "nbpresent": {
     "id": "b275a7f4-7966-4530-9c8d-9be3dd2add4f"
    },
    "slideshow": {
     "slide_type": "-"
    }
   },
   "outputs": [],
   "source": [
    "def f_singlevar(x):\n",
    "    return 2+(1-x)**2"
   ]
  },
  {
   "cell_type": "code",
   "execution_count": null,
   "metadata": {
    "nbpresent": {
     "id": "4fca0c15-d9f5-4075-9838-6c1dfc94f998"
    }
   },
   "outputs": [],
   "source": [
    "from scipy.optimize import minimize_scalar\n",
    "minimize_scalar??"
   ]
  },
  {
   "cell_type": "markdown",
   "metadata": {
    "nbpresent": {
     "id": "a393e595-14c0-438b-b544-58540f8c4e73"
    },
    "slideshow": {
     "slide_type": "slide"
    }
   },
   "source": [
    "### Method: `Golden`"
   ]
  },
  {
   "cell_type": "markdown",
   "metadata": {
    "nbpresent": {
     "id": "fe8391dd-7de0-42d3-add0-48de7e320de7"
    }
   },
   "source": [
    "The documentation has the following to say:\n",
    "<pre>\n",
    "    Method :ref:`Golden <optimize.minimize_scalar-golden>` uses the\n",
    "    golden section search technique. It uses analog of the bisection\n",
    "    method to decrease the bracketed interval. It is usually\n",
    "    preferable to use the *Brent* method.\n",
    "</pre>"
   ]
  },
  {
   "cell_type": "code",
   "execution_count": null,
   "metadata": {
    "nbpresent": {
     "id": "1fad7497-705f-4bad-96ab-58d9232fb985"
    }
   },
   "outputs": [],
   "source": [
    "minimize_scalar(f_singlevar,method='golden',tol=0.00001)"
   ]
  },
  {
   "cell_type": "markdown",
   "metadata": {
    "nbpresent": {
     "id": "47a1d00c-ffd9-49d6-aa7e-65bcb1f114f7"
    },
    "slideshow": {
     "slide_type": "slide"
    }
   },
   "source": [
    "### Method: `Brent`"
   ]
  },
  {
   "cell_type": "markdown",
   "metadata": {
    "nbpresent": {
     "id": "f7e8a6c3-6640-4ad5-bcca-fe091badefa5"
    }
   },
   "source": [
    "The documentation has the following to say about the Brent method:\n",
    "\n",
    "    Method *Brent* uses Brent's algorithm to find a local minimum.\n",
    "    The algorithm uses inverse parabolic interpolation when possible to\n",
    "    speed up convergence of the golden section method."
   ]
  },
  {
   "cell_type": "code",
   "execution_count": null,
   "metadata": {
    "nbpresent": {
     "id": "afe2d334-0bec-4076-a17d-1d99c5c93ac9"
    }
   },
   "outputs": [],
   "source": [
    "minimize_scalar(f_singlevar,method='brent')"
   ]
  }
 ],
 "metadata": {
  "anaconda-cloud": {},
  "celltoolbar": "Slideshow",
  "kernelspec": {
   "display_name": "Python 3",
   "language": "python",
   "name": "python3"
  },
  "language_info": {
   "codemirror_mode": {
    "name": "ipython",
    "version": 3
   },
   "file_extension": ".py",
   "mimetype": "text/x-python",
   "name": "python",
   "nbconvert_exporter": "python",
   "pygments_lexer": "ipython3",
   "version": "3.7.0"
  },
  "nbpresent": {
   "slides": {
    "031da6b8-5180-42d9-be54-737c1875ceb3": {
     "id": "031da6b8-5180-42d9-be54-737c1875ceb3",
     "prev": "7177ab25-8327-477a-a816-01a54b7e9e4b",
     "regions": {
      "f05baf18-11a8-4c48-8c1a-2d501f600c58": {
       "attrs": {
        "height": 0.8,
        "width": 0.8,
        "x": 0.1,
        "y": 0.1
       },
       "content": {
        "cell": "ba6902a4-9eb8-416d-8038-8f6eec482ccc",
        "part": "whole"
       },
       "id": "f05baf18-11a8-4c48-8c1a-2d501f600c58"
      }
     }
    },
    "04b4010c-da7a-45ae-ad84-978148b93eaa": {
     "id": "04b4010c-da7a-45ae-ad84-978148b93eaa",
     "prev": "2f757932-e49a-48b4-8d92-7fd4c3dd0922",
     "regions": {
      "a9f7501c-87de-40bf-adaa-230bfa9e1523": {
       "attrs": {
        "height": 0.8,
        "width": 0.8,
        "x": 0.1,
        "y": 0.1
       },
       "content": {
        "cell": "b27c5491-9d85-420e-a394-b11e13c6422a",
        "part": "whole"
       },
       "id": "a9f7501c-87de-40bf-adaa-230bfa9e1523"
      }
     }
    },
    "0cdce46e-6665-4eeb-88f3-81fd25a2a5ed": {
     "id": "0cdce46e-6665-4eeb-88f3-81fd25a2a5ed",
     "prev": "a3f7f4f7-d013-489a-96e2-fcd7801b0c63",
     "regions": {
      "91638676-564a-47f2-bbc2-e4e33d6db61c": {
       "attrs": {
        "height": 0.8,
        "width": 0.8,
        "x": 0.1,
        "y": 0.1
       },
       "content": {
        "cell": "4296d2ba-7c1e-4281-95da-86d37f45e43e",
        "part": "whole"
       },
       "id": "91638676-564a-47f2-bbc2-e4e33d6db61c"
      }
     }
    },
    "147b53a2-6610-4bbb-bcc1-ff15e475d878": {
     "id": "147b53a2-6610-4bbb-bcc1-ff15e475d878",
     "prev": "c6f46339-5d9e-4dd9-91e0-25309326c9e3",
     "regions": {
      "7fbc1610-61a1-4fc2-9537-7bf08bef2064": {
       "attrs": {
        "height": 0.8,
        "width": 0.8,
        "x": 0.1,
        "y": 0.1
       },
       "content": {
        "cell": "cc46467f-bc33-4f4e-80a5-f99cdc94beb8",
        "part": "whole"
       },
       "id": "7fbc1610-61a1-4fc2-9537-7bf08bef2064"
      }
     }
    },
    "25a81a6d-5983-46bd-84bd-71350de30b7b": {
     "id": "25a81a6d-5983-46bd-84bd-71350de30b7b",
     "prev": "d3f7235a-6016-4630-8940-2b02c5868c92",
     "regions": {
      "3ac7dc9b-6db8-472c-93f2-ea174cde727b": {
       "attrs": {
        "height": 0.8,
        "width": 0.8,
        "x": 0.1,
        "y": 0.1
       },
       "content": {
        "cell": "4fca0c15-d9f5-4075-9838-6c1dfc94f998",
        "part": "whole"
       },
       "id": "3ac7dc9b-6db8-472c-93f2-ea174cde727b"
      }
     }
    },
    "27acbff9-2765-4b34-b7e1-892aa33f86c7": {
     "id": "27acbff9-2765-4b34-b7e1-892aa33f86c7",
     "prev": "0cdce46e-6665-4eeb-88f3-81fd25a2a5ed",
     "regions": {
      "2f57338b-85bf-422d-9f15-590923a567f0": {
       "attrs": {
        "height": 0.8,
        "width": 0.8,
        "x": 0.1,
        "y": 0.1
       },
       "content": {
        "cell": "97556a10-62df-4bf9-9cb5-70357b4123e1",
        "part": "whole"
       },
       "id": "2f57338b-85bf-422d-9f15-590923a567f0"
      }
     }
    },
    "2f174503-c522-4043-8629-fed6d4546658": {
     "id": "2f174503-c522-4043-8629-fed6d4546658",
     "prev": "031da6b8-5180-42d9-be54-737c1875ceb3",
     "regions": {
      "2028b962-faa7-47a6-bfa6-65dc5cca53d5": {
       "attrs": {
        "height": 0.8,
        "width": 0.8,
        "x": 0.1,
        "y": 0.1
       },
       "content": {
        "cell": "3f30c2d7-f344-4817-8d78-aaddfa0a1ef3",
        "part": "whole"
       },
       "id": "2028b962-faa7-47a6-bfa6-65dc5cca53d5"
      }
     }
    },
    "2f757932-e49a-48b4-8d92-7fd4c3dd0922": {
     "id": "2f757932-e49a-48b4-8d92-7fd4c3dd0922",
     "prev": "7cfab0d7-2cb0-40fa-badc-8fd334a45d5f",
     "regions": {
      "d02e332a-77b8-4849-bcc9-9c521adbdb64": {
       "attrs": {
        "height": 0.8,
        "width": 0.8,
        "x": 0.1,
        "y": 0.1
       },
       "content": {
        "cell": "322636ff-6a40-4f45-89ba-f3f67f460b24",
        "part": "whole"
       },
       "id": "d02e332a-77b8-4849-bcc9-9c521adbdb64"
      }
     }
    },
    "30652552-c59a-468c-ae4b-6710fcc27923": {
     "id": "30652552-c59a-468c-ae4b-6710fcc27923",
     "prev": "b7c997a9-1089-4cb7-9cf6-8412d799ab16",
     "regions": {
      "06cd43bd-e82c-4bad-9715-7d7496349575": {
       "attrs": {
        "height": 0.8,
        "width": 0.8,
        "x": 0.1,
        "y": 0.1
       },
       "content": {
        "cell": "f7e8a6c3-6640-4ad5-bcca-fe091badefa5",
        "part": "whole"
       },
       "id": "06cd43bd-e82c-4bad-9715-7d7496349575"
      }
     }
    },
    "400b85f0-6fbd-4a89-9ff0-22bbb75fd097": {
     "id": "400b85f0-6fbd-4a89-9ff0-22bbb75fd097",
     "prev": "30652552-c59a-468c-ae4b-6710fcc27923",
     "regions": {
      "adf1632d-f1d8-4ad2-9b7a-b234a2825e86": {
       "attrs": {
        "height": 0.8,
        "width": 0.8,
        "x": 0.1,
        "y": 0.1
       },
       "content": {
        "cell": "afe2d334-0bec-4076-a17d-1d99c5c93ac9",
        "part": "whole"
       },
       "id": "adf1632d-f1d8-4ad2-9b7a-b234a2825e86"
      }
     }
    },
    "41c97779-3ec5-48be-aecb-8847cc609133": {
     "id": "41c97779-3ec5-48be-aecb-8847cc609133",
     "prev": "e8e6c3bd-5d87-4002-aaf4-747153381ec9",
     "regions": {
      "67347645-2ae4-4158-b13c-a570af382e7a": {
       "attrs": {
        "height": 0.8,
        "width": 0.8,
        "x": 0.1,
        "y": 0.1
       },
       "content": {
        "cell": "8c19b564-5052-4879-b7ae-e7877d8745c1",
        "part": "whole"
       },
       "id": "67347645-2ae4-4158-b13c-a570af382e7a"
      }
     }
    },
    "41f25a4b-e9ed-4626-a65a-5b360fa37529": {
     "id": "41f25a4b-e9ed-4626-a65a-5b360fa37529",
     "prev": "a68a2025-98dd-4ae9-8b41-098d0cd586ce",
     "regions": {
      "78f8943f-5a91-4d85-93d7-9371ab5aab5b": {
       "attrs": {
        "height": 0.8,
        "width": 0.8,
        "x": 0.1,
        "y": 0.1
       },
       "content": {
        "cell": "2aca0900-9e4f-40b1-8ff7-94f5a4e7d2da",
        "part": "whole"
       },
       "id": "78f8943f-5a91-4d85-93d7-9371ab5aab5b"
      }
     }
    },
    "510f4edf-3641-41fc-97b2-dd920108bb66": {
     "id": "510f4edf-3641-41fc-97b2-dd920108bb66",
     "prev": "b1e322c9-535c-4396-84a9-4dc8bc0006db",
     "regions": {
      "69740fb6-32c0-4254-bb2f-a088387f5c4b": {
       "attrs": {
        "height": 0.8,
        "width": 0.8,
        "x": 0.1,
        "y": 0.1
       },
       "content": {
        "cell": "2a3d996b-d430-4949-82d7-3a85b2c70697",
        "part": "whole"
       },
       "id": "69740fb6-32c0-4254-bb2f-a088387f5c4b"
      }
     }
    },
    "65ff7edd-e745-416f-85b0-7c2e26d03dc8": {
     "id": "65ff7edd-e745-416f-85b0-7c2e26d03dc8",
     "prev": null,
     "regions": {
      "aabae328-8cfc-419c-b72d-d3d820cebc34": {
       "attrs": {
        "height": 0.8,
        "width": 0.8,
        "x": 0.1,
        "y": 0.1
       },
       "content": {
        "cell": "6324f363-e061-41d9-88c9-20428229ee38",
        "part": "whole"
       },
       "id": "aabae328-8cfc-419c-b72d-d3d820cebc34"
      }
     }
    },
    "7177ab25-8327-477a-a816-01a54b7e9e4b": {
     "id": "7177ab25-8327-477a-a816-01a54b7e9e4b",
     "prev": "27acbff9-2765-4b34-b7e1-892aa33f86c7",
     "regions": {
      "dd11e4d3-50e0-4b9e-a778-042c2531a868": {
       "attrs": {
        "height": 0.8,
        "width": 0.8,
        "x": 0.1,
        "y": 0.1
       },
       "content": {
        "cell": "7a086399-07ef-42df-a66b-917e7b4f562b",
        "part": "whole"
       },
       "id": "dd11e4d3-50e0-4b9e-a778-042c2531a868"
      }
     }
    },
    "757f337a-f97c-4919-a874-031743981c22": {
     "id": "757f337a-f97c-4919-a874-031743981c22",
     "prev": "db738646-7209-40cf-9eca-acf695dd9445",
     "regions": {
      "6fb24cb7-fb00-4376-a18e-967c2be9b53e": {
       "attrs": {
        "height": 0.8,
        "width": 0.8,
        "x": 0.1,
        "y": 0.1
       },
       "content": {
        "cell": "6fc58338-9865-4388-a410-1d86594b1465",
        "part": "whole"
       },
       "id": "6fb24cb7-fb00-4376-a18e-967c2be9b53e"
      }
     }
    },
    "7cfab0d7-2cb0-40fa-badc-8fd334a45d5f": {
     "id": "7cfab0d7-2cb0-40fa-badc-8fd334a45d5f",
     "prev": "9cca54b3-7e48-4c5b-9cd1-4f7a23d8e512",
     "regions": {
      "8acc8196-87a9-4504-be1f-bdd50542149d": {
       "attrs": {
        "height": 0.8,
        "width": 0.8,
        "x": 0.1,
        "y": 0.1
       },
       "content": {
        "cell": "1a43335e-8410-477e-81b7-6b34d981b351",
        "part": "whole"
       },
       "id": "8acc8196-87a9-4504-be1f-bdd50542149d"
      }
     }
    },
    "84012c0a-5593-4bb2-950f-f165e3bdbf13": {
     "id": "84012c0a-5593-4bb2-950f-f165e3bdbf13",
     "prev": "25a81a6d-5983-46bd-84bd-71350de30b7b",
     "regions": {
      "f6d183cf-2d4e-485a-b807-9d2c11f0ce59": {
       "attrs": {
        "height": 0.8,
        "width": 0.8,
        "x": 0.1,
        "y": 0.1
       },
       "content": {
        "cell": "a393e595-14c0-438b-b544-58540f8c4e73",
        "part": "whole"
       },
       "id": "f6d183cf-2d4e-485a-b807-9d2c11f0ce59"
      }
     }
    },
    "88267de9-d6cb-462d-8c6e-01b89c3ea4df": {
     "id": "88267de9-d6cb-462d-8c6e-01b89c3ea4df",
     "prev": "2f174503-c522-4043-8629-fed6d4546658",
     "regions": {
      "bfd6f78b-a300-43a1-8619-85c406e282d9": {
       "attrs": {
        "height": 0.8,
        "width": 0.8,
        "x": 0.1,
        "y": 0.1
       },
       "content": {
        "cell": "1dc7fe09-fc21-48c0-89ae-9294185f31c4",
        "part": "whole"
       },
       "id": "bfd6f78b-a300-43a1-8619-85c406e282d9"
      }
     }
    },
    "9ada75d5-87f5-4206-9e7f-b1cb984da733": {
     "id": "9ada75d5-87f5-4206-9e7f-b1cb984da733",
     "prev": "bb8bd239-7dbd-4d0f-832f-dc0fb4029e99",
     "regions": {
      "c58cd429-bae1-48e7-acb7-b89bf7f32668": {
       "attrs": {
        "height": 0.8,
        "width": 0.8,
        "x": 0.1,
        "y": 0.1
       },
       "content": {
        "cell": "81bf3b2d-a6d9-41b6-9064-62db126eef27",
        "part": "whole"
       },
       "id": "c58cd429-bae1-48e7-acb7-b89bf7f32668"
      }
     }
    },
    "9cca54b3-7e48-4c5b-9cd1-4f7a23d8e512": {
     "id": "9cca54b3-7e48-4c5b-9cd1-4f7a23d8e512",
     "prev": "510f4edf-3641-41fc-97b2-dd920108bb66",
     "regions": {
      "c9b7f355-d080-4be2-8c0b-94426c861eb8": {
       "attrs": {
        "height": 0.8,
        "width": 0.8,
        "x": 0.1,
        "y": 0.1
       },
       "content": {
        "cell": "20c00a72-d915-45de-bff6-19cf4881bd4e",
        "part": "whole"
       },
       "id": "c9b7f355-d080-4be2-8c0b-94426c861eb8"
      }
     }
    },
    "a3a108de-b0e8-437f-80ae-cb38401681d0": {
     "id": "a3a108de-b0e8-437f-80ae-cb38401681d0",
     "prev": "757f337a-f97c-4919-a874-031743981c22",
     "regions": {
      "f12d4a58-2d5c-42a7-a8dc-6d86c763e95f": {
       "attrs": {
        "height": 0.8,
        "width": 0.8,
        "x": 0.1,
        "y": 0.1
       },
       "content": {
        "cell": "21754b8f-5790-47f9-bee6-5b792c6ca840",
        "part": "whole"
       },
       "id": "f12d4a58-2d5c-42a7-a8dc-6d86c763e95f"
      }
     }
    },
    "a3f7f4f7-d013-489a-96e2-fcd7801b0c63": {
     "id": "a3f7f4f7-d013-489a-96e2-fcd7801b0c63",
     "prev": "b1959411-b615-40e7-850a-cf7c72ef4ffa",
     "regions": {
      "7512b31e-9f7d-4d0c-b23b-7905282f822d": {
       "attrs": {
        "height": 0.8,
        "width": 0.8,
        "x": 0.1,
        "y": 0.1
       },
       "content": {
        "cell": "28974e49-4174-4b70-a535-0ecc85eec814",
        "part": "whole"
       },
       "id": "7512b31e-9f7d-4d0c-b23b-7905282f822d"
      }
     }
    },
    "a68a2025-98dd-4ae9-8b41-098d0cd586ce": {
     "id": "a68a2025-98dd-4ae9-8b41-098d0cd586ce",
     "prev": "41c97779-3ec5-48be-aecb-8847cc609133",
     "regions": {
      "24655df8-b0ea-4a68-b455-a0008e9dea7f": {
       "attrs": {
        "height": 0.8,
        "width": 0.8,
        "x": 0.1,
        "y": 0.1
       },
       "content": {
        "cell": "ee3c7af4-06f5-4c4c-8392-d310282fec84",
        "part": "whole"
       },
       "id": "24655df8-b0ea-4a68-b455-a0008e9dea7f"
      }
     }
    },
    "b1959411-b615-40e7-850a-cf7c72ef4ffa": {
     "id": "b1959411-b615-40e7-850a-cf7c72ef4ffa",
     "prev": "41f25a4b-e9ed-4626-a65a-5b360fa37529",
     "regions": {
      "445fffda-3a5e-4778-ad97-eb0c55695735": {
       "attrs": {
        "height": 0.8,
        "width": 0.8,
        "x": 0.1,
        "y": 0.1
       },
       "content": {
        "cell": "64385d13-cfde-4992-b2de-1e3272f23d12",
        "part": "whole"
       },
       "id": "445fffda-3a5e-4778-ad97-eb0c55695735"
      }
     }
    },
    "b1e322c9-535c-4396-84a9-4dc8bc0006db": {
     "id": "b1e322c9-535c-4396-84a9-4dc8bc0006db",
     "prev": "9ada75d5-87f5-4206-9e7f-b1cb984da733",
     "regions": {
      "fbccc432-e101-432b-89d0-e7a9a0e1d6cf": {
       "attrs": {
        "height": 0.8,
        "width": 0.8,
        "x": 0.1,
        "y": 0.1
       },
       "content": {
        "cell": "322f0e05-72a3-4ad7-a26d-d546a6608473",
        "part": "whole"
       },
       "id": "fbccc432-e101-432b-89d0-e7a9a0e1d6cf"
      }
     }
    },
    "b7c997a9-1089-4cb7-9cf6-8412d799ab16": {
     "id": "b7c997a9-1089-4cb7-9cf6-8412d799ab16",
     "prev": "ea8cc234-fd74-48a9-a086-067979720eae",
     "regions": {
      "c9981699-ab84-476b-8cfd-7eae73ea5c59": {
       "attrs": {
        "height": 0.8,
        "width": 0.8,
        "x": 0.1,
        "y": 0.1
       },
       "content": {
        "cell": "47a1d00c-ffd9-49d6-aa7e-65bcb1f114f7",
        "part": "whole"
       },
       "id": "c9981699-ab84-476b-8cfd-7eae73ea5c59"
      }
     }
    },
    "bb8bd239-7dbd-4d0f-832f-dc0fb4029e99": {
     "id": "bb8bd239-7dbd-4d0f-832f-dc0fb4029e99",
     "prev": "a3a108de-b0e8-437f-80ae-cb38401681d0",
     "regions": {
      "f9d07573-0058-491d-841f-194f102bd866": {
       "attrs": {
        "height": 0.8,
        "width": 0.8,
        "x": 0.1,
        "y": 0.1
       },
       "content": {
        "cell": "a2e91f14-c378-4110-9671-f19f30bef857",
        "part": "whole"
       },
       "id": "f9d07573-0058-491d-841f-194f102bd866"
      }
     }
    },
    "bed21111-6647-4a0b-ac61-b39e17765385": {
     "id": "bed21111-6647-4a0b-ac61-b39e17765385",
     "prev": "04b4010c-da7a-45ae-ad84-978148b93eaa",
     "regions": {
      "66438450-5092-4594-b436-3127b67a85f9": {
       "attrs": {
        "height": 0.8,
        "width": 0.8,
        "x": 0.1,
        "y": 0.1
       },
       "content": {
        "cell": "c069085e-10e6-4063-a8d4-01ff1f0fd374",
        "part": "whole"
       },
       "id": "66438450-5092-4594-b436-3127b67a85f9"
      }
     }
    },
    "c6f46339-5d9e-4dd9-91e0-25309326c9e3": {
     "id": "c6f46339-5d9e-4dd9-91e0-25309326c9e3",
     "prev": "d8817cd1-f602-40d3-ac9e-81c6ce4b052e",
     "regions": {
      "3c65a9ea-e5d2-4301-a637-607e16d52d57": {
       "attrs": {
        "height": 0.8,
        "width": 0.8,
        "x": 0.1,
        "y": 0.1
       },
       "content": {
        "cell": "bda974fd-71d2-4524-9f0d-e62275f65d76",
        "part": "whole"
       },
       "id": "3c65a9ea-e5d2-4301-a637-607e16d52d57"
      }
     }
    },
    "d3f7235a-6016-4630-8940-2b02c5868c92": {
     "id": "d3f7235a-6016-4630-8940-2b02c5868c92",
     "prev": "147b53a2-6610-4bbb-bcc1-ff15e475d878",
     "regions": {
      "969d8706-705f-4bbb-b6dc-8c154f197e53": {
       "attrs": {
        "height": 0.8,
        "width": 0.8,
        "x": 0.1,
        "y": 0.1
       },
       "content": {
        "cell": "b275a7f4-7966-4530-9c8d-9be3dd2add4f",
        "part": "whole"
       },
       "id": "969d8706-705f-4bbb-b6dc-8c154f197e53"
      }
     }
    },
    "d8817cd1-f602-40d3-ac9e-81c6ce4b052e": {
     "id": "d8817cd1-f602-40d3-ac9e-81c6ce4b052e",
     "prev": "bed21111-6647-4a0b-ac61-b39e17765385",
     "regions": {
      "a1be1cc2-4a48-4866-bcf1-861ecea97c4c": {
       "attrs": {
        "height": 0.8,
        "width": 0.8,
        "x": 0.1,
        "y": 0.1
       },
       "content": {
        "cell": "e12c8370-40b0-49dc-9dce-262244901ce0",
        "part": "whole"
       },
       "id": "a1be1cc2-4a48-4866-bcf1-861ecea97c4c"
      }
     }
    },
    "db738646-7209-40cf-9eca-acf695dd9445": {
     "id": "db738646-7209-40cf-9eca-acf695dd9445",
     "prev": "ed32012e-e142-463a-a4d1-9b696f22adb6",
     "regions": {
      "57e634a5-4a85-4733-85bc-5c556de87829": {
       "attrs": {
        "height": 0.8,
        "width": 0.8,
        "x": 0.1,
        "y": 0.1
       },
       "content": {
        "cell": "6393f96e-801f-4fae-88c1-b75efe14f7e4",
        "part": "whole"
       },
       "id": "57e634a5-4a85-4733-85bc-5c556de87829"
      }
     }
    },
    "e071be5f-99cc-4645-aa34-f86587a99388": {
     "id": "e071be5f-99cc-4645-aa34-f86587a99388",
     "prev": "84012c0a-5593-4bb2-950f-f165e3bdbf13",
     "regions": {
      "0580c7c2-03e0-461d-81c6-72ce61673aec": {
       "attrs": {
        "height": 0.8,
        "width": 0.8,
        "x": 0.1,
        "y": 0.1
       },
       "content": {
        "cell": "fe8391dd-7de0-42d3-add0-48de7e320de7",
        "part": "whole"
       },
       "id": "0580c7c2-03e0-461d-81c6-72ce61673aec"
      }
     }
    },
    "e8e6c3bd-5d87-4002-aaf4-747153381ec9": {
     "id": "e8e6c3bd-5d87-4002-aaf4-747153381ec9",
     "prev": "65ff7edd-e745-416f-85b0-7c2e26d03dc8",
     "regions": {
      "21462e5e-92e2-423f-9d10-906833f539d7": {
       "attrs": {
        "height": 0.8,
        "width": 0.8,
        "x": 0.1,
        "y": 0.1
       },
       "content": {
        "cell": "6a74be89-0e06-468e-a923-077dff740d5e",
        "part": "whole"
       },
       "id": "21462e5e-92e2-423f-9d10-906833f539d7"
      }
     }
    },
    "ea8cc234-fd74-48a9-a086-067979720eae": {
     "id": "ea8cc234-fd74-48a9-a086-067979720eae",
     "prev": "e071be5f-99cc-4645-aa34-f86587a99388",
     "regions": {
      "1552d313-4441-44e0-90c5-e6e52e0bf322": {
       "attrs": {
        "height": 0.8,
        "width": 0.8,
        "x": 0.1,
        "y": 0.1
       },
       "content": {
        "cell": "1fad7497-705f-4bad-96ab-58d9232fb985",
        "part": "whole"
       },
       "id": "1552d313-4441-44e0-90c5-e6e52e0bf322"
      }
     }
    },
    "ed32012e-e142-463a-a4d1-9b696f22adb6": {
     "id": "ed32012e-e142-463a-a4d1-9b696f22adb6",
     "prev": "88267de9-d6cb-462d-8c6e-01b89c3ea4df",
     "regions": {
      "0b89629a-9bba-4eab-bf97-b5d6430600e8": {
       "attrs": {
        "height": 0.8,
        "width": 0.8,
        "x": 0.1,
        "y": 0.1
       },
       "content": {
        "cell": "663168da-2059-474a-97ec-ba3a7bbaa390",
        "part": "whole"
       },
       "id": "0b89629a-9bba-4eab-bf97-b5d6430600e8"
      }
     }
    }
   },
   "themes": {}
  }
 },
 "nbformat": 4,
 "nbformat_minor": 1
}
