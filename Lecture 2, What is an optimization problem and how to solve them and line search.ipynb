{
 "cells": [
  {
   "cell_type": "code",
   "execution_count": null,
   "metadata": {},
   "outputs": [],
   "source": [
    "from IPython.core.display import HTML\n",
    "HTML(\"<style>.container { width:95% !important; }</style>\")"
   ]
  },
  {
   "cell_type": "markdown",
   "metadata": {
    "slideshow": {
     "slide_type": "slide"
    }
   },
   "source": [
    "# Lecture 2: What is an optimization problem and how to solve them?"
   ]
  },
  {
   "cell_type": "markdown",
   "metadata": {
    "slideshow": {
     "slide_type": "slide"
    }
   },
   "source": [
    "# What is an optimization problem?\n",
    "\n",
    "A general mathematical formulation for **the optimization problems studied on this course** is\n",
    "$$\n",
    "\\begin{align} \\\n",
    "\\min \\quad &f(x)\\\\\n",
    "\\text{s.t.} \\quad & g_j(x) \\geq 0\\text{ for all }j=1,\\ldots,J\\\\\n",
    "& h_k(x) = 0\\text{ for all }k=1,\\ldots,K\\\\\n",
    "&x\\in \\mathbb R^n.\n",
    "\\end{align}\n",
    "$$"
   ]
  },
  {
   "cell_type": "markdown",
   "metadata": {
    "slideshow": {
     "slide_type": "fragment"
    }
   },
   "source": [
    "The above problem can be expressed as \n",
    ">Find an $x\\in \\mathbb R^n$ such that $g_j(x)\\geq 0$ for all $j=1,\\ldots,J$ and $h_k(x)=0$ for all $k=1,\\ldots,K$, and there does not exist $x'\\in \\mathbb R^n$ such that $f(x')<f(x)$ and $g_j(x')\\geq 0$ for all $j=1,\\ldots,J$, $h_k(x')=0$ for all $k=1,\\ldots,K$."
   ]
  },
  {
   "cell_type": "markdown",
   "metadata": {
    "nbpresent": {
     "id": "19f69ce3-4ef7-427c-98ba-ed1e1faab502"
    },
    "slideshow": {
     "slide_type": "slide"
    }
   },
   "source": [
    "There are three main components to an optimization problem:\n",
    "* the variables $x$ are called the **decision variables**,\n",
    "* the equalities $h_k(x)=0$ and inequalities $g_j(x)\\geq 0$ are called the **constraints**,\n",
    "* the funtion $f(x)$ is called the **objective function**."
   ]
  },
  {
   "cell_type": "markdown",
   "metadata": {
    "slideshow": {
     "slide_type": "fragment"
    }
   },
   "source": [
    "A vector of decision variables $x^*=(x^*_1,\\dots,x^*_n)^T$ is called **a solution** and it is\n",
    "* **feasible** if $g_j(x^*)\\geq 0$ for all $j=1,\\ldots,J$ and $h_k(x^*)=0$ for all $k=1,\\ldots,K$,\n",
    "* **locally optimal** if $x^*$ is feasible and there exists $r>0$ such that there does not exist a feasible solution $x'\\in \\operatorname{B}(x^*,r)$ such that $f(x')<f(x^*)$, and\n",
    "* **(globally) optimal** if $x^*$ is feasible and there does not exist a feasible solution $x'$ such that $f(x')<f(x^*)$.\n"
   ]
  },
  {
   "cell_type": "markdown",
   "metadata": {
    "slideshow": {
     "slide_type": "fragment"
    }
   },
   "source": [
    "The optimization problem is called\n",
    "* **linear** if the objective function and the constraint functions of the problem are affinely linear,\n",
    "* **nonlinear** if the objective function or any of the constraint functions is nonlinear,\n",
    "* **multi/unimodal** if the problem has/does not have more than one local optimum,\n",
    "* **convex/nonconvex** if the objective and the constraint functions are that,\n",
    "* **continuous/differentiable/twice-differentiable, etc** if the objective and the constraint functions are that."
   ]
  },
  {
   "cell_type": "markdown",
   "metadata": {
    "nbpresent": {
     "id": "1616f668-8a73-473e-8c0a-6a034aa43255"
    },
    "slideshow": {
     "slide_type": "slide"
    }
   },
   "source": [
    "## Why do we study optimization problems? \n",
    "\n",
    "Because optimization problems arise in various fields like engineering, finance, medicine etc."
   ]
  },
  {
   "cell_type": "markdown",
   "metadata": {
    "nbpresent": {
     "id": "815296b6-7429-4900-b32a-1939eaae2861"
    },
    "slideshow": {
     "slide_type": "slide"
    }
   },
   "source": [
    "### Mixing problem\n",
    "Refinery produces 3 types of gasoline by mixing 3 different grude oil. Each grude oil can be purchased maximum of 5000 barrels per day. Let us assume that octane values and lead concentrations behave linearly in mixing. Refining costs are 4 euros per barrel and the capacity of the refinery is 14000 barrels per day. Demand of gasoline can be increased by (demand grows 10 barrels per day for each euro used for advertizing). "
   ]
  },
  {
   "cell_type": "markdown",
   "metadata": {
    "slideshow": {
     "slide_type": "fragment"
    }
   },
   "source": [
    "The details of the gasolines and Grude oils can be found in the following tables:\n",
    "\n",
    "|Data|Gasoline 1|Gasoline 2|Gasoline 3| \n",
    "|---|---|---|---|\n",
    "|Sale price|70|60|50|\n",
    "|Lower limit for octane|10|8|6|\n",
    "|Upper limit for lead|0.01|0.02|0.01|\n",
    "|Demand|3000|2000|1000|\n",
    "|Refining cost|4|4|4|\n",
    "\n",
    "|Data|Grude oil 1|Grude oil 2|Grude oil 3|\n",
    "|---|---|---|---|\n",
    "|Purchase price|45|35|25|\n",
    "|Octane value|12|6|8|\n",
    "|Lead concentration|0.005|0.02|0.03|\n",
    "|Availability|5000|5000|5000|"
   ]
  },
  {
   "cell_type": "markdown",
   "metadata": {
    "slideshow": {
     "slide_type": "fragment"
    }
   },
   "source": [
    "**Task:** Determine the production quantities of each type of gasoline, mixing ratios of different grude oil and advertising budget so that the profit is maximized and the demand is met exactly."
   ]
  },
  {
   "cell_type": "markdown",
   "metadata": {
    "nbpresent": {
     "id": "ae1d7dac-3e36-44d4-b6cb-770d29c26c5a"
    },
    "slideshow": {
     "slide_type": "slide"
    }
   },
   "source": [
    "#### Modelling mixing problem as an optimization problem:\n",
    "decision variables:"
   ]
  },
  {
   "cell_type": "markdown",
   "metadata": {
    "slideshow": {
     "slide_type": "fragment"
    }
   },
   "source": [
    "* $x_{ij}$ = amount of grude oil $i$ used for producing gasoline $j$\n",
    "* $y_j$ = the amount of money used for advertizing gasoline $j$"
   ]
  },
  {
   "cell_type": "markdown",
   "metadata": {
    "slideshow": {
     "slide_type": "subslide"
    }
   },
   "source": [
    "constraints:\n",
    "* gasoline 1 demand: $x_{11}+x_{21}+x_{31}=3000+10y_1$\n",
    "* gasoline 2 demand: $x_{12}+x_{22}+x_{32}=2000+10y_2$\n",
    "* gasoline 3 demand: $x_{13}+x_{23}+x_{33}=1000+10y_3$"
   ]
  },
  {
   "cell_type": "markdown",
   "metadata": {
    "slideshow": {
     "slide_type": "fragment"
    }
   },
   "source": [
    "* grude oil 1 availability: $x_{11}+x_{12}+x_{13}\\leq 5000$\n",
    "* grude oil 2 availability: $x_{21}+x_{22}+x_{23}\\leq 5000$\n",
    "* grude oil 3 availability: $x_{31}+x_{32}+x_{33}\\leq 5000$"
   ]
  },
  {
   "cell_type": "markdown",
   "metadata": {
    "slideshow": {
     "slide_type": "fragment"
    }
   },
   "source": [
    "* gasoline 1 octave value: $\\frac{12x_{11}+6x_{21}+8x_{31}}{x_{11}+x_{21}+x_{31}}\\geq 10$\n",
    "* gasoline 2 octave value: $\\frac{12x_{12}+6x_{22}+8x_{32}}{x_{12}+x_{22}+x_{32}}\\geq 8$\n",
    "* gasoline 3 octave value: $\\frac{12x_{13}+6x_{23}+8x_{33}}{x_{13}+x_{23}+x_{33}}\\geq 6$"
   ]
  },
  {
   "cell_type": "markdown",
   "metadata": {
    "slideshow": {
     "slide_type": "fragment"
    }
   },
   "source": [
    "* gasoline 1 lead value: $\\frac{0.005x_{11}+0.02x_{21}+0.03x_{31}}{x_{11}+x_{21}+x_{31}}\\leq 0.01$\n",
    "* gasoline 2 lead value: $\\frac{0.005x_{12}+0.02x_{22}+0.03x_{32}}{x_{12}+x_{22}+x_{32}}\\leq 0.02$\n",
    "* gasoline 3 lead value: $\\frac{0.005x_{13}+0.02x_{23}+0.03x_{33}}{x_{13}+x_{23}+x_{33}}\\leq 0.01$"
   ]
  },
  {
   "cell_type": "markdown",
   "metadata": {
    "slideshow": {
     "slide_type": "subslide"
    }
   },
   "source": [
    "objective function:\n",
    "\n",
    "$$\n",
    "\\text{Profit} (x,y) = 70(x_{11}+x_{21}+x_{31})+60(x_{12}+x_{22}+x_{32})+50(x_{13}+x_{23}+x_{33})\\\\\n",
    "             - 45(x_{11}+x_{12}+x_{13})-35(x_{21}+x_{22}+x_{23})-25(x_{31}+x_{32}+x_{33})\\\\\n",
    "             - 4(x_{11}+x_{12}+x_{13})-4(x_{21}+x_{22}+x_{23})-4(x_{31}+x_{32}+x_{33})\\\\\n",
    "             - y_1 - y_2 - y_3\n",
    "$$"
   ]
  },
  {
   "cell_type": "markdown",
   "metadata": {
    "nbpresent": {
     "id": "17b844a1-c63d-4f94-9fa8-6e82ea21abd1"
    },
    "slideshow": {
     "slide_type": "slide"
    }
   },
   "source": [
    "# How to solve optimization problems?\n",
    "\n",
    "## Iterative vs. non-iterative methods\n",
    "\n",
    "Optimal solutions to some optimization problems can be found by defining an explicit formula for it. For example, if the objective function is twice continuously differentiable and there are no constraints, the optimal solution (if exists) can be found by calculating all the zero-points of the gradient and finding the best one of those. In this kind of cases, the optimization problem **can be solved using non-iterative methods.**"
   ]
  },
  {
   "cell_type": "markdown",
   "metadata": {
    "slideshow": {
     "slide_type": "subslide"
    }
   },
   "source": [
    "\n",
    "**In this course we concentrate on the iterative methods.** Iterative methods are needed, if the problem has constraints, or the problem is in some other way not-well behaved (to be defined later, depending on the context). In iterative methods, solving the optimization problem starts from a so-called starting solution and then tries to improve the solution iteratively. The optimization algorithm chooses how the solution is changed at each iteration."
   ]
  },
  {
   "cell_type": "markdown",
   "metadata": {
    "slideshow": {
     "slide_type": "subslide"
    }
   },
   "source": [
    "## What kind of methods will you learn in this course?\n",
    "Different optimization problems require different methods. In this course, we study optimization problems, which are\n",
    "* nonlinear\n",
    "* not hugely multimodal\n",
    "\n",
    "Often the methods cannot guarantee a (global) optimum, but instead **we need to satisfy ourselves with a local optimum**. In addition, it is usually not possible to find the actual optimal solution since numerical methods are used, but instead **an approximation of the optimal solution**. A feasible solution $x^*$ is called an approximation of a local optimum $x^{**}$ with quality $L>0$, when $\\|x^*-x^{**}\\|\\leq L$.\n"
   ]
  },
  {
   "cell_type": "markdown",
   "metadata": {
    "collapsed": true,
    "nbpresent": {
     "id": "821503fe-5a23-4709-93a0-0e2628a395d0"
    },
    "slideshow": {
     "slide_type": "slide"
    }
   },
   "source": [
    "# Line search\n",
    "\n",
    "Let us study optimization problem $\\min_{x\\in[a,b]} f(x)$, where $a,b\\in\\mathbb R$. Let us try to find an approximation of a local optimum to this problem. \n",
    "\n",
    "Note: We have to assume that $f$ is *unimodal* in $[a,b]$, i.e. there exists a point $c\\in (a,b)$ such that $f$ is strictly decreasing in $[a,c)$ and strictly increasing in $(c,b]$  "
   ]
  },
  {
   "cell_type": "code",
   "execution_count": null,
   "metadata": {
    "nbpresent": {
     "id": "98bcda9d-5afa-4b0e-a496-b173b4ba9141"
    },
    "slideshow": {
     "slide_type": "slide"
    }
   },
   "outputs": [],
   "source": [
    "#Example objective function\n",
    "def f(x):\n",
    "    return 2+(1-x)**2"
   ]
  },
  {
   "cell_type": "code",
   "execution_count": null,
   "metadata": {
    "nbpresent": {
     "id": "22dc2da6-e2bb-4668-ac5a-dbe7f1bf64fb"
    },
    "slideshow": {
     "slide_type": "slide"
    }
   },
   "outputs": [],
   "source": [
    "print(\"The value of the objective function at 3 is \" + str(f(3)))"
   ]
  },
  {
   "cell_type": "markdown",
   "metadata": {
    "nbpresent": {
     "id": "4bcbaa4b-cf2e-4c8d-9c70-00c7812c0e2d"
    },
    "slideshow": {
     "slide_type": "slide"
    }
   },
   "source": [
    "## Line search with fixed steps\n",
    "**input:** the quality $L>0$ of the approximation of the local optimum.  \n",
    "**output:** an approximation of the local optimum with quality $L$.\n",
    "```\n",
    "start with x as the start point of the interval\n",
    "loop until stops:\n",
    "    if the value of the objective is increasing for x+L from x\n",
    "        stop, because the approximation of the locally optimal solution is x \n",
    "    increase x by L\n",
    "```"
   ]
  },
  {
   "cell_type": "code",
   "execution_count": null,
   "metadata": {
    "nbpresent": {
     "id": "22ba9cda-2104-44c1-a541-4981a8eb6310"
    },
    "slideshow": {
     "slide_type": "-"
    }
   },
   "outputs": [],
   "source": [
    "def fixed_steps_line_search(a,b,f,L):\n",
    "    x = a\n",
    "    while f(x)>f(x+L) and x+L<b:\n",
    "        x=x+L\n",
    "    return x"
   ]
  },
  {
   "cell_type": "code",
   "execution_count": null,
   "metadata": {
    "nbpresent": {
     "id": "62e888b0-6ef0-4f1a-9f69-976d927e495f"
    },
    "slideshow": {
     "slide_type": "slide"
    }
   },
   "outputs": [],
   "source": [
    "x = fixed_steps_line_search(0,3,f,1e-3); print(\"optimum is \"+str(x)+\", function value is \" +str(f(x)))"
   ]
  },
  {
   "cell_type": "code",
   "execution_count": null,
   "metadata": {
    "nbpresent": {
     "id": "62e888b0-6ef0-4f1a-9f69-976d927e495f"
    },
    "slideshow": {
     "slide_type": "slide"
    }
   },
   "outputs": [],
   "source": [
    "%timeit fixed_steps_line_search(0.0,3.0,f,1e-3)"
   ]
  },
  {
   "cell_type": "markdown",
   "metadata": {
    "slideshow": {
     "slide_type": "subslide"
    }
   },
   "source": [
    "**Find out (from Python documentation/google) what function *timeit* does.**"
   ]
  },
  {
   "cell_type": "markdown",
   "metadata": {
    "nbpresent": {
     "id": "7cd1e386-df98-4fc1-936a-7baf612f6593"
    },
    "slideshow": {
     "slide_type": "slide"
    }
   },
   "source": [
    "## The method of bisection\n",
    "**input:** the quality $L>0$ of the approximation of the local optimum.  \n",
    "**output:** an approximation of the local optimum with quality $L$.\n",
    "```\n",
    "Set x as the start point of interval and y as the end point\n",
    "while y-x>2*L:\n",
    "    if the function is increasing at the mid point between x and y:\n",
    "        set y as the midpoint between y and x, because a local optimum is before the midpoint\n",
    "    otherwise:\n",
    "        set x as the midpoint, because a local optimum is after the midpoint\n",
    "return midpoint between x and y\n",
    "```"
   ]
  },
  {
   "cell_type": "markdown",
   "metadata": {
    "nbpresent": {
     "id": "d90e84a2-37c1-4a10-b2ad-039666ecc080"
    },
    "slideshow": {
     "slide_type": "-"
    }
   },
   "source": [
    "The following function is completed live in class as an exercise. **Try to do it yourself before checking an answer below!** Follow the pseudo code given in the above cell."
   ]
  },
  {
   "cell_type": "code",
   "execution_count": null,
   "metadata": {
    "nbpresent": {
     "id": "aa4afb71-9418-42e5-9ce0-bc92fc058c62"
    },
    "slideshow": {
     "slide_type": "-"
    }
   },
   "outputs": [],
   "source": [
    "def bisection_line_search(a,b,f,L,epsilon):"
   ]
  },
  {
   "cell_type": "markdown",
   "metadata": {
    "nbpresent": {
     "id": "502d2fb3-f0d4-4de4-8fa3-8b8347cdfcc7"
    },
    "slideshow": {
     "slide_type": "notes"
    }
   },
   "source": [
    "This is what we should end up. The following function is not shown on the slides."
   ]
  },
  {
   "cell_type": "code",
   "execution_count": null,
   "metadata": {
    "nbpresent": {
     "id": "050f92b6-c88a-4946-b4f2-9d5e9b95b991"
    },
    "slideshow": {
     "slide_type": "skip"
    }
   },
   "outputs": [],
   "source": [
    "def bisection_line_search(a,b,f,L,epsilon):\n",
    "    x = a\n",
    "    y = b\n",
    "    while y-x>2*L:\n",
    "        mp = (x+y)/2\n",
    "        if f(mp-epsilon)<f(mp+epsilon):\n",
    "            y = mp+epsilon\n",
    "        else:\n",
    "            x = mp-epsilon\n",
    "    return (x+y)/2"
   ]
  },
  {
   "cell_type": "code",
   "execution_count": null,
   "metadata": {
    "nbpresent": {
     "id": "e603d5c1-6ca1-462e-9559-d7c9068151c9"
    },
    "slideshow": {
     "slide_type": "slide"
    }
   },
   "outputs": [],
   "source": [
    "x = bisection_line_search(0.0,3.0,f,0.001,1e-5); print(\"optimum is \"+str(x)+\", function value is \" +str(f(x)))"
   ]
  },
  {
   "cell_type": "code",
   "execution_count": null,
   "metadata": {
    "nbpresent": {
     "id": "e603d5c1-6ca1-462e-9559-d7c9068151c9"
    },
    "slideshow": {
     "slide_type": "slide"
    }
   },
   "outputs": [],
   "source": [
    "%timeit bisection_line_search(0.0,3.0,f,1e-3,1e-4)"
   ]
  },
  {
   "cell_type": "markdown",
   "metadata": {
    "slideshow": {
     "slide_type": "subslide"
    }
   },
   "source": [
    "What is the role of $\\epsilon$ in the bisection_line_search above?"
   ]
  },
  {
   "cell_type": "markdown",
   "metadata": {
    "nbpresent": {
     "id": "0730781e-eb68-4493-93ca-e2905e30e9b7"
    },
    "slideshow": {
     "slide_type": "slide"
    }
   },
   "source": [
    "## Golden section search\n",
    "\n",
    "### Golden section\n",
    "\n",
    "Let $a<c<b$ be such that $\\frac{b-a}{c-a}=\\frac{c-a}{b-c}$. Then it is said that the point $c$ devides interval $[a,b]$ in the ratio of golden section (from the left, mirror from the right). Note that $c=a+\\frac{\\sqrt{5}-1}2(b-a)\\approx a+0.618(b-a)$.\n",
    "\n",
    "![alt text](images/golden_section.png \"Golden section\")\n",
    "\n",
    "There is a theorem that if $a<c<d<b$ and both points $c$ and $d$ divide the interval $[a,b]$ in the ratio of golden section (from right and left), then the point $c$ divides the interval $[a,d]$ in the ratio of golder section from the left.\n",
    "\n",
    "![alt text](images/golden_section2.svg \"Golden section from the left and right\")\n",
    "\n"
   ]
  },
  {
   "cell_type": "markdown",
   "metadata": {
    "slideshow": {
     "slide_type": "subslide"
    }
   },
   "source": [
    "### Golden section search algorithm\n",
    "\n",
    "\n",
    "**input:** the quality $L>0$ of the approximation of the local optimum.  \n",
    "**output:** an approximation of the local optimum with quality $L$.\n",
    "```\n",
    "Set x as the start point of interval and y as the end point\n",
    "while y-x>2*L:\n",
    "    Divide the interval [x,y] in the golden section from the left and right and attain two division points\n",
    "    If the greater of the division points has a greater function value \n",
    "        set y as the rightmost division point, because a local optimum is before that\n",
    "    otherwise:\n",
    "        set x as the leftmost division point, because a local optimum is after that\n",
    "return midpoint between x and y\n",
    "```"
   ]
  },
  {
   "cell_type": "code",
   "execution_count": null,
   "metadata": {},
   "outputs": [],
   "source": [
    "import math\n",
    "def golden_section_line_search(a,b,f,L):"
   ]
  },
  {
   "cell_type": "markdown",
   "metadata": {
    "nbpresent": {
     "id": "a75327b1-0aa1-4706-9712-e4d62cfab769"
    },
    "slideshow": {
     "slide_type": "-"
    }
   },
   "source": [
    "The following function is completed in class as an exercise. **Try to do it yourself before checking an answer below!** Follow the pseudo code given in the above cell."
   ]
  },
  {
   "cell_type": "code",
   "execution_count": null,
   "metadata": {
    "nbpresent": {
     "id": "3062eaa0-dd6b-4587-9dd7-c343fa599291"
    },
    "slideshow": {
     "slide_type": "skip"
    }
   },
   "outputs": [],
   "source": [
    "import math\n",
    "def golden_section_line_search(a,b,f,L):\n",
    "    x = a\n",
    "    y = b\n",
    "    while y-x>2*L:\n",
    "        gs = (math.sqrt(5.0)-1)/2.0\n",
    "        if f(x+gs*(y-x))<f(y-gs*(y-x)):\n",
    "            x = y-gs*(y-x)\n",
    "        else:\n",
    "            y = x+gs*(y-x)\n",
    "    return (x+y)/2"
   ]
  },
  {
   "cell_type": "code",
   "execution_count": null,
   "metadata": {
    "nbpresent": {
     "id": "20fad7f0-765d-477d-a197-51d101cfe5d1"
    },
    "slideshow": {
     "slide_type": "slide"
    }
   },
   "outputs": [],
   "source": [
    "x = golden_section_line_search(0.0,3.0,f,0.0001); print(\"optimum is \"+str(x)+\", function value is \" +str(f(x)))"
   ]
  },
  {
   "cell_type": "code",
   "execution_count": null,
   "metadata": {
    "nbpresent": {
     "id": "20fad7f0-765d-477d-a197-51d101cfe5d1"
    },
    "slideshow": {
     "slide_type": "slide"
    }
   },
   "outputs": [],
   "source": [
    "%timeit golden_section_line_search(0.0,3.0,f,1e-3)"
   ]
  },
  {
   "cell_type": "markdown",
   "metadata": {
    "slideshow": {
     "slide_type": "slide"
    }
   },
   "source": [
    "**What can you conclude from the execution times for the three different methods?**"
   ]
  },
  {
   "cell_type": "markdown",
   "metadata": {
    "slideshow": {
     "slide_type": "slide"
    }
   },
   "source": [
    "**What are the differences between the bisection and golden section searches?**\n",
    "\n",
    "* Bisection search can almost half the length of the search interval and requires evaluation of the objective function in two new points at every iteration. Why?\n",
    "* Golden section search can reduce about 38% of the length of the search interval but requires evaluation of the objective function in only one new point. Why?  "
   ]
  }
 ],
 "metadata": {
  "anaconda-cloud": {},
  "celltoolbar": "Slideshow",
  "kernelspec": {
   "display_name": "Python 3",
   "language": "python",
   "name": "python3"
  },
  "language_info": {
   "codemirror_mode": {
    "name": "ipython",
    "version": 3
   },
   "file_extension": ".py",
   "mimetype": "text/x-python",
   "name": "python",
   "nbconvert_exporter": "python",
   "pygments_lexer": "ipython3",
   "version": "3.7.0"
  },
  "nbpresent": {
   "slides": {
    "10023d48-871a-46dd-95a4-a86fdd85075f": {
     "id": "10023d48-871a-46dd-95a4-a86fdd85075f",
     "prev": "cbc1f27c-01ce-4e40-8ea1-6cb98b4f7fa0",
     "regions": {
      "147907c6-05a2-4374-ba7c-d920eb813284": {
       "attrs": {
        "height": 0.8,
        "width": 0.8,
        "x": 0.1,
        "y": 0.1
       },
       "content": {
        "cell": "a75327b1-0aa1-4706-9712-e4d62cfab769",
        "part": "whole"
       },
       "id": "147907c6-05a2-4374-ba7c-d920eb813284"
      }
     }
    },
    "13c1b062-40ea-49e9-b47b-e5d0f8b6f5d2": {
     "id": "13c1b062-40ea-49e9-b47b-e5d0f8b6f5d2",
     "prev": "c0af89ac-c1ce-471f-877a-827e51566e60",
     "regions": {
      "beca1848-a35c-4b86-b2a0-8c2a69806428": {
       "attrs": {
        "height": 0.8,
        "width": 0.8,
        "x": 0.1,
        "y": 0.1
       },
       "content": {
        "cell": "19f69ce3-4ef7-427c-98ba-ed1e1faab502",
        "part": "whole"
       },
       "id": "beca1848-a35c-4b86-b2a0-8c2a69806428"
      }
     }
    },
    "1707b3d6-2786-4362-930c-0f862264397a": {
     "id": "1707b3d6-2786-4362-930c-0f862264397a",
     "prev": "73dc52ca-09c6-469b-b59b-781b92b10d18",
     "regions": {
      "ae191373-96b8-422c-b4bb-3d3cad382026": {
       "attrs": {
        "height": 0.8,
        "width": 0.8,
        "x": 0.1,
        "y": 0.1
       },
       "content": {
        "cell": "22dc2da6-e2bb-4668-ac5a-dbe7f1bf64fb",
        "part": "whole"
       },
       "id": "ae191373-96b8-422c-b4bb-3d3cad382026"
      }
     }
    },
    "1e73f105-cefd-4b26-b644-aeb36943f3dc": {
     "id": "1e73f105-cefd-4b26-b644-aeb36943f3dc",
     "prev": "ec8b6202-1ac7-4998-9131-4eef89713433",
     "regions": {
      "77bb0700-4528-4195-9910-12fbcff7fe2a": {
       "attrs": {
        "height": 0.8,
        "width": 0.8,
        "x": 0.1,
        "y": 0.1
       },
       "content": {
        "cell": "17b844a1-c63d-4f94-9fa8-6e82ea21abd1",
        "part": "whole"
       },
       "id": "77bb0700-4528-4195-9910-12fbcff7fe2a"
      }
     }
    },
    "39a92c78-55d5-494c-8c09-21de256c6a43": {
     "id": "39a92c78-55d5-494c-8c09-21de256c6a43",
     "prev": "fd87737b-76c0-43c8-a251-5c5245d8a7cf",
     "regions": {
      "c2982707-0fbc-4495-a9b4-5de77f045fe5": {
       "attrs": {
        "height": 0.8,
        "width": 0.8,
        "x": 0.1,
        "y": 0.1
       },
       "content": {
        "cell": "050f92b6-c88a-4946-b4f2-9d5e9b95b991",
        "part": "whole"
       },
       "id": "c2982707-0fbc-4495-a9b4-5de77f045fe5"
      }
     }
    },
    "4d84711d-a7e0-447d-ba86-84ab702bb328": {
     "id": "4d84711d-a7e0-447d-ba86-84ab702bb328",
     "prev": "f6d4b6ad-a730-4045-a465-73a5a7ec944b",
     "regions": {
      "66ffba1c-a633-483e-b6f1-1e0b8855f0d3": {
       "attrs": {
        "height": 0.8,
        "width": 0.8,
        "x": 0.1,
        "y": 0.1
       },
       "content": {
        "cell": "62e888b0-6ef0-4f1a-9f69-976d927e495f",
        "part": "whole"
       },
       "id": "66ffba1c-a633-483e-b6f1-1e0b8855f0d3"
      }
     }
    },
    "6b5a24cc-0a12-4297-bd65-1a59e6041eb1": {
     "id": "6b5a24cc-0a12-4297-bd65-1a59e6041eb1",
     "prev": "10023d48-871a-46dd-95a4-a86fdd85075f",
     "regions": {
      "6b867e39-8e94-4da2-85a3-fcd065f9d2ad": {
       "attrs": {
        "height": 0.8,
        "width": 0.8,
        "x": 0.1,
        "y": 0.1
       },
       "content": {
        "cell": "3062eaa0-dd6b-4587-9dd7-c343fa599291",
        "part": "whole"
       },
       "id": "6b867e39-8e94-4da2-85a3-fcd065f9d2ad"
      }
     }
    },
    "6f894c07-49fe-4047-a2ac-1b2e445c3f5b": {
     "id": "6f894c07-49fe-4047-a2ac-1b2e445c3f5b",
     "prev": "b4840ef3-67ac-494d-80e5-dfca17705854",
     "regions": {
      "4719b1a4-8683-44e0-b66a-dc29535c7d2e": {
       "attrs": {
        "height": 0.8,
        "width": 0.8,
        "x": 0.1,
        "y": 0.1
       },
       "content": {
        "cell": "d90e84a2-37c1-4a10-b2ad-039666ecc080",
        "part": "whole"
       },
       "id": "4719b1a4-8683-44e0-b66a-dc29535c7d2e"
      }
     }
    },
    "73dc52ca-09c6-469b-b59b-781b92b10d18": {
     "id": "73dc52ca-09c6-469b-b59b-781b92b10d18",
     "prev": "f956d700-ba30-4867-82d2-8ce7fe128e4e",
     "regions": {
      "88198d42-45e7-4051-9816-467ae2211dcc": {
       "attrs": {
        "height": 0.8,
        "width": 0.8,
        "x": 0.1,
        "y": 0.1
       },
       "content": {
        "cell": "98bcda9d-5afa-4b0e-a496-b173b4ba9141",
        "part": "whole"
       },
       "id": "88198d42-45e7-4051-9816-467ae2211dcc"
      }
     }
    },
    "80e0a8c2-6d14-4e18-a4cf-c299a2985b13": {
     "id": "80e0a8c2-6d14-4e18-a4cf-c299a2985b13",
     "prev": "e836f61b-7058-445e-8741-4651a2417d42",
     "regions": {
      "22026ea1-5b1f-4806-a71f-949db68ab0c2": {
       "attrs": {
        "height": 0.8,
        "width": 0.8,
        "x": 0.1,
        "y": 0.1
       },
       "content": {
        "cell": "815296b6-7429-4900-b32a-1939eaae2861",
        "part": "whole"
       },
       "id": "22026ea1-5b1f-4806-a71f-949db68ab0c2"
      }
     }
    },
    "9ca24d24-0ddc-4154-84b1-3cb34ee158b1": {
     "id": "9ca24d24-0ddc-4154-84b1-3cb34ee158b1",
     "prev": "1707b3d6-2786-4362-930c-0f862264397a",
     "regions": {
      "af3e8215-8547-4b77-86be-6b5b7d2b8474": {
       "attrs": {
        "height": 0.8,
        "width": 0.8,
        "x": 0.1,
        "y": 0.1
       },
       "content": {
        "cell": "4bcbaa4b-cf2e-4c8d-9c70-00c7812c0e2d",
        "part": "whole"
       },
       "id": "af3e8215-8547-4b77-86be-6b5b7d2b8474"
      }
     }
    },
    "b4840ef3-67ac-494d-80e5-dfca17705854": {
     "id": "b4840ef3-67ac-494d-80e5-dfca17705854",
     "prev": "4d84711d-a7e0-447d-ba86-84ab702bb328",
     "regions": {
      "f6603314-9a6a-4b3b-89eb-1a0f5da30859": {
       "attrs": {
        "height": 0.8,
        "width": 0.8,
        "x": 0.1,
        "y": 0.1
       },
       "content": {
        "cell": "7cd1e386-df98-4fc1-936a-7baf612f6593",
        "part": "whole"
       },
       "id": "f6603314-9a6a-4b3b-89eb-1a0f5da30859"
      }
     }
    },
    "c0af89ac-c1ce-471f-877a-827e51566e60": {
     "id": "c0af89ac-c1ce-471f-877a-827e51566e60",
     "prev": null,
     "regions": {
      "76d9ce72-d884-4cfe-9c39-9f039132bb2c": {
       "attrs": {
        "height": 0.8,
        "width": 0.8,
        "x": 0.1,
        "y": 0.1
       },
       "content": {
        "cell": "1a7fe28e-e872-4554-87a9-76ad6186a076",
        "part": "whole"
       },
       "id": "76d9ce72-d884-4cfe-9c39-9f039132bb2c"
      }
     }
    },
    "ca1fc225-e403-4d53-9a4f-7bde6029ae8c": {
     "id": "ca1fc225-e403-4d53-9a4f-7bde6029ae8c",
     "prev": "6b5a24cc-0a12-4297-bd65-1a59e6041eb1",
     "regions": {
      "a7caadfe-75fd-40f6-8f06-e133767bad72": {
       "attrs": {
        "height": 0.8,
        "width": 0.8,
        "x": 0.1,
        "y": 0.1
       },
       "content": {
        "cell": "20fad7f0-765d-477d-a197-51d101cfe5d1",
        "part": "whole"
       },
       "id": "a7caadfe-75fd-40f6-8f06-e133767bad72"
      }
     }
    },
    "cbc1f27c-01ce-4e40-8ea1-6cb98b4f7fa0": {
     "id": "cbc1f27c-01ce-4e40-8ea1-6cb98b4f7fa0",
     "prev": "d2a1a69d-07bb-4545-83bb-b899665a8bd8",
     "regions": {
      "08d18adf-a035-4830-9049-165a63e6f3b7": {
       "attrs": {
        "height": 0.8,
        "width": 0.8,
        "x": 0.1,
        "y": 0.1
       },
       "content": {
        "cell": "0730781e-eb68-4493-93ca-e2905e30e9b7",
        "part": "whole"
       },
       "id": "08d18adf-a035-4830-9049-165a63e6f3b7"
      }
     }
    },
    "d2a1a69d-07bb-4545-83bb-b899665a8bd8": {
     "id": "d2a1a69d-07bb-4545-83bb-b899665a8bd8",
     "prev": "39a92c78-55d5-494c-8c09-21de256c6a43",
     "regions": {
      "8345b0d9-1659-4881-aad5-824a1fd779d0": {
       "attrs": {
        "height": 0.8,
        "width": 0.8,
        "x": 0.1,
        "y": 0.1
       },
       "content": {
        "cell": "e603d5c1-6ca1-462e-9559-d7c9068151c9",
        "part": "whole"
       },
       "id": "8345b0d9-1659-4881-aad5-824a1fd779d0"
      }
     }
    },
    "e836f61b-7058-445e-8741-4651a2417d42": {
     "id": "e836f61b-7058-445e-8741-4651a2417d42",
     "prev": "13c1b062-40ea-49e9-b47b-e5d0f8b6f5d2",
     "regions": {
      "40dcec8d-b04c-422b-918d-204e7d67b6d7": {
       "attrs": {
        "height": 0.8,
        "width": 0.8,
        "x": 0.1,
        "y": 0.1
       },
       "content": {
        "cell": "1616f668-8a73-473e-8c0a-6a034aa43255",
        "part": "whole"
       },
       "id": "40dcec8d-b04c-422b-918d-204e7d67b6d7"
      }
     }
    },
    "ec8b6202-1ac7-4998-9131-4eef89713433": {
     "id": "ec8b6202-1ac7-4998-9131-4eef89713433",
     "prev": "80e0a8c2-6d14-4e18-a4cf-c299a2985b13",
     "regions": {
      "98b53d1a-5621-4ac2-9e9a-277362a4650d": {
       "attrs": {
        "height": 0.8,
        "width": 0.8,
        "x": 0.1,
        "y": 0.1
       },
       "content": {
        "cell": "ae1d7dac-3e36-44d4-b6cb-770d29c26c5a",
        "part": "whole"
       },
       "id": "98b53d1a-5621-4ac2-9e9a-277362a4650d"
      }
     }
    },
    "f2210f1c-8d15-43d9-9b22-4095c151c440": {
     "id": "f2210f1c-8d15-43d9-9b22-4095c151c440",
     "prev": "6f894c07-49fe-4047-a2ac-1b2e445c3f5b",
     "regions": {
      "368f4dee-3163-4a28-89bc-189dfefaa2c3": {
       "attrs": {
        "height": 0.8,
        "width": 0.8,
        "x": 0.1,
        "y": 0.1
       },
       "content": {
        "cell": "aa4afb71-9418-42e5-9ce0-bc92fc058c62",
        "part": "whole"
       },
       "id": "368f4dee-3163-4a28-89bc-189dfefaa2c3"
      }
     }
    },
    "f6d4b6ad-a730-4045-a465-73a5a7ec944b": {
     "id": "f6d4b6ad-a730-4045-a465-73a5a7ec944b",
     "prev": "9ca24d24-0ddc-4154-84b1-3cb34ee158b1",
     "regions": {
      "d331b67b-96f6-4604-ad35-3cc8d36bed40": {
       "attrs": {
        "height": 0.8,
        "width": 0.8,
        "x": 0.1,
        "y": 0.1
       },
       "content": {
        "cell": "22ba9cda-2104-44c1-a541-4981a8eb6310",
        "part": "whole"
       },
       "id": "d331b67b-96f6-4604-ad35-3cc8d36bed40"
      }
     }
    },
    "f956d700-ba30-4867-82d2-8ce7fe128e4e": {
     "id": "f956d700-ba30-4867-82d2-8ce7fe128e4e",
     "prev": "1e73f105-cefd-4b26-b644-aeb36943f3dc",
     "regions": {
      "6d2b6456-8d76-457b-925b-69e578c96389": {
       "attrs": {
        "height": 0.8,
        "width": 0.8,
        "x": 0.1,
        "y": 0.1
       },
       "content": {
        "cell": "821503fe-5a23-4709-93a0-0e2628a395d0",
        "part": "whole"
       },
       "id": "6d2b6456-8d76-457b-925b-69e578c96389"
      }
     }
    },
    "fd87737b-76c0-43c8-a251-5c5245d8a7cf": {
     "id": "fd87737b-76c0-43c8-a251-5c5245d8a7cf",
     "prev": "f2210f1c-8d15-43d9-9b22-4095c151c440",
     "regions": {
      "409a2e7c-aded-43dd-975b-08fbdf847e53": {
       "attrs": {
        "height": 0.8,
        "width": 0.8,
        "x": 0.1,
        "y": 0.1
       },
       "content": {
        "cell": "502d2fb3-f0d4-4de4-8fa3-8b8347cdfcc7",
        "part": "whole"
       },
       "id": "409a2e7c-aded-43dd-975b-08fbdf847e53"
      }
     }
    }
   },
   "themes": {}
  }
 },
 "nbformat": 4,
 "nbformat_minor": 1
}
