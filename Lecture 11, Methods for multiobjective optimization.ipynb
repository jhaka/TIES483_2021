{
 "cells": [
  {
   "cell_type": "code",
   "execution_count": 24,
   "metadata": {},
   "outputs": [
    {
     "data": {
      "text/html": [
       "<style>.container { width:95% !important; }</style>"
      ],
      "text/plain": [
       "<IPython.core.display.HTML object>"
      ]
     },
     "execution_count": 24,
     "metadata": {},
     "output_type": "execute_result"
    }
   ],
   "source": [
    "from IPython.core.display import HTML\n",
    "HTML(\"<style>.container { width:95% !important; }</style>\")"
   ]
  },
  {
   "cell_type": "markdown",
   "metadata": {
    "slideshow": {
     "slide_type": "slide"
    }
   },
   "source": [
    "# Lecture 11, Methods for multiobjective optimization "
   ]
  },
  {
   "cell_type": "markdown",
   "metadata": {},
   "source": [
    "If you want to know more about the topic of this lecture, I urge you to read Professor Miettinen's book Nonlinear Multiobjective Optimization\n",
    "\n",
    "![Nonlinear Multiobjective Optimization](images/Miettinen2.gif)"
   ]
  },
  {
   "cell_type": "markdown",
   "metadata": {
    "slideshow": {
     "slide_type": "slide"
    }
   },
   "source": [
    "# What means solving a multiobjective optimization problem?\n",
    "\n",
    "* **Find all Pareto optimal solutions**\n",
    "  * As we learned in the previous lecture, there can be infinitely many Pareto optimal solutions for problems having real valued variables $\\rightarrow$ extremely difficult and possible only in some simple special cases"
   ]
  },
  {
   "cell_type": "markdown",
   "metadata": {
    "slideshow": {
     "slide_type": "fragment"
    }
   },
   "source": [
    "* **Find a set of solutions that approximate the set of all Pareto optimal solutions**\n",
    "  * How to evaluate the goodness of the approximation? (closeness, spread, ...)\n",
    "  * The number of solutions required for a good approximation grows exponentially with the number of objectives!\n",
    "  * Works well with two objectives and, in some cases, for three objectives"
   ]
  },
  {
   "cell_type": "markdown",
   "metadata": {
    "slideshow": {
     "slide_type": "fragment"
    }
   },
   "source": [
    "* **Find a solutions that best satisfies the preferences of a decision maker**\n",
    "  * Usually in practical problems one solution has to be finally selected for further analysis\n",
    "  * Sometimes, more than one (but not that many) are needed $\\rightarrow$ e.g. choose best design for different types of cars to be anufactured (small and economic sedan, spacious vagon, efficient sports model, etc.)\n",
    "  * does not depend on the number of objectives"
   ]
  },
  {
   "cell_type": "markdown",
   "metadata": {
    "slideshow": {
     "slide_type": "subslide"
    }
   },
   "source": [
    "## Scalarization\n",
    "* One way to consider a multiobjective optimization problem is to convert it to single objective subproblem whose solution is a Pareto optimal solution for the original problem\n",
    "* The subproblem is called a *scalarization* and it can be solved by using a suitable single objective optimization method\n",
    "* By changing the parameters in the scalarization, different (Pareto optimal) solutions can be computed"
   ]
  },
  {
   "cell_type": "markdown",
   "metadata": {
    "slideshow": {
     "slide_type": "slide"
    }
   },
   "source": [
    "## Classification of methods"
   ]
  },
  {
   "cell_type": "markdown",
   "metadata": {},
   "source": [
    "Methods for multiobjective optimization are often characterized by the involvement of the decision maker in the process."
   ]
  },
  {
   "cell_type": "markdown",
   "metadata": {},
   "source": [
    "The types of methods are\n",
    "* **no preference methods**, where the decision maker does not play a role,\n",
    "* **a priori methods**, where the decision maker gives his/her preference information at first and then the optimization method finds the best match to that preference information,\n",
    "* **a posteriori methods**, where the optimization methods try to characterize all/find a good representation of the Pareto optimal solutions and the decision maker chooses the most preferred one of those,\n",
    "* **interactive methods**, where the optimization method and the decision maker alternate in iterative search for the most preferred solution."
   ]
  },
  {
   "cell_type": "markdown",
   "metadata": {
    "slideshow": {
     "slide_type": "subslide"
    }
   },
   "source": [
    "## Multiple Criteria Decision Making (MCDM)\n",
    "* The related research field is called multiple criteria decision making\n",
    "* More information in the website of the <a href=\"http://www.mcdmsociety.org/\">International Society on MCDM</a>"
   ]
  },
  {
   "cell_type": "markdown",
   "metadata": {
    "slideshow": {
     "slide_type": "slide"
    }
   },
   "source": [
    "##  Our example problem for this lecture\n",
    "\n",
    "We study a hypothetical decision problem of buying a car, when you can choose to have a car with power between (denoted by $p$) 50 and 200 kW and average consumption (denoted by $c$) per 100 km between 3 and 10 l. However, in addition to the average consumption and power, you need to decide the volume of the cylinders (v), which may be between 1000 $cm^3$ and 4000 $cm^3$. Finally, the price of the car follows now a function \n",
    "\n",
    "$$\n",
    "\\left(\\sqrt{\\frac{p-50}{50}}\\\\\n",
    "+\\left(\\frac{p-50}{50}\\right)^2+0.3(10-c)\\\\ +10^{-5}\\left(v-\\left(1000+3000\\frac{p-50}{150}\\right)\\right)^2\\right)10000\\\\+5000\n",
    "$$\n",
    "\n",
    "in euros. This problem can be formulated as a multiobjective optimization problem\n",
    "\n",
    "$$\n",
    "\\begin{align}\n",
    "\\min \\quad & \\{c,-p,P\\},\\\\\n",
    "\\text{s.t. }\\quad\n",
    "&50\\leq p\\leq 200\\\\\n",
    "&3\\leq c\\leq 10\\\\\n",
    "&1000\\leq v\\leq 4000,\\\\\n",
    "\\text{where }\\quad&P = \\left(\\sqrt{\\frac{p-50}{50}}+\\left(\\frac{p-50}{50}\\right)^2+0.3(10-c)\\right.\\\\\n",
    "& \\left.+ 10^{-5}\\left(v-\\left(1000+3000\\frac{p-50}{150}\\right)\\right)^2\\right)10000+5000\n",
    "\\end{align}\n",
    "$$"
   ]
  },
  {
   "cell_type": "code",
   "execution_count": 25,
   "metadata": {
    "slideshow": {
     "slide_type": "subslide"
    }
   },
   "outputs": [],
   "source": [
    "#Let us define a Python function which returns the value of this\n",
    "import math\n",
    "def car_problem(c,p,v):\n",
    "#    import pdb; pdb.set_trace()\n",
    "    return [#Objective function values\n",
    "        c,-p,\n",
    "        (math.sqrt((p-50.)/50.)+((p-50.)/50.)**2+\n",
    "        0.3*(10.-c)+0.00001*(v-(1000.+3000.*(p-50.)/150.))**2)*10000.\n",
    "        +5000.] "
   ]
  },
  {
   "cell_type": "code",
   "execution_count": 26,
   "metadata": {},
   "outputs": [
    {
     "name": "stdout",
     "output_type": "stream",
     "text": [
      "Car with 3 l/100km consumption, 50kW and 1000cm^3 engine would cost 26000.0€\n",
      "Car with 3 l/100km consumption, 100kW and 2000cm^3 engine would cost 46000.0€\n",
      "Car with 3 l/100km consumption, 100kW and 1000cm^3 engine would cost 146000.0€\n"
     ]
    }
   ],
   "source": [
    "print(\"Car with 3 l/100km consumption, 50kW and 1000cm^3 engine would cost \"\n",
    "      +str(car_problem(3,50,1000)[2])+\"€\")\n",
    "print(\"Car with 3 l/100km consumption, 100kW and 2000cm^3 engine would cost \"\n",
    "      +str(car_problem(3,100,2000)[2])+\"€\")\n",
    "print(\"Car with 3 l/100km consumption, 100kW and 1000cm^3 engine would cost \"\n",
    "      +str(car_problem(3,100,1000)[2])+\"€\")"
   ]
  },
  {
   "cell_type": "markdown",
   "metadata": {
    "slideshow": {
     "slide_type": "slide"
    }
   },
   "source": [
    "## Normalization of the objectives"
   ]
  },
  {
   "cell_type": "markdown",
   "metadata": {},
   "source": [
    "**In many of the methods, the normalization of the objectives is necessary.**\n",
    "\n",
    "We can normalize the objectives using the nadir and ideal and setting the normalized objective as\n",
    "$$ \\tilde f_i = \\frac{f_i-z_i^{ideal}}{z_i^{nadir}-z_i^{ideal}}$$"
   ]
  },
  {
   "cell_type": "markdown",
   "metadata": {
    "slideshow": {
     "slide_type": "slide"
    }
   },
   "source": [
    "## Calculating the ideal"
   ]
  },
  {
   "cell_type": "markdown",
   "metadata": {},
   "source": [
    "**Finding the ideal for problems is usually easy, if you can optimize the objective functions separately.**\n",
    "\n",
    "For the car problem, ideal can be computed easily using the script:"
   ]
  },
  {
   "cell_type": "code",
   "execution_count": 27,
   "metadata": {},
   "outputs": [],
   "source": [
    "#Calculating the ideal\n",
    "from scipy.optimize import minimize\n",
    "import ad\n",
    "def calc_ideal(f):\n",
    "    ideal = [0]*3 #Because three objectives\n",
    "    solutions = [] #list for storing the actual solutions, which give the ideal\n",
    "    bounds = ((3,10),(50,200),(1000,4000)) #Bounds of the problem\n",
    "    starting_point = [3,50,1000]\n",
    "    for i in range(3):\n",
    "        res=minimize(\n",
    "            #Minimize each objective at the time\n",
    "            lambda x: f(x[0],x[1],x[2])[i], starting_point, method='SLSQP'\n",
    "            #Jacobian using automatic differentiation\n",
    "            ,jac=ad.gh(lambda x: f(x[0],x[1],x[2])[i])[0]\n",
    "            #bounds given above\n",
    "            ,bounds = bounds\n",
    "            ,options = {'disp':True, 'ftol': 1e-20, 'maxiter': 1000})\n",
    "        solutions.append(f(res.x[0],res.x[1],res.x[2]))\n",
    "        ideal[i]=res.fun\n",
    "    return ideal,solutions"
   ]
  },
  {
   "cell_type": "code",
   "execution_count": 28,
   "metadata": {},
   "outputs": [
    {
     "name": "stdout",
     "output_type": "stream",
     "text": [
      "Optimization terminated successfully.    (Exit mode 0)\n",
      "            Current function value: 3.0\n",
      "            Iterations: 1\n",
      "            Function evaluations: 1\n",
      "            Gradient evaluations: 1\n",
      "Optimization terminated successfully.    (Exit mode 0)\n",
      "            Current function value: -200.0\n",
      "            Iterations: 5\n",
      "            Function evaluations: 5\n",
      "            Gradient evaluations: 5\n",
      "Optimization terminated successfully.    (Exit mode 0)\n",
      "            Current function value: 5000.0\n",
      "            Iterations: 4\n",
      "            Function evaluations: 3\n",
      "            Gradient evaluations: 3\n",
      "ideal is [3.0, -200.0, 5000.0]\n"
     ]
    }
   ],
   "source": [
    "ideal, solutions= calc_ideal(car_problem)\n",
    "print (\"ideal is \"+str(ideal))"
   ]
  },
  {
   "cell_type": "markdown",
   "metadata": {
    "slideshow": {
     "slide_type": "subslide"
    }
   },
   "source": [
    "## Pay-off table method\n",
    "\n",
    "**Finding the nadir value is however, usually much harder.**\n",
    "\n",
    "Usually, the nadir value is estimated using the so-called pay-off table method.\n",
    "\n",
    "The pay-off table method does not guarantee to find the exact nadir for problems with more than two objectives. <!--(One of your exercises this week will be to show this.)--> \n",
    "\n",
    "The method is, however, a generally accepted way of approximating the nadir vector.\n",
    "\n",
    "In the pay-off table method:\n",
    "1. the objective values for attaining the individual minima are added in table\n",
    "2. the nadir is estimated by each objectives maxima in the table.\n",
    "3. the ideal values are located in the diagonal of the pay-off table"
   ]
  },
  {
   "cell_type": "markdown",
   "metadata": {
    "slideshow": {
     "slide_type": "subslide"
    }
   },
   "source": [
    "### The nadir for the car selection problem\n",
    "The table now becomes by using the *solutions* that we returned while calculating the ideal"
   ]
  },
  {
   "cell_type": "code",
   "execution_count": 29,
   "metadata": {},
   "outputs": [
    {
     "name": "stdout",
     "output_type": "stream",
     "text": [
      "[3.0, -50.0, 26000.0]\n",
      "[3.0, -200.0, 1033320.5080756888]\n",
      "[10.0, -50.0, 5000.0]\n"
     ]
    }
   ],
   "source": [
    "for solution in solutions:\n",
    "    print(solution) "
   ]
  },
  {
   "cell_type": "markdown",
   "metadata": {
    "slideshow": {
     "slide_type": "-"
    }
   },
   "source": [
    "Thus, the esimation of the nadir vector is \n",
    "$$(10,-50,1033320.5080756888)$$\n",
    "\n",
    "This is actually the real Nadir vector for this problem."
   ]
  },
  {
   "cell_type": "markdown",
   "metadata": {
    "slideshow": {
     "slide_type": "slide"
    }
   },
   "source": [
    "### Normalized car problem"
   ]
  },
  {
   "cell_type": "code",
   "execution_count": 30,
   "metadata": {
    "slideshow": {
     "slide_type": "-"
    }
   },
   "outputs": [],
   "source": [
    "#Let us define a Python function which returns the value of this\n",
    "import math\n",
    "def car_problem_normalized(c,p,v):\n",
    "    z_ideal = [3.0, -200.0, 5000]\n",
    "    z_nadir = [10,-50,1033320.5080756888]\n",
    "    z = car_problem(c,p,v) \n",
    "    return [(zi-zideali)/(znadiri-zideali) for \n",
    "            (zi,zideali,znadiri) in zip(z,z_ideal,z_nadir)]"
   ]
  },
  {
   "cell_type": "markdown",
   "metadata": {},
   "source": [
    "<a href=\"https://docs.python.org/3.3/library/functions.html#zip\">the zip function</a> in Python"
   ]
  },
  {
   "cell_type": "code",
   "execution_count": 31,
   "metadata": {
    "slideshow": {
     "slide_type": "subslide"
    }
   },
   "outputs": [
    {
     "name": "stdout",
     "output_type": "stream",
     "text": [
      "Normalized value of the car problem at (3,50,1000) is [0.0, 1.0, 0.020421648537670038]\n",
      "Normalized value of the car problem at (3,125,2500) is [0.0, 0.5, 0.054212133547970276]\n",
      "Normalized value of the car problem at (10,100,1000) is [1.0, 0.6666666666666666, 0.11669513450097163]\n"
     ]
    }
   ],
   "source": [
    "print(\"Normalized value of the car problem at (3,50,1000) is \"\n",
    "      +str(car_problem_normalized(3,50,1000)))\n",
    "print(\"Normalized value of the car problem at (3,125,2500) is \"\n",
    "      +str(car_problem_normalized(3,125,2500)))\n",
    "print(\"Normalized value of the car problem at (10,100,1000) is \"\n",
    "      +str(car_problem_normalized(10,100,1000)))"
   ]
  },
  {
   "cell_type": "markdown",
   "metadata": {},
   "source": [
    "**So, value 1 now indicates the worst value on the Pareto frontier and value 0 indicates the best values**"
   ]
  },
  {
   "cell_type": "markdown",
   "metadata": {
    "slideshow": {
     "slide_type": "subslide"
    }
   },
   "source": [
    "Let's set the ideal and nadir for later reference:"
   ]
  },
  {
   "cell_type": "code",
   "execution_count": 32,
   "metadata": {},
   "outputs": [],
   "source": [
    "z_ideal = [3.0, -200.0, 5000]\n",
    "z_nadir = [10.,-50,1033320.5080756888]"
   ]
  },
  {
   "cell_type": "markdown",
   "metadata": {},
   "source": [
    "**From now on, we will deal with the normalized problem, although, we write just $f$.** The aim of this is to simplify presentation."
   ]
  },
  {
   "cell_type": "markdown",
   "metadata": {
    "slideshow": {
     "slide_type": "slide"
    }
   },
   "source": [
    "## No preference methods\n",
    "\n",
    "* Usually only for situations, where the decision maker is not available or does not want to get involved\n",
    "* These just compute a single Pareto optimal solution, which is in somehow mathematically thought as the best compromise\n",
    "\n",
    "## Notation\n",
    "\n",
    "For short, let us denote the feasible set $\\{x\\in\\mathbb R^n: g_j(x) \\geq 0 \\text{ for all }j=1,\\ldots,J \\text{ and } h_k(x) = 0\\text{ for all }k=1,\\ldots,K\\}$ by $S$."
   ]
  },
  {
   "cell_type": "markdown",
   "metadata": {
    "slideshow": {
     "slide_type": "slide"
    }
   },
   "source": [
    "### Method of Global criterion\n",
    "\n",
    "Involved minimization of the p-norm of $f(x)-z^{ideal}$, that is we solve the problem\n",
    "$$\n",
    "\\min_{x\\in S} \\|f(x) - z^{ideal}\\|_p.\n",
    "$$\n",
    "\n",
    "![alt text](images/mgc.svg \"Method of global criterion\")\n",
    "\n",
    "**An optimal solution to this problem is Pareto optimal**"
   ]
  },
  {
   "cell_type": "markdown",
   "metadata": {
    "slideshow": {
     "slide_type": "subslide"
    }
   },
   "source": [
    "### Applying to our problem studied\n"
   ]
  },
  {
   "cell_type": "code",
   "execution_count": 37,
   "metadata": {},
   "outputs": [],
   "source": [
    "import numpy as np\n",
    "def global_criterion_method(f,p):\n",
    "    #Ideal for any normalized problem is (0,0,0)\n",
    "    ideal = [0,0,0]\n",
    "    bounds = ((3,10),(50,200),(1000,4000)) #Bounds of the problem\n",
    "    #Objective is the norm of objective function values minus\n",
    "    #the ideal\n",
    "    obj = lambda x: np.linalg.norm(np.array(f(x[0],x[1],x[2]))\n",
    "                                   -np.array(ideal),ord=p)\n",
    "    start = [7,125,2500]\n",
    "    res=minimize(\n",
    "            #Minimize p distance from the ideal\n",
    "            obj, start, method='SLSQP'\n",
    "            #Jacobian using automatic differentiation\n",
    "            ,jac=ad.gh(obj)[0]\n",
    "            #bounds given above\n",
    "            ,bounds = bounds,options = {'disp':True})\n",
    "    return res.x"
   ]
  },
  {
   "cell_type": "code",
   "execution_count": 38,
   "metadata": {},
   "outputs": [
    {
     "name": "stdout",
     "output_type": "stream",
     "text": [
      "Optimization terminated successfully.    (Exit mode 0)\n",
      "            Current function value: 0.2550330331982373\n",
      "            Iterations: 13\n",
      "            Function evaluations: 22\n",
      "            Gradient evaluations: 13\n",
      "variable values are  [   3.02944133  176.80589468 2500.00083783]\n",
      "objective values are  [3.029441328653617, -176.8058946793659, 213509.66458173335]\n"
     ]
    }
   ],
   "source": [
    "degree = 2\n",
    "solution = global_criterion_method(car_problem_normalized,\n",
    "                                           degree)\n",
    "print(\"variable values are \",solution)\n",
    "f_global_criterion = car_problem(solution[0],solution[1],solution[2])\n",
    "print(\"objective values are \",f_global_criterion)"
   ]
  },
  {
   "cell_type": "code",
   "execution_count": 39,
   "metadata": {},
   "outputs": [
    {
     "name": "stdout",
     "output_type": "stream",
     "text": [
      "Help on function norm in module numpy.linalg:\n",
      "\n",
      "norm(x, ord=None, axis=None, keepdims=False)\n",
      "    Matrix or vector norm.\n",
      "    \n",
      "    This function is able to return one of eight different matrix norms,\n",
      "    or one of an infinite number of vector norms (described below), depending\n",
      "    on the value of the ``ord`` parameter.\n",
      "    \n",
      "    Parameters\n",
      "    ----------\n",
      "    x : array_like\n",
      "        Input array.  If `axis` is None, `x` must be 1-D or 2-D.\n",
      "    ord : {non-zero int, inf, -inf, 'fro', 'nuc'}, optional\n",
      "        Order of the norm (see table under ``Notes``). inf means numpy's\n",
      "        `inf` object.\n",
      "    axis : {int, 2-tuple of ints, None}, optional\n",
      "        If `axis` is an integer, it specifies the axis of `x` along which to\n",
      "        compute the vector norms.  If `axis` is a 2-tuple, it specifies the\n",
      "        axes that hold 2-D matrices, and the matrix norms of these matrices\n",
      "        are computed.  If `axis` is None then either a vector norm (when `x`\n",
      "        is 1-D) or a matrix norm (when `x` is 2-D) is returned.\n",
      "    \n",
      "        .. versionadded:: 1.8.0\n",
      "    \n",
      "    keepdims : bool, optional\n",
      "        If this is set to True, the axes which are normed over are left in the\n",
      "        result as dimensions with size one.  With this option the result will\n",
      "        broadcast correctly against the original `x`.\n",
      "    \n",
      "        .. versionadded:: 1.10.0\n",
      "    \n",
      "    Returns\n",
      "    -------\n",
      "    n : float or ndarray\n",
      "        Norm of the matrix or vector(s).\n",
      "    \n",
      "    Notes\n",
      "    -----\n",
      "    For values of ``ord <= 0``, the result is, strictly speaking, not a\n",
      "    mathematical 'norm', but it may still be useful for various numerical\n",
      "    purposes.\n",
      "    \n",
      "    The following norms can be calculated:\n",
      "    \n",
      "    =====  ============================  ==========================\n",
      "    ord    norm for matrices             norm for vectors\n",
      "    =====  ============================  ==========================\n",
      "    None   Frobenius norm                2-norm\n",
      "    'fro'  Frobenius norm                --\n",
      "    'nuc'  nuclear norm                  --\n",
      "    inf    max(sum(abs(x), axis=1))      max(abs(x))\n",
      "    -inf   min(sum(abs(x), axis=1))      min(abs(x))\n",
      "    0      --                            sum(x != 0)\n",
      "    1      max(sum(abs(x), axis=0))      as below\n",
      "    -1     min(sum(abs(x), axis=0))      as below\n",
      "    2      2-norm (largest sing. value)  as below\n",
      "    -2     smallest singular value       as below\n",
      "    other  --                            sum(abs(x)**ord)**(1./ord)\n",
      "    =====  ============================  ==========================\n",
      "    \n",
      "    The Frobenius norm is given by [1]_:\n",
      "    \n",
      "        :math:`||A||_F = [\\sum_{i,j} abs(a_{i,j})^2]^{1/2}`\n",
      "    \n",
      "    The nuclear norm is the sum of the singular values.\n",
      "    \n",
      "    References\n",
      "    ----------\n",
      "    .. [1] G. H. Golub and C. F. Van Loan, *Matrix Computations*,\n",
      "           Baltimore, MD, Johns Hopkins University Press, 1985, pg. 15\n",
      "    \n",
      "    Examples\n",
      "    --------\n",
      "    >>> from numpy import linalg as LA\n",
      "    >>> a = np.arange(9) - 4\n",
      "    >>> a\n",
      "    array([-4, -3, -2, -1,  0,  1,  2,  3,  4])\n",
      "    >>> b = a.reshape((3, 3))\n",
      "    >>> b\n",
      "    array([[-4, -3, -2],\n",
      "           [-1,  0,  1],\n",
      "           [ 2,  3,  4]])\n",
      "    \n",
      "    >>> LA.norm(a)\n",
      "    7.745966692414834\n",
      "    >>> LA.norm(b)\n",
      "    7.745966692414834\n",
      "    >>> LA.norm(b, 'fro')\n",
      "    7.745966692414834\n",
      "    >>> LA.norm(a, np.inf)\n",
      "    4.0\n",
      "    >>> LA.norm(b, np.inf)\n",
      "    9.0\n",
      "    >>> LA.norm(a, -np.inf)\n",
      "    0.0\n",
      "    >>> LA.norm(b, -np.inf)\n",
      "    2.0\n",
      "    \n",
      "    >>> LA.norm(a, 1)\n",
      "    20.0\n",
      "    >>> LA.norm(b, 1)\n",
      "    7.0\n",
      "    >>> LA.norm(a, -1)\n",
      "    -4.6566128774142013e-010\n",
      "    >>> LA.norm(b, -1)\n",
      "    6.0\n",
      "    >>> LA.norm(a, 2)\n",
      "    7.745966692414834\n",
      "    >>> LA.norm(b, 2)\n",
      "    7.3484692283495345\n",
      "    \n",
      "    >>> LA.norm(a, -2)\n",
      "    nan\n",
      "    >>> LA.norm(b, -2)\n",
      "    1.8570331885190563e-016\n",
      "    >>> LA.norm(a, 3)\n",
      "    5.8480354764257312\n",
      "    >>> LA.norm(a, -3)\n",
      "    nan\n",
      "    \n",
      "    Using the `axis` argument to compute vector norms:\n",
      "    \n",
      "    >>> c = np.array([[ 1, 2, 3],\n",
      "    ...               [-1, 1, 4]])\n",
      "    >>> LA.norm(c, axis=0)\n",
      "    array([ 1.41421356,  2.23606798,  5.        ])\n",
      "    >>> LA.norm(c, axis=1)\n",
      "    array([ 3.74165739,  4.24264069])\n",
      "    >>> LA.norm(c, ord=1, axis=1)\n",
      "    array([ 6.,  6.])\n",
      "    \n",
      "    Using the `axis` argument to compute matrix norms:\n",
      "    \n",
      "    >>> m = np.arange(8).reshape(2,2,2)\n",
      "    >>> LA.norm(m, axis=(1,2))\n",
      "    array([  3.74165739,  11.22497216])\n",
      "    >>> LA.norm(m[0, :, :]), LA.norm(m[1, :, :])\n",
      "    (3.7416573867739413, 11.224972160321824)\n",
      "\n"
     ]
    }
   ],
   "source": [
    "help (np.linalg.norm)"
   ]
  },
  {
   "cell_type": "code",
   "execution_count": 40,
   "metadata": {},
   "outputs": [
    {
     "name": "stdout",
     "output_type": "stream",
     "text": [
      "Optimization terminated successfully.    (Exit mode 0)\n",
      "            Current function value: 0.18028203269723292\n",
      "            Iterations: 26\n",
      "            Function evaluations: 69\n",
      "            Gradient evaluations: 26\n",
      "variable values are  [   4.25892988  172.95999244 2500.00213198]\n",
      "objective values are  [4.258929879857968, -172.95999243905936, 190387.71146013652]\n"
     ]
    }
   ],
   "source": [
    "solution = global_criterion_method(car_problem_normalized,\n",
    "                                           np.inf)\n",
    "print(\"variable values are \",solution) \n",
    "f_global_criterion = car_problem(solution[0],solution[1],solution[2])\n",
    "print(\"objective values are \",f_global_criterion)"
   ]
  },
  {
   "cell_type": "markdown",
   "metadata": {
    "slideshow": {
     "slide_type": "slide"
    }
   },
   "source": [
    "## A posteriori methods\n",
    "\n",
    "* A posteriori methods generate a representation of the Pareto optimal solutions, or the complete set of Pareto optimal solutions\n",
    "* Benefits\n",
    "  * The solutions can be visualized for problems with 2 or 3 objectives so the decision making is possible\n",
    "  * When succesful, they give an understanding of the Pareto front\n",
    "* Drawbacks\n",
    "  * Approximating the Pareto optimal set often time-consuming\n",
    "  * Decision making from a large representation may be very difficut"
   ]
  },
  {
   "cell_type": "markdown",
   "metadata": {
    "slideshow": {
     "slide_type": "slide"
    }
   },
   "source": [
    "\n",
    "### The weighting method\n",
    "\n",
    "Based on solving optimization problem\n",
    "$$\n",
    "\\min_{x\\in S} \\sum_{i=1}^kw_if_i(x)\n",
    "$$\n",
    "for different weights $w_i\\geq0$, $i=1,\\ldots,k$ such that $\\sum_{i=1}^k w_i=1$. \n",
    "\n",
    "**The idea is to generate weights evenly and then have evenly spread solutions.**\n",
    "\n",
    "**An optimal solution of the weighted problem is Pareto optimal, if all the weights $w_i$ are $>0$.**\n",
    "\n",
    "![alt text](images/ws.svg \"Weighting method\")"
   ]
  },
  {
   "cell_type": "markdown",
   "metadata": {
    "slideshow": {
     "slide_type": "subslide"
    }
   },
   "source": [
    "### Application to our problem"
   ]
  },
  {
   "cell_type": "code",
   "execution_count": 51,
   "metadata": {},
   "outputs": [],
   "source": [
    "import numpy as np\n",
    "def weighting_method(f,w):\n",
    "    points = []\n",
    "    bounds = ((3,10),(50,200),(1000,4000)) #Bounds of the problem\n",
    "    start = [7,125,2500]\n",
    "    for wi in w:\n",
    "        res=minimize(\n",
    "            #weighted sum\n",
    "            lambda x: sum(np.array(wi)*np.array(f(x[0],x[1],x[2]))), \n",
    "            start, method='SLSQP'\n",
    "            #Jacobian using automatic differentiation\n",
    "            ,jac=ad.gh(lambda x: sum(np.array(wi)*np.array(f(x[0],x[1],x[2]))))[0]\n",
    "            #bounds given above\n",
    "            ,bounds = bounds,options = {'disp':False})\n",
    "        points.append(res.x)\n",
    "    return points"
   ]
  },
  {
   "cell_type": "code",
   "execution_count": 52,
   "metadata": {},
   "outputs": [],
   "source": [
    "w = np.random.random((2000,3)) #500 random weights\n",
    "repr = weighting_method(car_problem_normalized,w)"
   ]
  },
  {
   "cell_type": "code",
   "execution_count": 54,
   "metadata": {},
   "outputs": [
    {
     "name": "stdout",
     "output_type": "stream",
     "text": [
      "Help on built-in function random_sample:\n",
      "\n",
      "random_sample(...) method of mtrand.RandomState instance\n",
      "    random_sample(size=None)\n",
      "    \n",
      "    Return random floats in the half-open interval [0.0, 1.0).\n",
      "    \n",
      "    Results are from the \"continuous uniform\" distribution over the\n",
      "    stated interval.  To sample :math:`Unif[a, b), b > a` multiply\n",
      "    the output of `random_sample` by `(b-a)` and add `a`::\n",
      "    \n",
      "      (b - a) * random_sample() + a\n",
      "    \n",
      "    Parameters\n",
      "    ----------\n",
      "    size : int or tuple of ints, optional\n",
      "        Output shape.  If the given shape is, e.g., ``(m, n, k)``, then\n",
      "        ``m * n * k`` samples are drawn.  Default is None, in which case a\n",
      "        single value is returned.\n",
      "    \n",
      "    Returns\n",
      "    -------\n",
      "    out : float or ndarray of floats\n",
      "        Array of random floats of shape `size` (unless ``size=None``, in which\n",
      "        case a single float is returned).\n",
      "    \n",
      "    Examples\n",
      "    --------\n",
      "    >>> np.random.random_sample()\n",
      "    0.47108547995356098\n",
      "    >>> type(np.random.random_sample())\n",
      "    <type 'float'>\n",
      "    >>> np.random.random_sample((5,))\n",
      "    array([ 0.30220482,  0.86820401,  0.1654503 ,  0.11659149,  0.54323428])\n",
      "    \n",
      "    Three-by-two array of random numbers from [-5, 0):\n",
      "    \n",
      "    >>> 5 * np.random.random_sample((3, 2)) - 5\n",
      "    array([[-3.99149989, -0.52338984],\n",
      "           [-2.99091858, -0.79479508],\n",
      "           [-1.23204345, -1.75224494]])\n",
      "\n"
     ]
    }
   ],
   "source": [
    "help(np.random.random)"
   ]
  },
  {
   "cell_type": "code",
   "execution_count": 47,
   "metadata": {},
   "outputs": [],
   "source": [
    "import matplotlib.pyplot as plt\n",
    "from mpl_toolkits.mplot3d import Axes3D\n",
    "def visualize_representation(func,repr):\n",
    "    f_repr = [func(repri[0],repri[1],repri[2]) for repri in repr]\n",
    "    print(min(f_repr))\n",
    "    print(max(f_repr))\n",
    "    fig = plt.figure()\n",
    "    ax = fig.add_subplot(111, projection='3d')\n",
    "    ax.scatter([f[0] for f in f_repr],[f[1] for f in f_repr],[f[2] for f in f_repr])\n",
    "    return plt"
   ]
  },
  {
   "cell_type": "code",
   "execution_count": 53,
   "metadata": {},
   "outputs": [
    {
     "name": "stdout",
     "output_type": "stream",
     "text": [
      "[3.0, -200.0, 358295.3108904176]\n",
      "[10.0, -124.08013863015307, 39157.42414609645]\n"
     ]
    },
    {
     "data": {
      "image/png": "[encoded data removed]",
      "text/plain": [
       "<Figure size 432x288 with 1 Axes>"
      ]
     },
     "metadata": {
      "needs_background": "light"
     },
     "output_type": "display_data"
    }
   ],
   "source": [
    "visualize_representation(car_problem,repr).show()"
   ]
  }
 ],
 "metadata": {
  "anaconda-cloud": {},
  "celltoolbar": "Slideshow",
  "kernelspec": {
   "display_name": "Python 3",
   "language": "python",
   "name": "python3"
  },
  "language_info": {
   "codemirror_mode": {
    "name": "ipython",
    "version": 3
   },
   "file_extension": ".py",
   "mimetype": "text/x-python",
   "name": "python",
   "nbconvert_exporter": "python",
   "pygments_lexer": "ipython3",
   "version": "3.7.0"
  }
 },
 "nbformat": 4,
 "nbformat_minor": 1
}
