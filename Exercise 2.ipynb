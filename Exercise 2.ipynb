{
 "cells": [
  {
   "cell_type": "markdown",
   "metadata": {},
   "source": [
    "# Exercise 2\n",
    "* Due: 21.1. at 14:00\n",
    "* Max points: 8"
   ]
  },
  {
   "cell_type": "markdown",
   "metadata": {},
   "source": [
    "## General rules\n",
    "* **Submit your answers by using Moodle.** The link is <a href=\"https://moodle.jyu.fi/course/view.php?id=11556\">https://moodle.jyu.fi/course/view.php?id=11556</a> and it can also be found in SISU.\n",
    "* Name your file as *lastname_ex2.xxx*. If you have multiple files, use *lastname_ex2_1.xxx, lastname_ex2_2.xxx* etc.\n",
    "* **Remember to add comments to your answers and include also some testing part!**\n",
    "* You will get feedback about your answers about a week from the due date\n",
    "* The exercises will be given on the previous Wednesday's lecture"
   ]
  },
  {
   "cell_type": "markdown",
   "metadata": {},
   "source": [
    "## Exercises\n",
    "\n",
    "1. **(2 points)** Assume that you are buying and selling electricity. The more electricity you buy, the better price you get **per kwH** and the **buying prize** of electricity follows function $f(x) = 1-0.01x$, where $0\\leq x\\leq50$ is the amount of electricity you buy. On the other hand, the **price** that you get from selling electricity **follows** function $g(x) = 2-0.01x^2$ with $x$ again the amount of electricity that you sell. Formulate an optimization problem that maximizes the profit.\n",
    "2. **(2 points)** Use bisection search to optimize problem\n",
    "$$\n",
    "\\begin{align}\n",
    "\\min & (1-x)^2+x\\\\\n",
    "\\text{s.t. }&x\\in [0,2].\n",
    "\\end{align}\n",
    "$$\n",
    "Code the search algorithm by yourself, not use the one shown in the lecture material.\n",
    "3. **(2 points)** Use golden section search to optimize the problem from above exercise. Code the search algorithm by yourself, not use the one shown in the lecture material.\n",
    "4. **(2 points)** Use differentiation/derivation to optimize the optimization problem of task 1 (above) and to verify the answer of optimization problem in task 2 (above).\n"
   ]
  }
 ],
 "metadata": {
  "anaconda-cloud": {},
  "kernelspec": {
   "display_name": "Python 3",
   "language": "python",
   "name": "python3"
  },
  "language_info": {
   "codemirror_mode": {
    "name": "ipython",
    "version": 3
   },
   "file_extension": ".py",
   "mimetype": "text/x-python",
   "name": "python",
   "nbconvert_exporter": "python",
   "pygments_lexer": "ipython3",
   "version": "3.7.0"
  }
 },
 "nbformat": 4,
 "nbformat_minor": 1
}
