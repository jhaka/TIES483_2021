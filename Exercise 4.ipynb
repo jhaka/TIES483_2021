{
 "cells": [
  {
   "cell_type": "markdown",
   "metadata": {},
   "source": [
    "# Exercise 4\n",
    "* Due: 4.2. at 14:00\n",
    "* Max points: 8"
   ]
  },
  {
   "cell_type": "markdown",
   "metadata": {},
   "source": [
    "## General rules\n",
    "* **Submit your answers by using Moodle.** The link is <a href=\"https://moodle.jyu.fi/course/view.php?id=11556\">https://moodle.jyu.fi/course/view.php?id=11556</a> and it can also be found in SISU.\n",
    "* Name your file as *lastname_ex4.xxx*. If you have multiple files, use *lastname_ex4_1.xxx, lastname_ex4_2.xxx* etc.\n",
    "* **Remember to add comments to your answers and include also some testing part!**\n",
    "* You will get feedback about your answers about a week from the due date\n",
    "* The exercises will be given on the previous Wednesday's lecture"
   ]
  },
  {
   "cell_type": "markdown",
   "metadata": {},
   "source": [
    "## Exercises\n",
    "\n",
    "For tasks 1-3, we study optimization problem\n",
    "$$\n",
    "\\begin{align}\n",
    "\\min \\qquad & x_1^2+x_2^2 + x_1+2x_2\\\\\n",
    "\\text{s.t.}\\qquad &x_1+x_2=1\\\\\n",
    "    &x_1,x_2\\in\\mathbb R\n",
    "\\end{align}\n",
    "$$\n",
    "\n",
    "1. **(2 points)** Solve the problem using the penalty function method. Note that it is not sufficient to use a fixed value for $r$.\n",
    "2. **(2 points)** Solve the problem (i.e., approximate the optimal solution) using the barrier function method. Note that you need to do something a bit clever.\n",
    "3. **(2 points)** Solve the problem using projected gradient method. Compare the performance to the penalty function and barrier function methods.\n",
    "4. **(2 points)** Check the *necessary first order KKT conditions* for the solution that you found."
   ]
  }
 ],
 "metadata": {
  "anaconda-cloud": {},
  "kernelspec": {
   "display_name": "Python 3",
   "language": "python",
   "name": "python3"
  },
  "language_info": {
   "codemirror_mode": {
    "name": "ipython",
    "version": 3
   },
   "file_extension": ".py",
   "mimetype": "text/x-python",
   "name": "python",
   "nbconvert_exporter": "python",
   "pygments_lexer": "ipython3",
   "version": "3.7.0"
  }
 },
 "nbformat": 4,
 "nbformat_minor": 1
}
