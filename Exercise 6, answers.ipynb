{
 "cells": [
  {
   "cell_type": "markdown",
   "metadata": {
    "slideshow": {
     "slide_type": "slide"
    }
   },
   "source": [
    "# Exercise 6, answers"
   ]
  },
  {
   "cell_type": "markdown",
   "metadata": {
    "slideshow": {
     "slide_type": "slide"
    }
   },
   "source": [
    "## Task 1"
   ]
  },
  {
   "cell_type": "markdown",
   "metadata": {
    "slideshow": {
     "slide_type": "-"
    }
   },
   "source": [
    "The set of Pareto optimal solutions is $\\{(t,1-t):t\\in[0,1]\\}$.\n",
    "\n",
    "Let us denote set of Pareto optimal solutions by $PS$ and show that $PS=\\{(t,1-t):t\\in[0,1]\\}$."
   ]
  },
  {
   "cell_type": "markdown",
   "metadata": {
    "slideshow": {
     "slide_type": "fragment"
    }
   },
   "source": [
    "$PS\\supset\\{(t,1-t):t\\in[0,1]\\}$:\n",
    "\n",
    "Let's assume that there exists $t\\in[0,1]$, for which $(t,1-t)$ is not Pareto optimal. Then there exists $x=(x_1,x_2)\\in\\mathbb R^2$ and $t\\in[0,1]$ such that\n",
    "\n",
    "$$\n",
    "\\left\\{\n",
    "\\begin{align}\n",
    "\\|x-(1,0)\\|^2<\\|(t,1-t)-(1,0) \\|^2,\\text{ and}\\\\\n",
    "\\|x-(0,1)\\|^2\\leq\\|(t,1-t)-(0,1) \\|^2\n",
    "\\end{align}\n",
    "\\right.\n",
    "$$\n",
    "\n",
    "or\n",
    "\n",
    "$$\n",
    "\\left\\{\n",
    "\\begin{align}\n",
    "\\|x-(1,0)\\|^2\\leq\\|(t,1-t)-(1,0) \\|^2,\\text{ and}\\\\\n",
    "\\|x-(0,1)\\|^2<\\|(t,1-t)-(0,1)\\|^2.\n",
    "\\end{align}\n",
    "\\right.\n",
    "$$\n",
    "\n",
    "But in both cases\n",
    "\n",
    "$$\n",
    "\\sqrt{2} = \\|(1,0)-(0,1)\\|\\\\\n",
    "\\leq \\|(1,0)-x\\|+\\|x-(0,1)\\|\\\\\n",
    "< \\|(t,1-t)-(1,0) \\|+\\|(t,1-t)-(0,1) \\|\\\\\n",
    "= \\|(1,0)-(0,1)\\| =\\sqrt{2}.\n",
    "$$\n",
    "because the point $(t,1-t)$ is on the straight line from $(1,0)$ to $(0,1)$.\n",
    "\n",
    "Thus, neither one of the requirements of non-Pareto optimality can hold. Thus, the point is Pareto optimal.\n",
    "\n"
   ]
  },
  {
   "cell_type": "markdown",
   "metadata": {
    "slideshow": {
     "slide_type": "fragment"
    }
   },
   "source": [
    "$PS\\subset\\{(t,1-t):t\\in[0,1]\\}$:\n",
    "\n",
    "Let's assume a Pareto optimal solution $x$. This follows from the triangle inequality."
   ]
  },
  {
   "cell_type": "markdown",
   "metadata": {
    "slideshow": {
     "slide_type": "fragment"
    }
   },
   "source": [
    "**Therefore, $PS=\\{(t,1-t):t\\in[0,1]\\}$**"
   ]
  },
  {
   "cell_type": "markdown",
   "metadata": {
    "slideshow": {
     "slide_type": "slide"
    }
   },
   "source": [
    "## Task 2"
   ]
  },
  {
   "cell_type": "markdown",
   "metadata": {},
   "source": [
    "Ideal:\n",
    "\n",
    "To solve\n",
    "\n",
    "$$\n",
    "\\min \\|x-(1,0)\\|^2\\\\\n",
    "\\text{s.t. }x\\in \\mathbb R^2.\n",
    "$$\n",
    "\n",
    "The solution of this problem is naturally $x = (1,0)$ and the minimum is $0$. Minimizing the second objective give $x=(0,1)$ and the minimum is again $0$. Thus, the ideal is $(0,0)$."
   ]
  },
  {
   "cell_type": "markdown",
   "metadata": {
    "slideshow": {
     "slide_type": "fragment"
    }
   },
   "source": [
    "Now, the problem has just two objectives and thus, we get the components of the nadir by optimizing\n",
    "\n",
    "$$\n",
    "\\max f_1(x)\\\\\n",
    "\\text{s.t. }f_2(x)\\leq z^{ideal}_2\n",
    "$$\n",
    "\n",
    "and\n",
    "\n",
    "$$\n",
    "\\max f_2(x)\\\\\n",
    "\\text{s.t. }f_1(x)\\leq z^{ideal}_1.\n",
    "$$\n",
    "\n",
    "The solution of this problem is Pareto optimal because of the epsilon constraint method and also because the other one of the objectives is at the minimum and the other one cannot be grown with growing the other. Thus, the components of the nadir are at least the optimal values of the above optimization problems.\n",
    "\n",
    "On the other hand, the components of the nadir have to be at most the optimal values of the above optimization problems, because if this was not the case, then the solution would not be Pareto optimal.\n",
    "\n",
    "By solving these optimization problems, we get nadir (2,2)."
   ]
  },
  {
   "cell_type": "markdown",
   "metadata": {
    "slideshow": {
     "slide_type": "slide"
    }
   },
   "source": [
    "## Task 3"
   ]
  },
  {
   "cell_type": "code",
   "execution_count": null,
   "metadata": {
    "slideshow": {
     "slide_type": "subslide"
    }
   },
   "outputs": [],
   "source": [
    "# norm squared\n",
    "def prob(x):\n",
    "    return [(x[0]-1)**2+x[1]**2,x[0]**2+(x[1]-1)**2]"
   ]
  },
  {
   "cell_type": "code",
   "execution_count": null,
   "metadata": {},
   "outputs": [],
   "source": [
    "# from the lectures\n",
    "import numpy as np\n",
    "import ad\n",
    "from scipy.optimize import minimize\n",
    "def weighting_method(f,w):\n",
    "    points = []\n",
    "    for wi in w:\n",
    "        res=minimize(\n",
    "            #weighted sum\n",
    "            lambda x: sum(np.array(wi)*np.array(f(x))), \n",
    "            [0,0], jac=ad.gh(lambda x: sum(np.array(wi)*np.array(f(x))))[0],\n",
    "            options = {'disp':False})\n",
    "        points.append(res.x)\n",
    "    return points"
   ]
  },
  {
   "cell_type": "code",
   "execution_count": null,
   "metadata": {
    "slideshow": {
     "slide_type": "subslide"
    }
   },
   "outputs": [],
   "source": [
    "# objective functions\n",
    "def prob(x):\n",
    "    return [(x[0]-1)**2+x[1]**2,x[0]**2+(x[1]-1)**2]"
   ]
  },
  {
   "cell_type": "code",
   "execution_count": null,
   "metadata": {},
   "outputs": [],
   "source": [
    "w = np.random.random((500,2)) #500 random weights\n",
    "wn = w\n",
    "# normalization\n",
    "for i in range(len(w)):\n",
    "    s = sum(w[i])\n",
    "    for j in range(2):\n",
    "        wn[i][j] = w[i][j]/s\n",
    "repr_ws = weighting_method(prob,wn)"
   ]
  },
  {
   "cell_type": "markdown",
   "metadata": {
    "slideshow": {
     "slide_type": "subslide"
    }
   },
   "source": [
    "**Plot the solutions in the objective space**"
   ]
  },
  {
   "cell_type": "code",
   "execution_count": null,
   "metadata": {},
   "outputs": [],
   "source": [
    "import matplotlib.pyplot as plt\n",
    "def visualize_representation(func,repr):\n",
    "    f_repr_ws = [prob(repri) for repri in repr]\n",
    "    fig = plt.figure()\n",
    "    plt.scatter([z[0] for z in f_repr_ws],[z[1] for z in f_repr_ws])\n",
    "    return plt"
   ]
  },
  {
   "cell_type": "code",
   "execution_count": null,
   "metadata": {},
   "outputs": [],
   "source": [
    "visualize_representation(prob,repr_ws)"
   ]
  },
  {
   "cell_type": "markdown",
   "metadata": {},
   "source": [
    "**Plot the solutions in the decision space**"
   ]
  },
  {
   "cell_type": "code",
   "execution_count": null,
   "metadata": {},
   "outputs": [],
   "source": [
    "import matplotlib.pyplot as plt\n",
    "def visualize_decisions(repr):\n",
    "    fig = plt.figure()\n",
    "    plt.scatter([x[0] for x in repr],[x[1] for x in repr])\n",
    "    return plt"
   ]
  },
  {
   "cell_type": "code",
   "execution_count": null,
   "metadata": {},
   "outputs": [],
   "source": [
    "print(type(repr_ws))\n",
    "visualize_decisions(repr_ws).show()"
   ]
  },
  {
   "cell_type": "markdown",
   "metadata": {
    "slideshow": {
     "slide_type": "subslide"
    }
   },
   "source": [
    "**What do we notice?**"
   ]
  },
  {
   "cell_type": "markdown",
   "metadata": {},
   "source": [
    "In this problem, the weighting method works. This is because the objective functions are convex.\n",
    "\n",
    "Working here means that the method produces an even representation of the whole Pareto optimal set."
   ]
  },
  {
   "cell_type": "markdown",
   "metadata": {
    "slideshow": {
     "slide_type": "slide"
    }
   },
   "source": [
    "## Task 4"
   ]
  },
  {
   "cell_type": "markdown",
   "metadata": {},
   "source": [
    "### Part a)"
   ]
  },
  {
   "cell_type": "markdown",
   "metadata": {},
   "source": [
    "Let's assume the opposite that $x^*$ is an optimal solution to \n",
    "$$\n",
    "\\min \\sum_{i=1}^kw_if_i(x)\\\\\n",
    "\\text{s.t. }x\\in S\n",
    "$$\n",
    "and that the solution $x^*$ is not Pareto optimal."
   ]
  },
  {
   "cell_type": "markdown",
   "metadata": {
    "slideshow": {
     "slide_type": "fragment"
    }
   },
   "source": [
    "If $x^*$ is not Pareto optimal, then there exists $x'\\in S$ such that\n",
    "\n",
    "$$\n",
    "\\left\\{\n",
    "\\begin{align}\n",
    "f_i(x')\\leq f_i(x^*) \\text{ for all }i=1,\\ldots,k,\\text{ and}\\\\\n",
    "f_j(x')< f_j(x^*) \\text{ for some }j=1,\\ldots,k.\n",
    "\\end{align}\n",
    "\\right.\n",
    "$$\n",
    "\n",
    "But this means that\n",
    "\n",
    "$$\n",
    "\\begin{align}\n",
    "\\sum_{i=1}^kw_if_i(x') &= \\sum_{i\\neq j}w_if_i(x')+w_jf_j(x')\\\\\n",
    "&<\\sum_{i\\neq j}w_if_i(x^*)+w_jf_j(x^*)\\\\\n",
    "&=\\sum_{i=1}^kw_if_i(x^*).\n",
    "\\end{align}\n",
    "$$\n",
    "\n",
    "Thus, $x^*$ is not an optimal solution to the problem in the weighting method. This means that $x^*$ must be Pareto optimal."
   ]
  },
  {
   "cell_type": "markdown",
   "metadata": {
    "slideshow": {
     "slide_type": "subslide"
    }
   },
   "source": [
    "### Part b)"
   ]
  },
  {
   "cell_type": "markdown",
   "metadata": {},
   "source": [
    "Let's again assume that a solution $x^*$ is an optimal solution to the problem for all $j=1,\\ldots,k$ and $\\epsilon = f(x^*)$, but it is not Pareto optimal."
   ]
  },
  {
   "cell_type": "markdown",
   "metadata": {
    "slideshow": {
     "slide_type": "fragment"
    }
   },
   "source": [
    "If $x^*$ is not Pareto optimal, then there exists $x'\\in S$ such that\n",
    "\n",
    "$$\n",
    "\\left\\{\n",
    "\\begin{align}\n",
    "f_i(x')\\leq f_i(x^*) \\text{ for all }i=1,\\ldots,k,\\text{ and}\\\\\n",
    "f_j(x')< f_j(x^*) \\text{ for some }j=1,\\ldots,k.\n",
    "\\end{align}\n",
    "\\right.\n",
    "$$"
   ]
  },
  {
   "cell_type": "markdown",
   "metadata": {
    "slideshow": {
     "slide_type": "fragment"
    }
   },
   "source": [
    "The first inequality means that $x'$ is a feasible solution to the epsilon constraint problem for \"$j=j$\" (meaning that the index $j$ is the same in the definition of Pareto optimality and the definition of the epsilon constraint method).\n",
    "\n",
    "Furthermore, the second stricth inequality says that the value of the objective at this solutions $x'$ is better than the value at the solutions $x^*$. This means that it is not Pareto optimal."
   ]
  }
 ],
 "metadata": {
  "celltoolbar": "Slideshow",
  "kernelspec": {
   "display_name": "Python 3",
   "language": "python",
   "name": "python3"
  },
  "language_info": {
   "codemirror_mode": {
    "name": "ipython",
    "version": 3
   },
   "file_extension": ".py",
   "mimetype": "text/x-python",
   "name": "python",
   "nbconvert_exporter": "python",
   "pygments_lexer": "ipython3",
   "version": "3.7.0"
  }
 },
 "nbformat": 4,
 "nbformat_minor": 1
}
