{
 "cells": [
  {
   "cell_type": "markdown",
   "metadata": {},
   "source": [
    "# Exercise 3\n",
    "* Due: 28.1. at 14:00\n",
    "* Max points: 8"
   ]
  },
  {
   "cell_type": "markdown",
   "metadata": {},
   "source": [
    "## General rules\n",
    "* **Submit your answers by using Moodle.** The link is <a href=\"https://moodle.jyu.fi/course/view.php?id=11556\">https://moodle.jyu.fi/course/view.php?id=11556</a> and it can also be found in SISU.\n",
    "* Name your file as *lastname_ex3.xxx*. If you have multiple files, use *lastname_ex3_1.xxx, lastname_ex3_2.xxx* etc.\n",
    "* **Remember to add comments to your answers and include also some testing part!**\n",
    "* You will get feedback about your answers about a week from the due date\n",
    "* The exercises will be given on the previous Wednesday's lecture"
   ]
  },
  {
   "cell_type": "markdown",
   "metadata": {},
   "source": [
    "## Exercises\n",
    "\n",
    "For all of the following problems, we study optimization problem\n",
    "$$\n",
    "\\begin{align}\n",
    "\\min \\qquad & x_1^2+x_2^2 + x_1+2x_2\\\\\n",
    "\\text{s.t.}\\qquad &x_1,x_2\\in\\mathbb R\n",
    "\\end{align}\n",
    "$$\n",
    "\n",
    "1. **(3 points)** Implement a steepest descent algorithm, but do a golden section search to each new search direction. In other words, use line search to determine optimal step length. This means that you need to define a single-variable function to determine the step length. Set the length of the interval for doing line search as parameter of the method. Solve above problem using your method.\n",
    "2. **(2 points)** Plot the steps of the steepest descent algorithm implemented at the class (with fixed step lengths) against the steps of a steepest descent algorithm that you implemented above. You can choose any starting point you wish, but not the optimum. Compare and analyze the results of both methods.\n",
    "3. **(3 points)** Implement the Quasi-Newton method with DFP update as described e.g., at https://en.wikipedia.org/wiki/Davidon%E2%80%93Fletcher%E2%80%93Powell_formula. Solve above problem using this method.\n"
   ]
  }
 ],
 "metadata": {
  "anaconda-cloud": {},
  "kernelspec": {
   "display_name": "Python 3",
   "language": "python",
   "name": "python3"
  },
  "language_info": {
   "codemirror_mode": {
    "name": "ipython",
    "version": 3
   },
   "file_extension": ".py",
   "mimetype": "text/x-python",
   "name": "python",
   "nbconvert_exporter": "python",
   "pygments_lexer": "ipython3",
   "version": "3.7.0"
  }
 },
 "nbformat": 4,
 "nbformat_minor": 1
}
