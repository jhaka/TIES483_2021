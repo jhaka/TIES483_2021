{
 "cells": [
  {
   "cell_type": "markdown",
   "metadata": {
    "slideshow": {
     "slide_type": "slide"
    }
   },
   "source": [
    "# Lecture 13, Algebraic Modeling Languages"
   ]
  },
  {
   "cell_type": "markdown",
   "metadata": {
    "slideshow": {
     "slide_type": "slide"
    }
   },
   "source": [
    "Algebraic Modeling Languages (AML) are high-level computer programming languages for describing and solving high complexity problems for large scale mathematical computation (i.e. large scale optimization type problems).  Their syntax mimics the mathematical notation of optimization problems, which allows one to express optimization problems in a familiar, concise and readable way. \n",
    "\n",
    "**AMLs do not directly solve the problem, but they call appropriate external solvers to find the solution.**\n",
    "\n",
    "Examples of AMLs are\n",
    "* <a href=\"http://ampl.com/\">A Mathematical Programming Language (AMPL)</a>,\n",
    "* <a href=\"https://www.gams.com/\">General Algebraic Modeling System (GAMS)</a>,\n",
    "\n",
    "\n",
    "* <a href=\"https://www.ibm.com/analytics/optimization-modeling\">Optimization Programming Language (OPL)</a>,\n",
    "* <a href=\"https://aimms.com/english/developers/resources/manuals/optimization-modeling/\">Advanced Interactive Multidimensional Modeling System (AIMMS)</a>,\n",
    "* <a href=\"https://developers.google.com/optimization/\">Google OR-Tools</a>,\n",
    "* <a href=\"http://www.pyomo.org/\">Pyomo</a>, and\n",
    "* <a href=\"http://www.pyopt.org/\">pyOpt</a>."
   ]
  },
  {
   "cell_type": "markdown",
   "metadata": {},
   "source": [
    "In addition to the ease of modelling, one of the advantages of AMLs is that you can model the problem once and then solve it with multiple solvers."
   ]
  },
  {
   "cell_type": "markdown",
   "metadata": {
    "slideshow": {
     "slide_type": "slide"
    }
   },
   "source": [
    "## Pyomo"
   ]
  },
  {
   "cell_type": "markdown",
   "metadata": {},
   "source": [
    "On this course, we use Pyomo as an example of AMLs. Pyomo is a Python-based, open-source optimization modeling language with a diverse set of optimization capabilities.\n",
    "\n",
    "Pyomo may not be a completely typical AML, because Pyomo's modeling objects are embedded within a full-featured high-level programming language providing a rich set of supporting libraries, which distinguishes Pyomo from other AMLs.\n",
    "\n",
    "Pyomo supports a wide range of problem types, including:\n",
    "* Linear programming\n",
    "* Quadratic programming\n",
    "* Nonlinear programming\n",
    "* Mixed-integer linear programming\n",
    "* Mixed-integer quadratic programming\n",
    "* Mixed-integer nonlinear programming\n",
    "* Stochastic programming\n",
    "* Generalized disjunctive programming\n",
    "* Differential algebraic equations\n",
    "* Bilevel programming\n",
    "* Mathematical programs with equilibrium constraints"
   ]
  },
  {
   "cell_type": "markdown",
   "metadata": {
    "slideshow": {
     "slide_type": "slide"
    }
   },
   "source": [
    "# Installing Pyomo\n",
    "\n",
    "The easiest way to install Pyomo is to call\n",
    "```\n",
    "pip install pyomo\n",
    "```\n",
    "when pip has been installed on your machine."
   ]
  },
  {
   "cell_type": "markdown",
   "metadata": {
    "slideshow": {
     "slide_type": "slide"
    }
   },
   "source": [
    "## Example 1, linear optimization"
   ]
  },
  {
   "cell_type": "markdown",
   "metadata": {},
   "source": [
    "Let us start with a very simple linear problem\n",
    "$$\n",
    "\\begin{align}\n",
    "\\min &\\qquad   2x_1+3x_2\\\\\n",
    "\\text{s.t. }& \\qquad 3x_1+4x_2\\geq 1\\\\\n",
    "& \\qquad x_1,x_2\\geq 0.\n",
    "\\end{align}\n",
    "$$"
   ]
  },
  {
   "cell_type": "code",
   "execution_count": 1,
   "metadata": {
    "slideshow": {
     "slide_type": "-"
    }
   },
   "outputs": [
    {
     "data": {
      "text/plain": [
       "pyomo.core.base.PyomoModel.ConcreteModel"
      ]
     },
     "execution_count": 1,
     "metadata": {},
     "output_type": "execute_result"
    }
   ],
   "source": [
    "from pyomo.environ import *\n",
    "\n",
    "\n",
    "model = ConcreteModel()\n",
    "\n",
    "model.x = Var([1,2], domain=NonNegativeReals) #Non-negative variables x[1] and x[2]\n",
    "\n",
    "model.OBJ = Objective(expr = 2*model.x[1] + 3*model.x[2]) #Objective function\n",
    "\n",
    "model.Constraint1 = Constraint(expr = 3*model.x[1] + 4*model.x[2] >= 1) #Constraint\n",
    "\n",
    "type(model)"
   ]
  },
  {
   "cell_type": "markdown",
   "metadata": {
    "slideshow": {
     "slide_type": "subslide"
    }
   },
   "source": [
    "Once we have defined the problem, we can solve it. Let us start by using glpk, which is an open source linear programming program.\n",
    "\n",
    "You need to have glpk installed on your system. For details, see https://www.gnu.org/software/glpk/#TOCdownloading. For many Linux distributions, you can install glpk from the repositories by typing\n",
    "```\n",
    "sudo yum install glpk\n",
    "```\n",
    "```\n",
    "sudo apt-get install glpk,\n",
    "```\n",
    "or whatever your distribution needs.\n"
   ]
  },
  {
   "cell_type": "code",
   "execution_count": 2,
   "metadata": {},
   "outputs": [
    {
     "name": "stdout",
     "output_type": "stream",
     "text": [
      "GLPSOL: GLPK LP/MIP Solver, v4.65\n",
      "Parameter(s) specified in the command line:\n",
      " --write C:\\Users\\jhaka\\AppData\\Local\\Temp\\tmp5mqh02cl.glpk.raw --wglp C:\\Users\\jhaka\\AppData\\Local\\Temp\\tmp877mzhdp.glpk.glp\n",
      " --cpxlp C:\\Users\\jhaka\\AppData\\Local\\Temp\\tmpkz5ustk7.pyomo.lp\n",
      "Reading problem data from 'C:\\Users\\jhaka\\AppData\\Local\\Temp\\tmpkz5ustk7.pyomo.lp'...\n",
      "2 rows, 3 columns, 3 non-zeros\n",
      "21 lines were read\n",
      "Writing problem data to 'C:\\Users\\jhaka\\AppData\\Local\\Temp\\tmp877mzhdp.glpk.glp'...\n",
      "15 lines were written\n",
      "GLPK Simplex Optimizer, v4.65\n",
      "2 rows, 3 columns, 3 non-zeros\n",
      "Preprocessing...\n",
      "1 row, 2 columns, 2 non-zeros\n",
      "Scaling...\n",
      " A: min|aij| =  3.000e+00  max|aij| =  4.000e+00  ratio =  1.333e+00\n",
      "Problem data seem to be well scaled\n",
      "Constructing initial basis...\n",
      "Size of triangular part is 1\n",
      "      0: obj =   0.000000000e+00 inf =   1.000e+00 (1)\n",
      "      1: obj =   7.500000000e-01 inf =   0.000e+00 (0)\n",
      "*     2: obj =   6.666666667e-01 inf =   0.000e+00 (0)\n",
      "OPTIMAL LP SOLUTION FOUND\n",
      "Time used:   0.0 secs\n",
      "Memory used: 0.0 Mb (40400 bytes)\n",
      "Writing basic solution to 'C:\\Users\\jhaka\\AppData\\Local\\Temp\\tmp5mqh02cl.glpk.raw'...\n",
      "14 lines were written\n",
      "Solution:\n",
      "=========\n",
      "x : Size=2, Index=x_index\n",
      "    Key : Lower : Value             : Upper : Fixed : Stale : Domain\n",
      "      1 :     0 : 0.333333333333333 :  None : False : False : NonNegativeReals\n",
      "      2 :     0 :               0.0 :  None : False : False : NonNegativeReals\n"
     ]
    }
   ],
   "source": [
    "from pyomo.opt import SolverFactory #Import interfaces to solvers\n",
    "opt = SolverFactory(\"glpk\") #Use glpk\n",
    "res = opt.solve(model, tee=True) #Solve the  problem and print the output\n",
    "print(\"Solution:\")\n",
    "print(\"=========\")\n",
    "model.x.display() #Print values of x"
   ]
  },
  {
   "cell_type": "markdown",
   "metadata": {
    "slideshow": {
     "slide_type": "subslide"
    }
   },
   "source": [
    "Now, if you have other linear solvers installed on your system, you can use them too. Let us use <a href=\"https://www.ibm.com/products/ilog-cplex-optimization-studio\">Cplex</a>, which is a commercial solver (academic license available)."
   ]
  },
  {
   "cell_type": "code",
   "execution_count": 3,
   "metadata": {
    "scrolled": true,
    "slideshow": {
     "slide_type": "-"
    }
   },
   "outputs": [
    {
     "name": "stdout",
     "output_type": "stream",
     "text": [
      "\n",
      "Welcome to IBM(R) ILOG(R) CPLEX(R) Interactive Optimizer Community Edition 12.9.0.0\n",
      "  with Simplex, Mixed Integer & Barrier Optimizers\n",
      "5725-A06 5725-A29 5724-Y48 5724-Y49 5724-Y54 5724-Y55 5655-Y21\n",
      "Copyright IBM Corp. 1988, 2019.  All Rights Reserved.\n",
      "\n",
      "Type 'help' for a list of available commands.\n",
      "Type 'help' followed by a command name for more\n",
      "information on commands.\n",
      "\n",
      "CPLEX> Logfile 'cplex.log' closed.\n",
      "Logfile 'C:\\Users\\jhaka\\AppData\\Local\\Temp\\tmpq9wq4yfv.cplex.log' open.\n",
      "CPLEX> Problem 'C:\\Users\\jhaka\\AppData\\Local\\Temp\\tmpmx2_mh5o.pyomo.lp' read.\n",
      "Read time = 0.02 sec. (0.00 ticks)\n",
      "CPLEX> Problem name         : C:\\Users\\jhaka\\AppData\\Local\\Temp\\tmpmx2_mh5o.pyomo.lp\n",
      "Objective sense      : Minimize\n",
      "Variables            :       3\n",
      "Objective nonzeros   :       2\n",
      "Linear constraints   :       2  [Greater: 1,  Equal: 1]\n",
      "  Nonzeros           :       3\n",
      "  RHS nonzeros       :       2\n",
      "\n",
      "Variables            : Min LB: 0.0000000        Max UB: all infinite   \n",
      "Objective nonzeros   : Min   : 2.000000         Max   : 3.000000       \n",
      "Linear constraints   :\n",
      "  Nonzeros           : Min   : 1.000000         Max   : 4.000000       \n",
      "  RHS nonzeros       : Min   : 1.000000         Max   : 1.000000       \n",
      "CPLEX> Tried aggregator 1 time.\n",
      "LP Presolve eliminated 2 rows and 3 columns.\n",
      "All rows and columns eliminated.\n",
      "Presolve time = 0.00 sec. (0.00 ticks)\n",
      "\n",
      "Dual simplex - Optimal:  Objective =  6.6666666667e-01\n",
      "Solution time =    0.02 sec.  Iterations = 0 (0)\n",
      "Deterministic time = 0.00 ticks  (0.11 ticks/sec)\n",
      "\n",
      "CPLEX> Solution written to file 'C:\\Users\\jhaka\\AppData\\Local\\Temp\\tmpagp3p9ff.cplex.sol'.\n",
      "CPLEX> Solution:\n",
      "x : Size=2, Index=x_index\n",
      "    Key : Lower : Value              : Upper : Fixed : Stale : Domain\n",
      "      1 :     0 : 0.3333333333333333 :  None : False : False : NonNegativeReals\n",
      "      2 :     0 :                0.0 :  None : False : False : NonNegativeReals\n"
     ]
    }
   ],
   "source": [
    "opt = SolverFactory(\"cplex\")\n",
    "res = opt.solve(model, tee=True)\n",
    "print(\"Solution:\")\n",
    "model.x.display()"
   ]
  },
  {
   "cell_type": "markdown",
   "metadata": {
    "slideshow": {
     "slide_type": "subslide"
    }
   },
   "source": [
    "We can use also <a href=\"http://www.gurobi.com/\">gurobi</a>, which is another commercial solver with academic license."
   ]
  },
  {
   "cell_type": "code",
   "execution_count": 5,
   "metadata": {
    "scrolled": true
   },
   "outputs": [
    {
     "name": "stdout",
     "output_type": "stream",
     "text": [
      "Using license file c:\\MyTemp\\local\\opt\\gurobi901\\gurobi.lic\n",
      "Academic license - for non-commercial use only\n",
      "Read LP format model from file C:\\Users\\jhaka\\AppData\\Local\\Temp\\tmp443k01ep.pyomo.lp\n",
      "Reading time = 0.00 seconds\n",
      "x3: 2 rows, 3 columns, 3 nonzeros\n",
      "Gurobi Optimizer version 9.0.1 build v9.0.1rc0 (win64)\n",
      "Optimize a model with 2 rows, 3 columns and 3 nonzeros\n",
      "Model fingerprint: 0x6bb7e864\n",
      "Coefficient statistics:\n",
      "  Matrix range     [1e+00, 4e+00]\n",
      "  Objective range  [2e+00, 3e+00]\n",
      "  Bounds range     [0e+00, 0e+00]\n",
      "  RHS range        [1e+00, 1e+00]\n",
      "Presolve removed 2 rows and 3 columns\n",
      "Presolve time: 0.00s\n",
      "Presolve: All rows and columns removed\n",
      "Iteration    Objective       Primal Inf.    Dual Inf.      Time\n",
      "       0    6.6666667e-01   0.000000e+00   0.000000e+00      0s\n",
      "\n",
      "Solved in 0 iterations and 0.00 seconds\n",
      "Optimal objective  6.666666667e-01\n",
      "Solution:\n",
      "x : Size=2, Index=x_index\n",
      "    Key : Lower : Value              : Upper : Fixed : Stale : Domain\n",
      "      1 :     0 : 0.3333333333333333 :  None : False : False : NonNegativeReals\n",
      "      2 :     0 :                0.0 :  None : False : False : NonNegativeReals\n"
     ]
    }
   ],
   "source": [
    "opt = SolverFactory(\"gurobi\")\n",
    "res = opt.solve(model, tee=True)\n",
    "print(\"Solution:\")\n",
    "model.x.display()"
   ]
  },
  {
   "cell_type": "markdown",
   "metadata": {
    "slideshow": {
     "slide_type": "slide"
    }
   },
   "source": [
    "## Example 2, nonlinear optimization"
   ]
  },
  {
   "cell_type": "markdown",
   "metadata": {},
   "source": [
    "Let use define optimization problem\n",
    "$$\n",
    "\\begin{align}\n",
    "\\max &\\qquad c_b\\\\\n",
    "\\text{s.t. }& \\qquad c_{af}s_v - s_vc_a-k_1c_a=0\\\\\n",
    "&\\qquad s_vc_b+k_1c_a-k_2c_b-2k_3c_a^2=0\\\\\n",
    "&\\qquad s_vc_c+k_2c_b=0\\\\\n",
    "&\\qquad s_vc_d+k_3c_a^2=0,\\\\\n",
    "&\\qquad s_v,c_a,c_b,c_c,c_d\\geq0\n",
    "\\end{align}\n",
    "$$\n",
    "where $k_1=5/6$, $k_2=5/3$, $k_3=1/6000$, and $c_{af}=10000$."
   ]
  },
  {
   "cell_type": "code",
   "execution_count": 6,
   "metadata": {},
   "outputs": [],
   "source": [
    "from pyomo.environ import *\n",
    "# create the concrete model\n",
    "model = ConcreteModel()\n",
    "# set the data \n",
    "k1 = 5.0/6.0 \n",
    "k2 = 5.0/3.0 \n",
    "k3 = 1.0/6000.0 \n",
    "caf = 10000.0 \n",
    "# create the variables\n",
    "model.sv = Var(initialize = 1.0, within=PositiveReals)\n",
    "model.ca = Var(initialize = 5000.0, within=PositiveReals)\n",
    "model.cb = Var(initialize = 2000.0, within=PositiveReals)\n",
    "model.cc = Var(initialize = 2000.0, within=PositiveReals)\n",
    "model.cd = Var(initialize = 1000.0, within=PositiveReals)\n",
    "\n",
    "# create the objective\n",
    "model.obj = Objective(expr = model.cb, sense=maximize)\n",
    "# create the constraints\n",
    "model.ca_bal = Constraint(expr = (0 == model.sv * caf \\\n",
    "    - model.sv * model.ca - k1 * model.ca \\\n",
    "    - 2.0 * k3 * model.ca ** 2.0))\n",
    "model.cb_bal = Constraint(expr=(0 == -model.sv * model.cb \\\n",
    "    + k1 * model.ca - k2 * model.cb))\n",
    "model.cc_bal = Constraint(expr=(0 == -model.sv * model.cc \\\n",
    "    + k2 * model.cb))\n",
    "model.cd_bal = Constraint(expr=(0 == -model.sv * model.cd \\\n",
    "    + k3 * model.ca ** 2.0))"
   ]
  },
  {
   "cell_type": "markdown",
   "metadata": {
    "slideshow": {
     "slide_type": "subslide"
    }
   },
   "source": [
    "## Solving with Baron\n",
    "Install Baron following https://www.minlp.com/baron-downloads. *Note that Baron does not have a free academic license but only a free demo license that has limitations to the problem size that can be solved.*"
   ]
  },
  {
   "cell_type": "code",
   "execution_count": 7,
   "metadata": {},
   "outputs": [
    {
     "name": "stdout",
     "output_type": "stream",
     "text": [
      "===========================================================================\n",
      " BARON version 19.12.7. Built: WIN-64 Sat Dec 7 15:08:51 EST 2019 \n",
      "\n",
      " BARON is a product of The Optimization Firm.\n",
      " For information on BARON, see https://minlp.com/about-baron\n",
      " No BARON license file found in user PATH.  Continuing in demo mode.\n",
      " Model size is allowable within BARON demo size.\n",
      "\n",
      " If you use this software, please cite publications from\n",
      " https://minlp.com/baron-publications, such as: \n",
      "\n",
      " Khajavirad, A. and N. V. Sahinidis,\n",
      " A hybrid LP/NLP paradigm for global optimization relaxations,\n",
      " Mathematical Programming Computation, 10, 383-421, 2018.\n",
      "===========================================================================\n",
      " This BARON run may utilize the following subsolver(s)\n",
      " For LP/MIP/QP: ILOG CPLEX                                      \n",
      " For NLP: IPOPT, FILTERSD, FILTERSQP\n",
      "===========================================================================\n",
      " Doing local search\n",
      " Unable to find/load CPLEX library cplex12100.dll.\n",
      " Using CPLEX library cplex1290.dll.\n",
      " Preprocessing found feasible solution with value  1072.43720013     \n",
      " Solving bounding LP\n",
      " Starting multi-start local search\n",
      " Done with local search\n",
      "===========================================================================\n",
      "  Iteration    Open nodes         Time (s)    Lower bound      Upper bound\n",
      "===========================================================================\n",
      " User did not provide appropriate variable bounds. \n",
      " Some model expressions are unbounded.             \n",
      " We may not be able to guarantee globality.        \n",
      " Number of missing variable or expression bounds =      5\n",
      " Number of variable or expression bounds autoset =      5\n",
      "===========================================================================\n",
      "          1             1             0.03     1072.44          1702.18    \n",
      "        159             0             0.22     1072.44          1072.44    \n",
      "\n",
      " Cleaning up\n",
      "\n",
      "                         *** Normal completion ***            \n",
      "\n",
      " Wall clock time:                     0.35\n",
      " Total CPU time used:                 0.22\n",
      "\n",
      " Total no. of BaR iterations:     159\n",
      " Best solution found at node:      -1\n",
      " Max. no. of nodes in memory:       5\n",
      " \n",
      " All done\n",
      "===========================================================================\n",
      "Solution is \n",
      "[1.3438117605985365, 3874.2588666784955, 1072.4372001335178, 1330.0935338790075, 1861.605199763074]\n"
     ]
    }
   ],
   "source": [
    "opt = SolverFactory(\"baron\",solver_io=\"nl\")\n",
    "\n",
    "opt.solve(model,tee=True)\n",
    "\n",
    "print(\"Solution is \")\n",
    "sol_b = [model.sv.value,model.ca.value,model.cb.value,model.cc.value,model.cd.value]\n",
    "print(sol_b)"
   ]
  },
  {
   "cell_type": "markdown",
   "metadata": {
    "slideshow": {
     "slide_type": "subslide"
    }
   },
   "source": [
    "## Solving with <a href=\"https://github.com/coin-or/Ipopt\">Ipopt</a>\n",
    "\n",
    "Install IPopt following https://coin-or.github.io/Ipopt/INSTALL.html."
   ]
  },
  {
   "cell_type": "code",
   "execution_count": 8,
   "metadata": {},
   "outputs": [
    {
     "name": "stdout",
     "output_type": "stream",
     "text": [
      "Ipopt 3.13.1: \n",
      "\n",
      "******************************************************************************\n",
      "This program contains Ipopt, a library for large-scale nonlinear optimization.\n",
      " Ipopt is released as open source code under the Eclipse Public License (EPL).\n",
      "         For more information visit http://projects.coin-or.org/Ipopt\n",
      "******************************************************************************\n",
      "\n",
      "This is Ipopt version 3.13.1, running with linear solver ma27.\n",
      "\n",
      "Number of nonzeros in equality constraint Jacobian...:       11\n",
      "Number of nonzeros in inequality constraint Jacobian.:        0\n",
      "Number of nonzeros in Lagrangian Hessian.............:        5\n",
      "\n",
      "Total number of variables............................:        5\n",
      "                     variables with only lower bounds:        5\n",
      "                variables with lower and upper bounds:        0\n",
      "                     variables with only upper bounds:        0\n",
      "Total number of equality constraints.................:        4\n",
      "Total number of inequality constraints...............:        0\n",
      "        inequality constraints with only lower bounds:        0\n",
      "   inequality constraints with lower and upper bounds:        0\n",
      "        inequality constraints with only upper bounds:        0\n",
      "\n",
      "iter    objective    inf_pr   inf_du lg(mu)  ||d||  lg(rg) alpha_du alpha_pr  ls\n",
      "   0 -1.0724372e+03 2.38e-07 7.24e-02  -1.0 0.00e+00    -  0.00e+00 0.00e+00   0\n",
      "   1 -1.0724372e+03 8.64e-07 1.00e-02  -1.0 2.79e-02    -  9.90e-01 1.00e+00h  1\n",
      "   2 -1.0724372e+03 1.51e-05 7.57e-05  -1.0 1.17e-01    -  9.93e-01 1.00e+00h  1\n",
      "   3 -1.0724372e+03 1.45e-05 2.54e-06  -1.7 1.14e-01    -  1.00e+00 1.00e+00h  1\n",
      "   4 -1.0724372e+03 1.00e-06 1.53e-07  -3.8 3.00e-02    -  1.00e+00 1.00e+00h  1\n",
      "   5 -1.0724372e+03 5.68e-11 2.70e-11  -5.7 2.26e-04    -  1.00e+00 1.00e+00h  1\n",
      "   6 -1.0724372e+03 4.55e-13 3.56e-14  -8.6 2.78e-06    -  1.00e+00 1.00e+00h  1\n",
      "\n",
      "Number of Iterations....: 6\n",
      "\n",
      "                                   (scaled)                 (unscaled)\n",
      "Objective...............:  -1.0724372001086317e+03   -1.0724372001086317e+03\n",
      "Dual infeasibility......:   3.5606113780183434e-14    3.5606113780183434e-14\n",
      "Constraint violation....:   4.2403168300190288e-14    4.5474735088646412e-13\n",
      "Complementarity.........:   2.5059065225793033e-09    2.5059065225793033e-09\n",
      "Overall NLP error.......:   2.5059065225793033e-09    2.5059065225793033e-09\n",
      "\n",
      "\n",
      "Number of objective function evaluations             = 7\n",
      "Number of objective gradient evaluations             = 7\n",
      "Number of equality constraint evaluations            = 7\n",
      "Number of inequality constraint evaluations          = 0\n",
      "Number of equality constraint Jacobian evaluations   = 7\n",
      "Number of inequality constraint Jacobian evaluations = 0\n",
      "Number of Lagrangian Hessian evaluations             = 6\n",
      "Total CPU secs in IPOPT (w/o function evaluations)   =      0.000\n",
      "Total CPU secs in NLP function evaluations           =      0.000\n",
      "\n",
      "EXIT: Optimal Solution Found.\n",
      "Solution is \n",
      "[1.34381176106728, 3874.25886723171, 1072.43720010863, 1330.09353340888, 1861.60519962539]\n"
     ]
    }
   ],
   "source": [
    "opt = SolverFactory(\"ipopt\",solver_io=\"nl\")\n",
    "\n",
    "opt.solve(model,tee=True)\n",
    "\n",
    "print(\"Solution is \")\n",
    "sol_i = [model.sv.value,model.ca.value,model.cb.value,model.cc.value,model.cd.value]\n",
    "print(sol_i)"
   ]
  },
  {
   "cell_type": "code",
   "execution_count": 9,
   "metadata": {},
   "outputs": [
    {
     "name": "stdout",
     "output_type": "stream",
     "text": [
      "[1.3438117605985365, 3874.2588666784955, 1072.4372001335178, 1330.0935338790075, 1861.605199763074]\n",
      "[1.34381176106728, 3874.25886723171, 1072.43720010863, 1330.09353340888, 1861.60519962539]\n"
     ]
    }
   ],
   "source": [
    "print(sol_b)\n",
    "print(sol_i)"
   ]
  },
  {
   "cell_type": "markdown",
   "metadata": {
    "slideshow": {
     "slide_type": "slide"
    }
   },
   "source": [
    "# Black-box optimization using scipy.optimize"
   ]
  },
  {
   "cell_type": "markdown",
   "metadata": {},
   "source": [
    "Often cases, you do not have algebraic formulations of the objective functions, but instead, you have an executable, which gives you the values and you do not know what is happening inside there."
   ]
  },
  {
   "cell_type": "markdown",
   "metadata": {
    "slideshow": {
     "slide_type": "slide"
    }
   },
   "source": [
    "### Example"
   ]
  },
  {
   "cell_type": "markdown",
   "metadata": {},
   "source": [
    "Executable 'prob4' (which you need to compile before using) includes a script for two variable problem with three inequality constraints (where two of them involve only one variable). The problem is of the form\n",
    "$$\n",
    "\\min \\  f(x)\n",
    "\\\\ \\text{s.t. }g(x) \\leq 2\n",
    "\\\\          x\\geq 0.\n",
    "$$\n",
    "The executable reads in a file 'input.txt', which contains variable values of $x_1$ and $x_2$ on top of each other and outputs a file \"output.txt\", which contains on top of each other value of f, value of g, gradient of f and gradient of the contraints.\n",
    "\n",
    "Let us solve this problem using *scipy.optimize*\n"
   ]
  },
  {
   "cell_type": "code",
   "execution_count": null,
   "metadata": {},
   "outputs": [],
   "source": [
    "import csv\n",
    "def evaluate_prob4(x):\n",
    "    with open('input.txt','w') as f:\n",
    "        f.write('%f\\n%f'%(x[0],x[1])) #Write x[0] and x[1] to the input.txt file    \n",
    "    !.\\prob4 #Execute prob4\n",
    "    val = []\n",
    "    with open('output.txt','r') as f: \n",
    "        valuereader = csv.reader(f)\n",
    "        for row in valuereader:\n",
    "            val.extend([float(i) for i in row])\n",
    "    f_val = val[0]\n",
    "    g_val = [0]*3\n",
    "    g_val[0] = 2-val[1]\n",
    "    g_val[1]=val[2]\n",
    "    g_val[2]=val[3]\n",
    "    grad_f=[val[4],val[5]]\n",
    "    grad_g = [[0,0],[0,0],[0,0]]\n",
    "    grad_g[0] = [-val[6],-val[7]]\n",
    "    grad_g[1] = [val[8],val[9]]\n",
    "    grad_g[2] = [val[10],val[11]]\n",
    "    return f_val,g_val,grad_f,grad_g\n",
    "        "
   ]
  },
  {
   "cell_type": "code",
   "execution_count": null,
   "metadata": {
    "scrolled": true
   },
   "outputs": [],
   "source": [
    "# test the connection\n",
    "import math\n",
    "print(evaluate_prob4([2.,0.]))\n",
    "print(evaluate_prob4([3.,1.]))"
   ]
  },
  {
   "cell_type": "code",
   "execution_count": null,
   "metadata": {},
   "outputs": [],
   "source": [
    "from scipy.optimize import minimize\n",
    "\n",
    "# Formulate constraints for the minimize subroutine. Include also the gradients of the constraint\n",
    "constraint_tuple=(\n",
    "    {'type':'ineq','fun':lambda x:evaluate_prob4(x)[1][0],\\\n",
    "     'jac':lambda x:evaluate_prob4(x)[3][0]},\n",
    "    {'type':'ineq','fun':lambda x:evaluate_prob4(x)[1][1],\\\n",
    "     'jac':lambda x:evaluate_prob4(x)[3][1]},\n",
    "    {'type':'ineq','fun':lambda x:evaluate_prob4(x)[1][2],\\\n",
    "     'jac':lambda x:evaluate_prob4(x)[3][2]}\n",
    ")"
   ]
  },
  {
   "cell_type": "code",
   "execution_count": null,
   "metadata": {},
   "outputs": [],
   "source": [
    "res = minimize(lambda x: evaluate_prob4(x)[0], [0,0], method='SLSQP'\n",
    "                        , jac=lambda x: evaluate_prob4(x)[2], \n",
    "         constraints = constraint_tuple,options = {'disp':True})"
   ]
  },
  {
   "cell_type": "code",
   "execution_count": null,
   "metadata": {},
   "outputs": [],
   "source": [
    "print(res.x)\n",
    "print(evaluate_prob4(res.x))"
   ]
  },
  {
   "cell_type": "markdown",
   "metadata": {
    "slideshow": {
     "slide_type": "slide"
    }
   },
   "source": [
    "# Example 3, Nonlinear multiobjective optimization"
   ]
  },
  {
   "cell_type": "markdown",
   "metadata": {},
   "source": [
    "Let us study optimization problem related to a navigation\n",
    "\n",
    "$$\n",
    "\\begin{align}\n",
    "\\min \\ & \\left(\\sum_{i=1}^{48}\\frac{\\sqrt{1+x_i^2}}{v_i},\\sum_{i=1}^{48}\\left(\\left(\\frac{x_iv_i}{\\sqrt{1+x_i^2}}+v_w\\right)^2+\\frac{v_i^2}{1+x_i^2}\\right)\\right., \\\\\n",
    "&\\qquad\\left.\\sum_{i=1}^{47}\\big|x_{i+1}-x_i\\big|\\right)\\\\\n",
    "\\text{s.t. } & \\sum_{i=1}^{j}x_i\\leq -1\\text{ for all }j=10,11,12,13,14\\\\\n",
    "& \\left|\\sum_{i=1}^{j}x_i\\right|\\geq 2\\text{ for all }j=20,21,22,23,24\\\\\n",
    "& \\sum_{i=1}^{j}x_i\\geq 1\\text{ for all }j=30,31,32,33,34\\\\\n",
    "&\\sum_{i=1}^{48}\\frac{\\sqrt{1+x_i^2}}{v_i} \\leq 5\\\\\n",
    "&\\sum_{i=1}^{48}x_i=0\\\\\n",
    "&-10\\leq\\sum_{i=1}^{j}x_i\\leq10\\text{ for all }j=1,\\ldots,48\n",
    "&0\\leq v_i\\leq 25\\text{ for all }i=1,\\ldots,48\\\\\n",
    "&-10\\leq x_i\\leq 10\\text{ for all }i=1,\\ldots,48\\\\\n",
    "\\end{align}\n",
    "$$"
   ]
  },
  {
   "cell_type": "code",
   "execution_count": null,
   "metadata": {
    "slideshow": {
     "slide_type": "subslide"
    }
   },
   "outputs": [],
   "source": [
    "# Illustration of the problem\n",
    "import matplotlib.pyplot as plt\n",
    "from matplotlib.patches import Rectangle\n",
    "def show_problem():\n",
    "    path = [0 for i in range(6)] +  [-2 for i in range(5,17)] + [-5 for i in range(16,27)] \\\n",
    "        + [3 for i in range(26,42)] + [0 for i in range(41,49)]\n",
    "    plt.plot(path,'r')\n",
    "    currentAxis = plt.gca()\n",
    "    plt.ylim(-10,10) \n",
    "    currentAxis.add_patch(Rectangle((10, -1),4,11))\n",
    "    currentAxis.add_patch(Rectangle((20, -2),4,4))\n",
    "    currentAxis.add_patch(Rectangle((30, -10),4,11))\n",
    "    return plt"
   ]
  },
  {
   "cell_type": "code",
   "execution_count": null,
   "metadata": {},
   "outputs": [],
   "source": [
    "# \"Go from point (0,0) to (50,0) avoiding the blue obstacles\"\n",
    "# Red path denotes a feasible solution\n",
    "show_problem().show()"
   ]
  },
  {
   "cell_type": "code",
   "execution_count": null,
   "metadata": {
    "slideshow": {
     "slide_type": "subslide"
    }
   },
   "outputs": [],
   "source": [
    "\n",
    "from pyomo.environ import *\n",
    "# create the concrete model9\n",
    "# utilize achievement scalarizing function in computing a PO solution for a given reference point \n",
    "def solve_ach(reference,lb,ub):\n",
    "    model = ConcreteModel()\n",
    "\n",
    "    vwind = 5.0\n",
    "    min_speed = 0.01\n",
    "\n",
    "\n",
    "    #f1, time used\n",
    "    def f1(model):\n",
    "        return sum([sqrt(1+model.y[i]**2)/model.v[i] for i in range(48)])\n",
    "    #f2, wind drag, directly proportional to square of speed wrt. wind\n",
    "    def f2(model):\n",
    "        return sum([((model.y[i]*model.v[i])/sqrt(1+model.y[i]**2)+vwind)**2/\n",
    "                    +model.v[i]**2*((1+model.y[i])**2) for i in range(48)])\n",
    "    #f3, maximal course changes\n",
    "    def f3(model):\n",
    "        return sum([abs(model.y[i+1]-model.y[i]) for i in range(47)])\n",
    "\n",
    "    def h1_rule(model,i): # first obstacle\n",
    "        return sum(model.y[j] for j in range(i))<=-1\n",
    "    def h2_rule(model,i): # second obstacle\n",
    "        return abs(sum(model.y[j] for j in range(i)))>=2\n",
    "    def h3_rule(model,i): # third obstacle\n",
    "        return sum(model.y[j] for j in range(i))>=1\n",
    "    def h4_rule(model):\n",
    "        return sum([sqrt(1+model.y[i]**2)/model.v[i] for i in range(48)])<=25\n",
    "    def h5_rule(model):\n",
    "        return sum(model.y[i] for i in range(48))==0\n",
    "\n",
    "    def f_rule(model):\n",
    "        return t\n",
    "\n",
    "    def y_init(model,i):\n",
    "        if i==0:\n",
    "            return -1\n",
    "        if i==18:\n",
    "            return -1\n",
    "        if i==24:\n",
    "            return 1\n",
    "        if i==25:\n",
    "            return 1\n",
    "        if i==26:\n",
    "            return 1\n",
    "        if i==34:\n",
    "            return -1\n",
    "        return 0\n",
    "    model.y = Var(range(48),bounds = (-10,10),initialize=y_init)\n",
    "    model.v = Var(range(48),domain=NonNegativeReals,bounds=(min_speed,25),initialize=25)\n",
    "    model.t = Var()\n",
    "    model.h1=Constraint(range(9,14),rule=h1_rule) # first obstacle\n",
    "    model.h2=Constraint(range(19,24),rule=h2_rule) # second obstacle\n",
    "    model.h3=Constraint(range(29,34),rule=h3_rule) # third obstacle\n",
    "    model.h4=Constraint(rule=h4_rule)\n",
    "    model.h5=Constraint(rule=h5_rule)\n",
    "    \n",
    "    def h6_rule(model,i):\n",
    "        return pyomo.environ.inequality(-10, sum([model.y[j] for j in range(i)]),10)\n",
    "        #return -10<=sum([model.y[j] for j in range(i)])<=10 # gives warning about chained inequalities\n",
    "    \n",
    "    model.h6 = Constraint(range(1,48),rule=h6_rule)\n",
    "    def t_con_f1_rule(model):\n",
    "        return model.t>=(f1(model)-reference[0]-lb[0])/(ub[0]-lb[0]) # correnponds to first term in max\n",
    "    model.t_con_f1 = Constraint(rule = t_con_f1_rule)\n",
    "    def t_con_f2_rule(model):\n",
    "        return model.t>=(f2(model)-reference[1]-lb[1])/(ub[1]-lb[1]) # correnponds to second term in max\n",
    "    model.t_con_f2 = Constraint(rule = t_con_f2_rule)\n",
    "    def t_con_f3_rule(model):\n",
    "        return model.t>=(f3(model)-reference[2]-lb[2])/(ub[2]-lb[2]) # correnponds to third term in max\n",
    "    model.t_con_f3 = Constraint(rule = t_con_f3_rule)\n",
    "    model.f = Objective(expr = model.t+1e-10*(f1(model)+f2(model)+f3(model))) # t + augmentation term\n",
    "    tee =True\n",
    "    opt = SolverFactory(\"ipopt\",solver_io=\"nl\")\n",
    "    opt.options.max_iter=10000\n",
    "#    opt.options.constr_viol_tol=0.01\n",
    "    #opt.options.halt_on_ampl_error = \"yes\"\n",
    "\n",
    "    opt.solve(model,tee=tee)\n",
    "    return [[value(f1(model)),value(f2(model)),value(f3(model))],[model.y,model.v]]\n"
   ]
  },
  {
   "cell_type": "code",
   "execution_count": null,
   "metadata": {
    "slideshow": {
     "slide_type": "subslide"
    }
   },
   "outputs": [],
   "source": [
    "# Compute ideal and nadir points\n",
    "lb_ = [0,0,0]\n",
    "ub_ = [1,1,1]\n",
    "values =[]\n",
    "for i in range(3):\n",
    "    reference = [1e10,1e10,1e10]\n",
    "    reference[i]=0\n",
    "    # use a reference point where f_i is the only one that we are interested in\n",
    "    values.append(solve_ach(reference,lb_,ub_)[0])\n",
    "print(values)"
   ]
  },
  {
   "cell_type": "code",
   "execution_count": null,
   "metadata": {},
   "outputs": [],
   "source": [
    "#Use a payoff table to compute ideal and nadir \n",
    "lb = [0,0,0]\n",
    "ub = [1,1,1]\n",
    "# Compute ideal and nadir\n",
    "for i in range(3):\n",
    "    lb[i] = min([values[j][i] for j in range(3)])\n",
    "    ub[i] = max([values[j][i] for j in range(3)])\n",
    "print(lb) # ideal\n",
    "print(ub) # nadir"
   ]
  },
  {
   "cell_type": "code",
   "execution_count": null,
   "metadata": {},
   "outputs": [],
   "source": [
    "# use solve_ach to compute different Pareto optimal solutions based on a given reference point\n",
    "[f,x] = solve_ach([(a+b)/2 for (a,b) in zip(lb,ub)],lb,ub) #Compromise solution"
   ]
  },
  {
   "cell_type": "code",
   "execution_count": null,
   "metadata": {},
   "outputs": [],
   "source": [
    "print(f)"
   ]
  },
  {
   "cell_type": "code",
   "execution_count": null,
   "metadata": {},
   "outputs": [],
   "source": [
    "# PLot solutions \n",
    "import matplotlib.pyplot as plt\n",
    "from matplotlib.patches import Rectangle\n",
    "def visualize(x):\n",
    "    plt.plot([sum(value(x[0][j]) for j in range(i)) for i in range(49)],'r')\n",
    "    currentAxis = plt.gca()\n",
    "    currentAxis.add_patch(Rectangle((10, -1),4,11))\n",
    "    currentAxis.add_patch(Rectangle((20, -2),4,4))\n",
    "    currentAxis.add_patch(Rectangle((30, -10),4,11))\n",
    "    plt.ylim((-10,10)) \n",
    "    return plt"
   ]
  },
  {
   "cell_type": "code",
   "execution_count": null,
   "metadata": {},
   "outputs": [],
   "source": [
    "visualize(x).show()"
   ]
  },
  {
   "cell_type": "code",
   "execution_count": null,
   "metadata": {},
   "outputs": [],
   "source": [
    "[f1,x] = solve_ach([0,1e10,1e10],lb,ub) #Minimize the first objective (time)"
   ]
  },
  {
   "cell_type": "code",
   "execution_count": null,
   "metadata": {},
   "outputs": [],
   "source": [
    "print(f1)"
   ]
  },
  {
   "cell_type": "code",
   "execution_count": null,
   "metadata": {},
   "outputs": [],
   "source": [
    "visualize(x).show()"
   ]
  },
  {
   "cell_type": "code",
   "execution_count": null,
   "metadata": {},
   "outputs": [],
   "source": [
    "[f2,x] = solve_ach([1e10,0,1e10],lb,ub) #Minimize the second objective (wind drag)"
   ]
  },
  {
   "cell_type": "code",
   "execution_count": null,
   "metadata": {},
   "outputs": [],
   "source": [
    "visualize(x).show()"
   ]
  },
  {
   "cell_type": "code",
   "execution_count": null,
   "metadata": {},
   "outputs": [],
   "source": [
    "[f3,x] = solve_ach([1e10,1e10,0],lb,ub) #Minimize the third objective (maximal course changes)"
   ]
  },
  {
   "cell_type": "code",
   "execution_count": null,
   "metadata": {},
   "outputs": [],
   "source": [
    "visualize(x).show()"
   ]
  },
  {
   "cell_type": "code",
   "execution_count": null,
   "metadata": {},
   "outputs": [],
   "source": [
    "print(f1)\n",
    "print(f2)\n",
    "print(f3)"
   ]
  },
  {
   "cell_type": "code",
   "execution_count": null,
   "metadata": {},
   "outputs": [],
   "source": [
    "# Print payoff table\n",
    "print(\"Payoff table\")\n",
    "for i in range(3):\n",
    "    print([values[j][i] for j in range(3)])"
   ]
  },
  {
   "cell_type": "markdown",
   "metadata": {},
   "source": [
    "**What is happening here?**\n",
    "* The third objective (maximal course changes) is not differentiable due to absolute values\n",
    "  * *Can not be optimized with a solver that uses gradient information!*\n",
    "* The first and second objective (time and wind drag) do not seem to be in conflict\n",
    "  * Optimizing one optimizes also the other one"
   ]
  }
 ],
 "metadata": {
  "anaconda-cloud": {},
  "celltoolbar": "Slideshow",
  "kernelspec": {
   "display_name": "Python 3",
   "language": "python",
   "name": "python3"
  },
  "language_info": {
   "codemirror_mode": {
    "name": "ipython",
    "version": 3
   },
   "file_extension": ".py",
   "mimetype": "text/x-python",
   "name": "python",
   "nbconvert_exporter": "python",
   "pygments_lexer": "ipython3",
   "version": "3.7.0"
  }
 },
 "nbformat": 4,
 "nbformat_minor": 1
}
