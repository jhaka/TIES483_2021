{
 "cells": [
  {
   "cell_type": "code",
   "execution_count": null,
   "metadata": {},
   "outputs": [],
   "source": [
    "from IPython.core.display import HTML\n",
    "HTML(\"<style>.container { width:95% !important; }</style>\")"
   ]
  },
  {
   "cell_type": "markdown",
   "metadata": {
    "slideshow": {
     "slide_type": "slide"
    }
   },
   "source": [
    "# Lecture 12, Methods for multiobjective optimization 2"
   ]
  },
  {
   "cell_type": "markdown",
   "metadata": {
    "slideshow": {
     "slide_type": "slide"
    }
   },
   "source": [
    "##  Our example problem for this lecture\n",
    "\n",
    "We study a hypothetical decision problem of buying a car, when you can choose to have a car with power between (denoted by $p$) 50 and 200 kW and average consumption (denoted by $c$) per 100 km between 3 and 10 l. However, in addition to the average consumption and power, you need to decide the volume of the cylinders (v), which may be between 1000 $cm^3$ and 4000 $cm^3$. Finally, the price of the car follows now a function \n",
    "\n",
    "$$\n",
    "\\left(\\sqrt{\\frac{p-50}{50}}\\\\\n",
    "+\\left(\\frac{p-50}{50}\\right)^2+0.3(10-c)\\\\ +10^{-5}\\left(v-\\left(1000+3000\\frac{p-50}{150}\\right)\\right)^2\\right)10000\\\\+5000\n",
    "$$\n",
    "\n",
    "in euros. This problem can be formulated as a multiobjective optimization problem\n",
    "\n",
    "$$\n",
    "\\begin{align}\n",
    "\\min \\quad & \\{c,-p,P\\},\\\\\n",
    "\\text{s.t. }\\quad\n",
    "&50\\leq p\\leq 200\\\\\n",
    "&3\\leq c\\leq 10\\\\\n",
    "&1000\\leq v\\leq 4000,\\\\\n",
    "\\text{where }\\quad&P = \\left(\\sqrt{\\frac{p-50}{50}}+\\left(\\frac{p-50}{50}\\right)^2+0.3(10-c)\\right.\\\\\n",
    "& \\left.+ 10^{-5}\\left(v-\\left(1000+3000\\frac{p-50}{150}\\right)\\right)^2\\right)10000+5000\n",
    "\\end{align}\n",
    "$$"
   ]
  },
  {
   "cell_type": "code",
   "execution_count": null,
   "metadata": {
    "slideshow": {
     "slide_type": "subslide"
    }
   },
   "outputs": [],
   "source": [
    "#Let us define a Python function which returns the value of this\n",
    "import math\n",
    "def car_problem(c,p,v):\n",
    "#    import pdb; pdb.set_trace()\n",
    "    return [#Objective function values\n",
    "        c,-p,\n",
    "        (math.sqrt((p-50.)/50.)+((p-50.)/50.)**2+\n",
    "        0.3*(10.-c)+0.00001*(v-(1000.+3000.*(p-50.)/150.))**2)*10000.\n",
    "        +5000.] "
   ]
  },
  {
   "cell_type": "markdown",
   "metadata": {
    "slideshow": {
     "slide_type": "slide"
    }
   },
   "source": [
    "### Normalized car problem"
   ]
  },
  {
   "cell_type": "code",
   "execution_count": null,
   "metadata": {
    "slideshow": {
     "slide_type": "-"
    }
   },
   "outputs": [],
   "source": [
    "#Let us define a Python function which returns the value of this\n",
    "import math\n",
    "def car_problem_normalized(c,p,v):\n",
    "    z_ideal = [3.0, -200.0, 5000]\n",
    "    z_nadir = [10,-50,1033320.5080756888]\n",
    "#    import pdb; pdb.set_trace()\n",
    "    z = car_problem(c,p,v) \n",
    "    return [(zi-zideali)/(znadiri-zideali) for \n",
    "            (zi,zideali,znadiri) in zip(z,z_ideal,z_nadir)]"
   ]
  },
  {
   "cell_type": "code",
   "execution_count": null,
   "metadata": {},
   "outputs": [],
   "source": [
    "z_ideal = [3.0, -200.0, 5000]\n",
    "z_nadir = [10.,-50,1033320.5080756888]"
   ]
  },
  {
   "cell_type": "markdown",
   "metadata": {},
   "source": [
    "**From now on, we will deal with the normalized problem, although, we write just $f$.** The aim of this is to simplify presentation."
   ]
  },
  {
   "cell_type": "markdown",
   "metadata": {
    "slideshow": {
     "slide_type": "slide"
    }
   },
   "source": [
    "## A posteriori methods\n",
    "\n",
    "* A posteriori methods generate a representation of the Pareto optimal solutions, or the complete set of Pareto optimal solutions\n",
    "* Benefits\n",
    "  * The solutions can be visualized for problems with 2 or 3 objectives so the decision making is possible\n",
    "  * When succesful, they give an understanding of the Pareto front\n",
    "* Drawbacks\n",
    "  * Approximating the Pareto optimal set often time-consuming\n",
    "  * Decision making from a large representation may be very difficut"
   ]
  },
  {
   "cell_type": "markdown",
   "metadata": {
    "slideshow": {
     "slide_type": "slide"
    }
   },
   "source": [
    "### Epsilon-constraint method\n",
    "\n"
   ]
  },
  {
   "cell_type": "markdown",
   "metadata": {},
   "source": [
    "Based on solving optimization problem\n",
    "\n",
    "$$\n",
    "\\begin{align}\n",
    "\\min \\quad &f_j(x)\\\\\n",
    "\\text{s.t. }\\quad &x\\in S\\\\\n",
    "&f_i(x)\\leq \\epsilon_i \\text{ for all }i\\neq j\n",
    "\\end{align}\n",
    "$$\n",
    "\n",
    "for different bounds $\\epsilon_i, i\\neq j$. In other words, select one of the objectives ($f_j$) to be optimized and convert others as constraints ($f_i(x)\\leq \\epsilon_i$)."
   ]
  },
  {
   "cell_type": "markdown",
   "metadata": {
    "slideshow": {
     "slide_type": "slide"
    }
   },
   "source": [
    "**The idea is to generate $\\epsilon$ evenly within the bounds of the ideal and nadir vectors and then have evenly spread solutions.**\n",
    "\n",
    "**A solution $x^*$ is Pareto optimal, if it is the solution to the epsilon constraint problem for all $j=1,\\ldots,k$ and $\\epsilon = f(x^*)$.**\n",
    "\n",
    "![alt text](images/eps.svg \"Epsilon constraint method\")"
   ]
  },
  {
   "cell_type": "markdown",
   "metadata": {
    "slideshow": {
     "slide_type": "subslide"
    }
   },
   "source": [
    "### Application to our problem"
   ]
  },
  {
   "cell_type": "code",
   "execution_count": null,
   "metadata": {},
   "outputs": [],
   "source": [
    "import numpy as np\n",
    "from scipy.optimize import minimize\n",
    "import ad\n",
    "def e_constraint_method(f,eps,z_ideal,z_nadir):\n",
    "    points = []\n",
    "    start = [7,125,2500]\n",
    "    for epsi in eps:\n",
    "        bounds = ((3,epsi[0]*(z_nadir[0]-z_ideal[0])+z_ideal[0]), # f1(x) = (c-z1^ideal)/(z1^nadir-z1^ideal) <= eps_1\n",
    "                  (-1.*(epsi[1]*(z_nadir[1]-z_ideal[1])+z_ideal[1]), # f2(x) = (-p-z2^ideal)/(z2^nadir-z2^ideal) <= eps_2\n",
    "                   200),(1000,4000)) #Added bounds for two first objectives\n",
    "        res=minimize(\n",
    "            #minimize the third objective = Price\n",
    "            lambda x: f(x[0],x[1],x[2])[2], \n",
    "            start, method='SLSQP'\n",
    "            #Jacobian using automatic differentiation\n",
    "            ,jac=ad.gh(lambda x: f(x[0],x[1],x[2])[2])[0]\n",
    "            #bounds given above\n",
    "            ,bounds = bounds,options = {'disp':False})\n",
    "        if res.success:\n",
    "            points.append(res.x)\n",
    "    return points"
   ]
  },
  {
   "cell_type": "code",
   "execution_count": null,
   "metadata": {},
   "outputs": [],
   "source": [
    "eps = np.random.random((2000,2))\n",
    "repr_eps = e_constraint_method(car_problem_normalized,eps,z_ideal,z_nadir)"
   ]
  },
  {
   "cell_type": "code",
   "execution_count": null,
   "metadata": {},
   "outputs": [],
   "source": [
    "import matplotlib.pyplot as plt\n",
    "from mpl_toolkits.mplot3d import Axes3D\n",
    "def visualize_representation(func,repr):\n",
    "    f_repr = [func(repri[0],repri[1],repri[2]) for repri in repr]\n",
    "    print(min(f_repr))\n",
    "    print(max(f_repr))\n",
    "    fig = plt.figure()\n",
    "    ax = fig.add_subplot(111, projection='3d')\n",
    "    ax.scatter([f[0] for f in f_repr],[f[1] for f in f_repr],[f[2] for f in f_repr])\n",
    "    return plt"
   ]
  },
  {
   "cell_type": "code",
   "execution_count": null,
   "metadata": {},
   "outputs": [],
   "source": [
    "visualize_representation(car_problem,repr_eps).show()"
   ]
  },
  {
   "cell_type": "markdown",
   "metadata": {
    "slideshow": {
     "slide_type": "slide"
    }
   },
   "source": [
    "## Comparison of the weighted sum method and the epsilon constraint method"
   ]
  },
  {
   "cell_type": "code",
   "execution_count": null,
   "metadata": {},
   "outputs": [],
   "source": [
    "import numpy as np\n",
    "def weighting_method(f,w):\n",
    "    points = []\n",
    "    bounds = ((3,10),(50,200),(1000,4000)) #Bounds of the problem\n",
    "    start = [7,125,2500]\n",
    "    for wi in w:\n",
    "        res=minimize(\n",
    "            #weighted sum\n",
    "            lambda x: sum(np.array(wi)*np.array(f(x[0],x[1],x[2]))), \n",
    "            start, method='SLSQP'\n",
    "            #Jacobian using automatic differentiation\n",
    "            ,jac=ad.gh(lambda x: sum(np.array(wi)*np.array(f(x[0],x[1],x[2]))))[0]\n",
    "            #bounds given above\n",
    "            ,bounds = bounds,options = {'disp':False})\n",
    "        points.append(res.x)\n",
    "    return points"
   ]
  },
  {
   "cell_type": "code",
   "execution_count": null,
   "metadata": {},
   "outputs": [],
   "source": [
    "w = np.random.random((2000,3)) #500 random weights\n",
    "wn = w # normalized weights\n",
    "for i in range(len(w)):\n",
    "    s = sum(w[i])\n",
    "    for j in range(3):\n",
    "        wn[i][j] = w[i][j]/s\n",
    "repr_ws = weighting_method(car_problem_normalized,wn)\n",
    "#repr_ws = weighting_method(car_problem_normalized,w)"
   ]
  },
  {
   "cell_type": "code",
   "execution_count": null,
   "metadata": {},
   "outputs": [],
   "source": [
    "visualize_representation(car_problem,repr_ws).show()"
   ]
  },
  {
   "cell_type": "code",
   "execution_count": null,
   "metadata": {
    "slideshow": {
     "slide_type": "subslide"
    }
   },
   "outputs": [],
   "source": [
    "import matplotlib.pyplot as plt\n",
    "from mpl_toolkits.mplot3d import Axes3D\n",
    "def visualize_two_representations(func,repr1,repr2):\n",
    "    f_repr_1 = [func(repr1i[0],repr1i[1],repr1i[2]) for repr1i in repr1]\n",
    "    f_repr_2 = [func(repr2i[0],repr2i[1],repr2i[2]) for repr2i in repr2]\n",
    "    fig = plt.figure()\n",
    "    ax = fig.add_subplot(111, projection='3d')\n",
    "    #Mark solutions to epsilon constsraint problem using crosses\n",
    "    ax.scatter([f[0] for f in f_repr_1],[f[1] for f in f_repr_1],\n",
    "               [f[2] for f in f_repr_1],marker='x')\n",
    "    #Mark solutions to weighted sum problem using dots\n",
    "    ax.scatter([f[0] for f in f_repr_2],[f[1] for f in f_repr_2],\n",
    "               [f[2] for f in f_repr_2],marker='o')\n",
    "    return plt"
   ]
  },
  {
   "cell_type": "code",
   "execution_count": null,
   "metadata": {},
   "outputs": [],
   "source": [
    "visualize_two_representations(car_problem,repr_eps,repr_ws).show()"
   ]
  },
  {
   "cell_type": "markdown",
   "metadata": {
    "slideshow": {
     "slide_type": "fragment"
    }
   },
   "source": [
    "**The weighting method can find all the Pareto optimal solutions only, when the objective functions are convex and the feasible set $S$ is convex.** \n",
    "\n",
    "**The weighting method can produce very unevenly spread Pareto optimal solutions, even when the problem is convex.** \n",
    "\n",
    "**The epsilon constraint method, however, adds constraints to the problem, which may make it much harder to solve**"
   ]
  },
  {
   "cell_type": "markdown",
   "metadata": {
    "slideshow": {
     "slide_type": "slide"
    }
   },
   "source": [
    "## Note\n",
    "During the last 15-20 years, evolutionary multiobjective optimization (EMO) approaches have become popular in multiobjective optimization. They\n",
    "* operate on a population of solutions and their aim is to generate an approximation of the whole Pareto front (the set of all Pareto optimal solutions in the objective space),\n",
    "* are very efficient in solving problems with 2-3 objective functions although they typically use a large number of function evaluations,\n",
    "* are recently extended to work more efficiently for problems with more than 3 objective functions.\n",
    "\n",
    "During the last 5-10 years, decision maker preferences are incorporated to the EMO algorithms to 1) improve convergence and 2) find solutions that are preferred by the decision maker.\n",
    "* You can learn more about these approaches in the courses <a href=\"https://korppi.jyu.fi/kotka/course/student/generalCourseInfo.jsp?course=198768\">TIES451 Selected topics in soft computing</a> and <a href=\"https://korppi.jyu.fi/kotka/r.jsp?course=198878\">TIES598 Nonlinear Multiobjective Optimization</a>\n"
   ]
  },
  {
   "cell_type": "markdown",
   "metadata": {
    "slideshow": {
     "slide_type": "slide"
    }
   },
   "source": [
    "## A priori methods\n",
    "\n",
    "* A priori methods ask for preferences from the decision maker, and then find the Pareto optimal solution that best matches these preferences\n",
    "* Benefits\n",
    "  * If the decision maker knows what he/she wants and understands the preference information asked for, then application is fast\n",
    "* Drawbacks\n",
    "  * The decision maker may not know what he/she wants, because he does not know the Pareto optimal solutions\n",
    "  * The decision maker may not understand how the preferences he/she gives affect the solutions found"
   ]
  },
  {
   "cell_type": "markdown",
   "metadata": {
    "slideshow": {
     "slide_type": "slide"
    }
   },
   "source": [
    "## Achievement scalarizing problem\n",
    "\n",
    "There are multiple versions of the achievement scalarizing problem, but all of them are based on a refence point.\n",
    "\n",
    "A reference point\n",
    "$$z^{ref} = (z^{ref}_1,\\ldots,z^{ref}_k)$$\n",
    "contains preferable values (so-called aspiration levels) for the objectives.\n",
    "\n"
   ]
  },
  {
   "cell_type": "markdown",
   "metadata": {
    "slideshow": {
     "slide_type": "subslide"
    }
   },
   "source": [
    "Then the achievement scalarizing problem maps this point and a feasible solution to the multiobjective problem to a scalar (i.e., scalarizes it). One of the most commonly used is\n",
    "\n",
    "$$\n",
    "\\min_{x\\in S}\\left( \\max_{i=1}^k[f_i(x)-z_i^{ref}] +\\rho\\sum_{i=1}^kf_i(x)\\right)\n",
    "$$\n",
    "\n",
    "where $\\rho>0$ is a small value. The second part is called an augmentation term.\n",
    "\n",
    "**The solution to the problem is guaranteed to be Pareto optimal**\n",
    "\n",
    "**Any (properly) Pareto optimal solution can be found with some reference point**\n",
    "\n",
    "![alt text](images/ach.svg \"Achievement scalarizing method\")"
   ]
  },
  {
   "cell_type": "markdown",
   "metadata": {
    "slideshow": {
     "slide_type": "subslide"
    }
   },
   "source": [
    "### Application to our car problem"
   ]
  },
  {
   "cell_type": "code",
   "execution_count": null,
   "metadata": {},
   "outputs": [],
   "source": [
    "import numpy as np\n",
    "from scipy.optimize import minimize\n",
    "import ad\n",
    "def asf(f,ref,z_ideal,z_nadir,rho):\n",
    "    bounds = ((3,10),(50,200),(1000,4000)) #Bounds of the problem\n",
    "    #Normalizing the reference point\n",
    "    ref_norm = [(refi-z_ideali)/(z_nadiri-z_ideali) \n",
    "                for (refi,z_ideali,z_nadiri) in zip(ref,z_ideal,z_nadir)]\n",
    "    def obj(x):\n",
    "        return np.max(np.array(f(x[0],x[1],x[2]))-ref_norm)\\\n",
    "           +rho*np.sum(f(x[0],x[1],x[2]))\n",
    "    start = [7,125,2500]\n",
    "    res=minimize(\n",
    "        #Objective function defined above\n",
    "        obj, \n",
    "        start, method='SLSQP'\n",
    "        #Jacobian using automatic differentiation\n",
    "        ,jac=ad.gh(obj)[0]\n",
    "        #bounds given above\n",
    "        ,bounds = bounds,options = {'disp':True, 'ftol': 1e-20,\n",
    "                                    'maxiter': 1000})\n",
    "    return res"
   ]
  },
  {
   "cell_type": "code",
   "execution_count": null,
   "metadata": {
    "scrolled": false
   },
   "outputs": [],
   "source": [
    "rho = 0.000001\n",
    "#The reference point for the problem\n",
    "#ref =  [4,-60,12000] #To be added at the class\n",
    "ref =  z_ideal\n",
    "res = asf(car_problem_normalized,ref,z_ideal,z_nadir,rho)\n",
    "print(\"Solution is \",res.x)\n",
    "print(\"Objective function values are \",car_problem(res.x[0],res.x[1],res.x[2]))\n",
    "print(z_ideal)"
   ]
  },
  {
   "cell_type": "markdown",
   "metadata": {
    "slideshow": {
     "slide_type": "slide"
    }
   },
   "source": [
    "## Interactive methods\n",
    "\n",
    "* Interactive methods iteratively search for the preferred solution with decision maker and optimization alternating\n",
    "* Benefits\n",
    "  * Decision maker gets to learn about\n",
    "    * the available solutions, and\n",
    "    * how preferences affect the solutions found\n",
    "  * Computation is less intensive, because no need to generate a large representation of Pareto optimal solutions\n",
    "* Drawbacks\n",
    "  * Needs active involvement from the decision maker\n",
    "  * If the problem is computationally expensive, then the decision maker may need to wait a long time between solutions\n"
   ]
  },
  {
   "cell_type": "markdown",
   "metadata": {
    "slideshow": {
     "slide_type": "subslide"
    }
   },
   "source": [
    "## Interactive methods (cont)\n",
    "The steps of the general algorithm are the following:\n",
    "1. Initialize the solution process, e.g., calculate ideal and nadir objective vectors.\n",
    "2. Generate initial Pareto optimal solution to be used as a current solution.\n",
    "3. Show the current solution to the decision maker.\n",
    "4. Ask the decision maker to provide preference information related to the current solution.\n",
    "5. Generate new solution(s) based on the preference information.\n",
    "6. Show the solutions generated in step 5 to the decision maker. Ask her/him to select the best solution of those and denote it as the current solution.\n",
    "7. If the selected current solution is satisfactory for the decision maker, stop. Otherwise, continue from step 4."
   ]
  },
  {
   "cell_type": "markdown",
   "metadata": {
    "slideshow": {
     "slide_type": "subslide"
    }
   },
   "source": [
    "## Interactive methods (cont)\n",
    "\n",
    "**Interactive methods are one of the main research areas here at the Multiobjective optimization research group**\n",
    "\n",
    "We will demonstrate interactive methods by using the open source DESDEO framework developed at the research group (https://desdeo.it.jyu.fi/). DESDEO includes implementations of several interactive methods.\n"
   ]
  },
  {
   "cell_type": "markdown",
   "metadata": {
    "slideshow": {
     "slide_type": "subslide"
    }
   },
   "source": [
    "### The synchronous NIMBUS Method\n",
    "\n",
    "Introduced by Professors Kaisa Miettinen and Marko Mäkelä in 2006: \n",
    "\n",
    "<a href=\"https://www.sciencedirect.com/science/article/pii/S0377221704005260?casa_token=wEhNmXe5IQYAAAAA:ZXDms0f3S6J3568D-6ikVG3lHcYLLNaAPT04bBMF45nwUgTqrkpgWIsHhq77HyBfphpaNYad6ek\">*Miettinen, K. and Mäkelä, M. M., Synchronous approach in interactive multiobjective optimization, European Journal of Operational Research, 170: 909-922, 2006*</a> \n",
    "\n",
    "Is based on classification of objectives into \n",
    "* those that should be improved as much as possible,\n",
    "* those that should be improved until a given limit,\n",
    "* those that are acceptable at the moment,\n",
    "* those that can be allowed to worsen until a given limit,\n",
    "* those that are allowed to move freely at the moment.\n",
    "\n",
    "Synchronous NIMBUS is based on representing this information as four different single-objective optimization problems that are then solved and solutions are shown to the decision maker.\n",
    "\n",
    "![alt text](images/NIMBUS_flow.png \"NIMBUS Flowchart\")"
   ]
  },
  {
   "cell_type": "markdown",
   "metadata": {
    "slideshow": {
     "slide_type": "subslide"
    }
   },
   "source": [
    "## A note\n",
    "\n",
    "Reference point method: At each iteration, the decision maker provides a reference point and new solution is generated by using achievement scalarizing problem. Most of the subproblems in the synchronous NIMBUS method are based on this idea.\n"
   ]
  },
  {
   "cell_type": "markdown",
   "metadata": {
    "slideshow": {
     "slide_type": "subslide"
    }
   },
   "source": [
    "## Implementations of the NIMBUS method\n",
    "\n",
    "There also exists a WWW-NIMBUS (https://wwwnimbus.it.jyu.fi/) web implementation (has not been maintained in more than 10 years, but works).\n",
    "\n",
    "The Synchronous NIMBUS is implemented as a part of IND-NIMBUS (http://ind-nimbus.it.jyu.fi/) software framework. \n",
    "\n",
    "Recently, development of the DESDEO framework (https://desdeo.it.jyu.fi/) has been started to enable open-source framework for interactive multiobjective optimization."
   ]
  },
  {
   "cell_type": "markdown",
   "metadata": {
    "slideshow": {
     "slide_type": "slide"
    }
   },
   "source": [
    "## DESDEO framework\n",
    "\n",
    "We will have a closer look at the DESDEO framework: https://desdeo.it.jyu.fi/"
   ]
  },
  {
   "cell_type": "markdown",
   "metadata": {
    "slideshow": {
     "slide_type": "fragment"
    }
   },
   "source": [
    "The following example is from https://desdeo-mcdm.readthedocs.io/en/latest/notebooks/synchronous_nimbus.html. We will have a look at it there. \n",
    "\n",
    "The same example can be found below if you want to try it by yourself. "
   ]
  },
  {
   "cell_type": "code",
   "execution_count": null,
   "metadata": {},
   "outputs": [],
   "source": [
    "import numpy as np\n",
    "\n",
    "import matplotlib.pyplot as plt\n",
    "from desdeo_problem.Problem import MOProblem\n",
    "from desdeo_problem.Variable import variable_builder\n",
    "from desdeo_problem.Objective import _ScalarObjective\n",
    "\n",
    "def f_1(xs: np.ndarray):\n",
    "    xs = np.atleast_2d(xs)\n",
    "    xs_plusone = np.roll(xs, 1, axis=1)\n",
    "    return np.sum(-10*np.exp(-0.2*np.sqrt(xs[:, :-1]**2 + xs_plusone[:, :-1]**2)), axis=1)\n",
    "\n",
    "def f_2(xs: np.ndarray):\n",
    "    xs = np.atleast_2d(xs)\n",
    "    return np.sum(np.abs(xs)**0.8 + 5*np.sin(xs**3), axis=1)\n",
    "\n",
    "\n",
    "varsl = variable_builder(\n",
    "    [\"x_1\", \"x_2\", \"x_3\"],\n",
    "    initial_values=[0, 0, 0],\n",
    "    lower_bounds=[-5, -5, -5],\n",
    "    upper_bounds=[5, 5, 5],\n",
    ")\n",
    "\n",
    "f1 = _ScalarObjective(name=\"f1\", evaluator=f_1)\n",
    "f2 = _ScalarObjective(name=\"f2\", evaluator=f_2)\n",
    "\n",
    "problem = MOProblem(variables=varsl, objectives=[f1, f2], ideal=np.array([-20, -12]), nadir=np.array([-14, 0.5]))"
   ]
  },
  {
   "cell_type": "code",
   "execution_count": null,
   "metadata": {},
   "outputs": [],
   "source": [
    "from desdeo_mcdm.utilities.solvers import solve_pareto_front_representation\n",
    "\n",
    "p_front = solve_pareto_front_representation(problem, step=1.0)[1]\n",
    "\n",
    "plt.scatter(p_front[:, 0], p_front[:, 1], label=\"Pareto front\")\n",
    "plt.scatter(problem.ideal[0], problem.ideal[1], label=\"Ideal\")\n",
    "plt.scatter(problem.nadir[0], problem.nadir[1], label=\"Nadir\")\n",
    "plt.xlabel(\"f1\")\n",
    "plt.ylabel(\"f2\")\n",
    "plt.title(\"Approximate Pareto front of the Kursawe function\")\n",
    "plt.legend()\n",
    "plt.show()"
   ]
  },
  {
   "cell_type": "code",
   "execution_count": null,
   "metadata": {},
   "outputs": [],
   "source": [
    "from desdeo_mcdm.interactive.NIMBUS import NIMBUS\n",
    "\n",
    "method = NIMBUS(problem, \"scipy_de\")\n",
    "\n",
    "classification_request, plot_request = method.start()"
   ]
  },
  {
   "cell_type": "code",
   "execution_count": null,
   "metadata": {},
   "outputs": [],
   "source": [
    "print(classification_request.content.keys())"
   ]
  },
  {
   "cell_type": "code",
   "execution_count": null,
   "metadata": {},
   "outputs": [],
   "source": [
    "print(classification_request.content[\"message\"])"
   ]
  },
  {
   "cell_type": "code",
   "execution_count": null,
   "metadata": {},
   "outputs": [],
   "source": [
    "print(classification_request.content[\"objective_values\"])"
   ]
  },
  {
   "cell_type": "code",
   "execution_count": null,
   "metadata": {},
   "outputs": [],
   "source": [
    "print(classification_request.content[\"classifications\"])"
   ]
  },
  {
   "cell_type": "code",
   "execution_count": null,
   "metadata": {},
   "outputs": [],
   "source": [
    "response = {\n",
    "    \"classifications\": [\"<\", \">=\"],\n",
    "    \"number_of_solutions\": 3,\n",
    "    \"levels\": [0, -5]\n",
    "}\n",
    "classification_request.response = response"
   ]
  },
  {
   "cell_type": "code",
   "execution_count": null,
   "metadata": {},
   "outputs": [],
   "source": [
    "save_request, plot_request = method.iterate(classification_request)"
   ]
  },
  {
   "cell_type": "code",
   "execution_count": null,
   "metadata": {},
   "outputs": [],
   "source": [
    "print(save_request.content.keys())\n",
    "print(save_request.content[\"message\"])\n",
    "print(save_request.content[\"objectives\"])"
   ]
  },
  {
   "cell_type": "code",
   "execution_count": null,
   "metadata": {},
   "outputs": [],
   "source": [
    "response = {\"indices\": [0, 2]}\n",
    "save_request.response = response\n",
    "\n",
    "intermediate_request, plot_request = method.iterate(save_request)"
   ]
  },
  {
   "cell_type": "code",
   "execution_count": null,
   "metadata": {},
   "outputs": [],
   "source": [
    "print(intermediate_request.content.keys())\n",
    "print(intermediate_request.content[\"message\"])"
   ]
  },
  {
   "cell_type": "code",
   "execution_count": null,
   "metadata": {},
   "outputs": [],
   "source": [
    "response = {\"number_of_desired_solutions\": 0, \"indices\": []}\n",
    "intermediate_request.response = response\n",
    "\n",
    "preferred_request, plot_request = method.iterate(intermediate_request)"
   ]
  },
  {
   "cell_type": "code",
   "execution_count": null,
   "metadata": {},
   "outputs": [],
   "source": [
    "print(preferred_request.content.keys())\n",
    "print(preferred_request.content[\"message\"])"
   ]
  },
  {
   "cell_type": "code",
   "execution_count": null,
   "metadata": {},
   "outputs": [],
   "source": [
    "plt.scatter(p_front[:, 0], p_front[:, 1], label=\"Pareto front\")\n",
    "plt.scatter(problem.ideal[0], problem.ideal[1], label=\"Ideal\")\n",
    "plt.scatter(problem.nadir[0], problem.nadir[1], label=\"Nadir\")\n",
    "for i, z in enumerate(preferred_request.content[\"objectives\"]):\n",
    "    plt.scatter(z[0], z[1], label=f\"solution {i}\")\n",
    "plt.xlabel(\"f1\")\n",
    "plt.ylabel(\"f2\")\n",
    "plt.title(\"Approximate Pareto front of the Kursawe function\")\n",
    "plt.legend()\n",
    "plt.show()"
   ]
  },
  {
   "cell_type": "code",
   "execution_count": null,
   "metadata": {},
   "outputs": [],
   "source": [
    "response = {\"index\": 1, \"continue\": True}\n",
    "preferred_request.response = response\n",
    "\n",
    "classification_request, plot_request = method.iterate(preferred_request)"
   ]
  },
  {
   "cell_type": "code",
   "execution_count": null,
   "metadata": {},
   "outputs": [],
   "source": [
    "response = {\n",
    "    \"classifications\": [\">=\", \"<\"],\n",
    "    \"number_of_solutions\": 4,\n",
    "    \"levels\": [-16, -1]\n",
    "}\n",
    "classification_request.response = response\n",
    "\n",
    "save_request, plot_request = method.iterate(classification_request)"
   ]
  },
  {
   "cell_type": "code",
   "execution_count": null,
   "metadata": {},
   "outputs": [],
   "source": [
    "plt.scatter(p_front[:, 0], p_front[:, 1], label=\"Pareto front\")\n",
    "plt.scatter(problem.ideal[0], problem.ideal[1], label=\"Ideal\")\n",
    "plt.scatter(problem.nadir[0], problem.nadir[1], label=\"Nadir\")\n",
    "for i, z in enumerate(save_request.content[\"objectives\"]):\n",
    "    plt.scatter(z[0], z[1], label=f\"solution {i}\")\n",
    "plt.xlabel(\"f1\")\n",
    "plt.ylabel(\"f2\")\n",
    "plt.title(\"Approximate Pareto front of the Kursawe function\")\n",
    "plt.legend()\n",
    "plt.show()"
   ]
  },
  {
   "cell_type": "code",
   "execution_count": null,
   "metadata": {},
   "outputs": [],
   "source": [
    "response = {\"indices\": [0, 1, 2, 3]}\n",
    "save_request.response = response\n",
    "\n",
    "intermediate_request, plot_request = method.iterate(save_request)"
   ]
  },
  {
   "cell_type": "code",
   "execution_count": null,
   "metadata": {},
   "outputs": [],
   "source": [
    "plt.scatter(p_front[:, 0], p_front[:, 1], label=\"Pareto front\")\n",
    "plt.scatter(problem.ideal[0], problem.ideal[1], label=\"Ideal\")\n",
    "plt.scatter(problem.nadir[0], problem.nadir[1], label=\"Nadir\")\n",
    "for i, z in enumerate(intermediate_request.content[\"objectives\"]):\n",
    "    plt.scatter(z[0], z[1], label=f\"solution {i}\")\n",
    "plt.xlabel(\"f1\")\n",
    "plt.ylabel(\"f2\")\n",
    "plt.title(\"Approximate Pareto front of the Kursawe function\")\n",
    "plt.legend()\n",
    "plt.show()"
   ]
  },
  {
   "cell_type": "code",
   "execution_count": null,
   "metadata": {},
   "outputs": [],
   "source": [
    "response = {\n",
    "    \"indices\": [3, 4],\n",
    "    \"number_of_desired_solutions\": 3,\n",
    "    }\n",
    "intermediate_request.response = response\n",
    "\n",
    "save_request, plot_request = method.iterate(intermediate_request)"
   ]
  },
  {
   "cell_type": "code",
   "execution_count": null,
   "metadata": {},
   "outputs": [],
   "source": [
    "plt.scatter(problem.ideal[0], problem.ideal[1], label=\"Ideal\")\n",
    "plt.scatter(problem.nadir[0], problem.nadir[1], label=\"Nadir\")\n",
    "for i, z in enumerate(save_request.content[\"objectives\"]):\n",
    "    plt.scatter(z[0], z[1], label=f\"solution {i}\")\n",
    "plt.xlabel(\"f1\")\n",
    "plt.ylabel(\"f2\")\n",
    "plt.title(\"Approximate Pareto front of the Kursawe function\")\n",
    "plt.legend()\n",
    "plt.show()"
   ]
  },
  {
   "cell_type": "code",
   "execution_count": null,
   "metadata": {},
   "outputs": [],
   "source": [
    "response = {\"indices\": [1]}\n",
    "save_request.response = response\n",
    "\n",
    "intermediate_request, plot_request = method.iterate(save_request)"
   ]
  },
  {
   "cell_type": "code",
   "execution_count": null,
   "metadata": {},
   "outputs": [],
   "source": [
    "response = {\"number_of_desired_solutions\": 0, \"indices\": []}\n",
    "intermediate_request.response = response\n",
    "\n",
    "preferred_request, plot_request = method.iterate(intermediate_request)"
   ]
  },
  {
   "cell_type": "code",
   "execution_count": null,
   "metadata": {},
   "outputs": [],
   "source": [
    "plt.scatter(p_front[:, 0], p_front[:, 1], label=\"Pareto front\")\n",
    "plt.scatter(problem.ideal[0], problem.ideal[1], label=\"Ideal\")\n",
    "plt.scatter(problem.nadir[0], problem.nadir[1], label=\"Nadir\")\n",
    "for i, z in enumerate(preferred_request.content[\"objectives\"]):\n",
    "    plt.scatter(z[0], z[1], label=f\"solution {i}\")\n",
    "plt.xlabel(\"f1\")\n",
    "plt.ylabel(\"f2\")\n",
    "plt.title(\"Approximate Pareto front of the Kursawe function\")\n",
    "plt.legend()\n",
    "plt.show()"
   ]
  },
  {
   "cell_type": "code",
   "execution_count": null,
   "metadata": {},
   "outputs": [],
   "source": [
    "response = {\n",
    "    \"index\": 6,\n",
    "    \"continue\": False,\n",
    "    }\n",
    "\n",
    "preferred_request.response = response\n",
    "\n",
    "print(\"hello\")\n",
    "print(preferred_request)\n",
    "\n",
    "stop_request, plot_request = method.iterate(preferred_request)\n",
    "\n",
    "print(stop_request)"
   ]
  },
  {
   "cell_type": "code",
   "execution_count": null,
   "metadata": {},
   "outputs": [],
   "source": [
    "print(f\"Final decision variables: {stop_request.content['solution']}\")\n",
    "\n",
    "plt.scatter(p_front[:, 0], p_front[:, 1], label=\"Pareto front\")\n",
    "plt.scatter(problem.ideal[0], problem.ideal[1], label=\"Ideal\")\n",
    "plt.scatter(problem.nadir[0], problem.nadir[1], label=\"Nadir\")\n",
    "plt.scatter(stop_request.content[\"objective\"][0], stop_request.content[\"objective\"][1], label=f\"final solution\")\n",
    "plt.xlabel(\"f1\")\n",
    "plt.ylabel(\"f2\")\n",
    "plt.title(\"Approximate Pareto front of the Kursawe function\")\n",
    "plt.legend()\n",
    "plt.show()"
   ]
  }
 ],
 "metadata": {
  "anaconda-cloud": {},
  "celltoolbar": "Slideshow",
  "kernelspec": {
   "display_name": "Python 3",
   "language": "python",
   "name": "python3"
  },
  "language_info": {
   "codemirror_mode": {
    "name": "ipython",
    "version": 3
   },
   "file_extension": ".py",
   "mimetype": "text/x-python",
   "name": "python",
   "nbconvert_exporter": "python",
   "pygments_lexer": "ipython3",
   "version": "3.7.0"
  }
 },
 "nbformat": 4,
 "nbformat_minor": 1
}
